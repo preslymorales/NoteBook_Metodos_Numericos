{
 "cells": [
  {
   "cell_type": "markdown",
   "id": "dcfb7325",
   "metadata": {},
   "source": [
    "**MÉTODOS NÚMERICOS**\n",
    "\n",
    "**Nombre: Presly Morales**"
   ]
  },
  {
   "cell_type": "markdown",
   "id": "aadd4cd8",
   "metadata": {},
   "source": [
    "# Clase 1 (21/04/2025)"
   ]
  },
  {
   "cell_type": "markdown",
   "id": "f7ce64c1",
   "metadata": {},
   "source": [
    "## Métodos Analíticos"
   ]
  },
  {
   "cell_type": "markdown",
   "id": "2d199784",
   "metadata": {},
   "source": [
    "La solución en expresión matemática es exacta "
   ]
  },
  {
   "cell_type": "code",
   "execution_count": 4,
   "id": "2e986c2b",
   "metadata": {},
   "outputs": [
    {
     "name": "stdout",
     "output_type": "stream",
     "text": [
      "18\n"
     ]
    }
   ],
   "source": [
    "import math\n",
    "x = 3\n",
    "x = x**2 + 2*x + 3\n",
    "print(x)"
   ]
  },
  {
   "cell_type": "markdown",
   "id": "e89d0f25",
   "metadata": {},
   "source": [
    "## Métodos Numéricos\n"
   ]
  },
  {
   "cell_type": "markdown",
   "id": "eed5f927",
   "metadata": {},
   "source": [
    "La solución de forma numérica y no hay solución exacta.\n",
    "Aproximación de procesos matemáticos"
   ]
  },
  {
   "cell_type": "code",
   "execution_count": 7,
   "id": "7aa1aba5",
   "metadata": {},
   "outputs": [
    {
     "name": "stdout",
     "output_type": "stream",
     "text": [
      "1.7320508075688772\n"
     ]
    }
   ],
   "source": [
    "import math\n",
    "x = math.sqrt(3)\n",
    "print(x)"
   ]
  },
  {
   "cell_type": "markdown",
   "id": "d1ba4d7c",
   "metadata": {},
   "source": [
    "## Exactitud vs Precisión"
   ]
  },
  {
   "cell_type": "markdown",
   "id": "636074bb",
   "metadata": {},
   "source": [
    "Exactitud : Los valores obtenidos son cercanos al valor real.\n",
    "Precisión : Los valores obtenidos son cercanos entre sí."
   ]
  },
  {
   "cell_type": "code",
   "execution_count": 30,
   "id": "bd8c270c",
   "metadata": {},
   "outputs": [],
   "source": [
    "valor_real = 6\n",
    "valores_exactos = [5.8 , 6.4 ,5.99 ]\n",
    "valores_precisos = [5.4 , 5.43 ,5.42 ]\n",
    "valores_exactos_precisos= [5.99 , 5.99 ,6.01 ]\n",
    "\n",
    "def promedio(array):\n",
    "    if not array:\n",
    "        return 0\n",
    "    x = 0\n",
    "    i = 0\n",
    "    while i<len(array):\n",
    "        \n",
    "        x+= array[i]\n",
    "        i+=1\n",
    "    return x/i"
   ]
  },
  {
   "cell_type": "code",
   "execution_count": 31,
   "id": "42120212",
   "metadata": {},
   "outputs": [
    {
     "name": "stdout",
     "output_type": "stream",
     "text": [
      "Error Abs Valores Exactos:  0.06333333333333258\n",
      "Error Abs Valores Precisos:  0.583333333333333\n",
      "Error Abs Valores Exactos y Precisos:  0.0033333333333329662\n"
     ]
    }
   ],
   "source": [
    "error_abs_valores_exactos = abs(valor_real - promedio(valores_exactos))\n",
    "print(\"Error Abs Valores Exactos: \",error_abs_valores_exactos)\n",
    "error_abs_valores_precisos = abs(valor_real - promedio(valores_precisos))\n",
    "print(\"Error Abs Valores Precisos: \",error_abs_valores_precisos)\n",
    "error_abs_exactos_precisos = abs(valor_real - promedio(valores_exactos_precisos))\n",
    "print(\"Error Abs Valores Exactos y Precisos: \",error_abs_exactos_precisos)"
   ]
  },
  {
   "cell_type": "markdown",
   "id": "3778df0c",
   "metadata": {},
   "source": [
    "## Tipos de errores"
   ]
  },
  {
   "cell_type": "markdown",
   "id": "7b61ff4b",
   "metadata": {},
   "source": [
    "### Error de corte o truncamiento\n",
    "\n",
    "Un algortimo con trucamiento fijo puede ser exacto pero no preciso si se utiliza sin cuidado.>"
   ]
  },
  {
   "cell_type": "markdown",
   "id": "463bba5c",
   "metadata": {},
   "source": [
    "### Error de Redondeo\n",
    "\n",
    "Un algoritmo con mucho redondeo puede ser preciso pero no exacto"
   ]
  },
  {
   "cell_type": "code",
   "execution_count": 18,
   "id": "19e699a6",
   "metadata": {},
   "outputs": [
    {
     "name": "stdout",
     "output_type": "stream",
     "text": [
      "valor_real: 3.141592653589793\n",
      "valor_truncado: 3.1415\n",
      "valor_redondeado: 3.1416\n"
     ]
    }
   ],
   "source": [
    "import math\n",
    "\n",
    "def truncar(num, cifra):\n",
    "    aux = 10**cifra\n",
    "    return int(num*aux)/aux\n",
    "\n",
    "def redondear(num, cifra):\n",
    "    aux = 10**cifra\n",
    "    return int(num*aux+0.5)/aux\n",
    "    \n",
    "valor_realPi = math.pi\n",
    "print(f\"valor_real: {valor_realPi}\")\n",
    "valor_truncadoPi= truncar(valor_realPi,4)\n",
    "valor_redondeadoPi= redondear(valor_realPi,4)\n",
    "print(f\"valor_truncado: {valor_truncadoPi}\")\n",
    "print(f\"valor_redondeado: {valor_redondeadoPi}\")"
   ]
  },
  {
   "cell_type": "markdown",
   "id": "89d4a3a7",
   "metadata": {},
   "source": [
    "### Error por desbordamiento\n",
    "\n",
    "Es cuando el numuro por almacenar supera nuestra memoria disponible."
   ]
  },
  {
   "cell_type": "code",
   "execution_count": 11,
   "id": "2a1641c1",
   "metadata": {},
   "outputs": [
    {
     "name": "stdout",
     "output_type": "stream",
     "text": [
      "Máximo float: 1.7976931348623157e+308\n"
     ]
    }
   ],
   "source": [
    "import sys\n",
    "print(\"Máximo float:\",sys.float_info.max)\n",
    "max_float = sys.float_info.max"
   ]
  },
  {
   "cell_type": "code",
   "execution_count": 12,
   "id": "33c6e60e",
   "metadata": {},
   "outputs": [
    {
     "ename": "OverflowError",
     "evalue": "(34, 'Result too large')",
     "output_type": "error",
     "traceback": [
      "\u001b[31m---------------------------------------------------------------------------\u001b[39m",
      "\u001b[31mOverflowError\u001b[39m                             Traceback (most recent call last)",
      "\u001b[36mCell\u001b[39m\u001b[36m \u001b[39m\u001b[32mIn[12]\u001b[39m\u001b[32m, line 1\u001b[39m\n\u001b[32m----> \u001b[39m\u001b[32m1\u001b[39m desbordamiento = \u001b[43mmax_float\u001b[49m\u001b[43m*\u001b[49m\u001b[43m*\u001b[49m\u001b[32;43m3\u001b[39;49m\n\u001b[32m      2\u001b[39m \u001b[38;5;28mprint\u001b[39m(desbordamiento)\n",
      "\u001b[31mOverflowError\u001b[39m: (34, 'Result too large')"
     ]
    }
   ],
   "source": [
    "desbordamiento = max_float**3\n",
    "print(desbordamiento)\n"
   ]
  },
  {
   "cell_type": "markdown",
   "id": "f9cad408",
   "metadata": {},
   "source": [
    "## Cálculo de error"
   ]
  },
  {
   "cell_type": "markdown",
   "id": "cef9081d",
   "metadata": {},
   "source": [
    "### Error Real"
   ]
  },
  {
   "cell_type": "code",
   "execution_count": 25,
   "id": "dab41700",
   "metadata": {},
   "outputs": [],
   "source": [
    "def errorReal(num,aproximacion):\n",
    "    return num-aproximacion"
   ]
  },
  {
   "cell_type": "markdown",
   "id": "2e054446",
   "metadata": {},
   "source": [
    "### Error Absoluto"
   ]
  },
  {
   "cell_type": "code",
   "execution_count": 26,
   "id": "915698d4",
   "metadata": {},
   "outputs": [],
   "source": [
    "def errorAbsoluto(num,aproximacion):\n",
    "    return abs(num-aproximacion)"
   ]
  },
  {
   "cell_type": "markdown",
   "id": "8b99227e",
   "metadata": {},
   "source": [
    "### Error Relativo"
   ]
  },
  {
   "cell_type": "code",
   "execution_count": 27,
   "id": "6c59d920",
   "metadata": {},
   "outputs": [],
   "source": [
    "def errorRelativo(num,aproximacion):\n",
    "    return errorAbsoluto(num,aproximacion)/abs(num)"
   ]
  },
  {
   "cell_type": "markdown",
   "id": "65fbe303",
   "metadata": {},
   "source": [
    "### Error Relativo Porcentual"
   ]
  },
  {
   "cell_type": "code",
   "execution_count": 28,
   "id": "9cfb14f7",
   "metadata": {},
   "outputs": [],
   "source": [
    "def errorRelativoPorcentual(num,aproximacion):\n",
    "    return errorRelativo(num,aproximacion)*100"
   ]
  },
  {
   "cell_type": "markdown",
   "id": "f0c0e448",
   "metadata": {},
   "source": [
    "## Resultado de los calculos"
   ]
  },
  {
   "cell_type": "code",
   "execution_count": 24,
   "id": "c1bf05b9",
   "metadata": {},
   "outputs": [
    {
     "name": "stdout",
     "output_type": "stream",
     "text": [
      "Valor real:  3.141592653589793\n",
      "Valor truncado:  3.1415\n",
      "Error Real:  9.265358979293481e-05\n",
      "Error Absoluto:  9.265358979293481e-05\n",
      "Error Relativo:  2.9492553621508708e-05\n",
      "Error Relativo Porcentual:  0.002949255362150871\n"
     ]
    }
   ],
   "source": [
    "print(\"Valor real: \",valor_realPi)\n",
    "print(\"Valor truncado: \",valor_truncadoPi)\n",
    "print(\"Error Real: \",errorReal(valor_realPi,valor_truncadoPi))\n",
    "print(\"Error Absoluto: \",errorAbsoluto(valor_realPi,valor_truncadoPi))\n",
    "print(\"Error Relativo: \",errorRelativo(valor_realPi,valor_truncadoPi))\n",
    "print(\"Error Relativo Porcentual: \",errorRelativoPorcentual(valor_realPi,valor_truncadoPi))"
   ]
  }
 ],
 "metadata": {
  "kernelspec": {
   "display_name": "Python 3",
   "language": "python",
   "name": "python3"
  },
  "language_info": {
   "codemirror_mode": {
    "name": "ipython",
    "version": 3
   },
   "file_extension": ".py",
   "mimetype": "text/x-python",
   "name": "python",
   "nbconvert_exporter": "python",
   "pygments_lexer": "ipython3",
   "version": "3.13.3"
  }
 },
 "nbformat": 4,
 "nbformat_minor": 5
}
