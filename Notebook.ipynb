{
 "cells": [
  {
   "cell_type": "markdown",
   "id": "dcfb7325",
   "metadata": {},
   "source": [
    "**MÉTODOS NÚMERICOS**\n",
    "\n",
    "**Nombre: Presly Morales**"
   ]
  },
  {
   "cell_type": "markdown",
   "id": "aadd4cd8",
   "metadata": {},
   "source": [
    "# Unidad 1 Preliminares Matemáticos Codificación #1"
   ]
  },
  {
   "cell_type": "markdown",
   "id": "f7ce64c1",
   "metadata": {},
   "source": [
    "## Métodos Analíticos"
   ]
  },
  {
   "cell_type": "markdown",
   "id": "2d199784",
   "metadata": {},
   "source": [
    "La solución en expresión matemática es exacta "
   ]
  },
  {
   "cell_type": "code",
   "execution_count": 8,
   "id": "2e986c2b",
   "metadata": {},
   "outputs": [
    {
     "name": "stdout",
     "output_type": "stream",
     "text": [
      "18\n"
     ]
    }
   ],
   "source": [
    "import math\n",
    "import matplotlib.pyplot as plt\n",
    "import numpy as np\n",
    "import sympy as sp\n",
    "from sympy import Poly\n",
    "\n",
    "x = 3\n",
    "x = x**2 + 2*x + 3\n",
    "print(x)"
   ]
  },
  {
   "cell_type": "markdown",
   "id": "e89d0f25",
   "metadata": {},
   "source": [
    "## Métodos Numéricos\n"
   ]
  },
  {
   "cell_type": "markdown",
   "id": "eed5f927",
   "metadata": {},
   "source": [
    "La solución de forma numérica y no hay solución exacta.\n",
    "Aproximación de procesos matemáticos"
   ]
  },
  {
   "cell_type": "code",
   "execution_count": 4,
   "id": "7aa1aba5",
   "metadata": {},
   "outputs": [
    {
     "name": "stdout",
     "output_type": "stream",
     "text": [
      "1.7320508075688772\n"
     ]
    }
   ],
   "source": [
    "x = math.sqrt(3)\n",
    "print(x)"
   ]
  },
  {
   "cell_type": "markdown",
   "id": "d1ba4d7c",
   "metadata": {},
   "source": [
    "## Exactitud vs Precisión"
   ]
  },
  {
   "cell_type": "markdown",
   "id": "636074bb",
   "metadata": {},
   "source": [
    "Exactitud : Los valores obtenidos son cercanos al valor real.\n",
    "Precisión : Los valores obtenidos son cercanos entre sí."
   ]
  },
  {
   "cell_type": "code",
   "execution_count": 5,
   "id": "bd8c270c",
   "metadata": {},
   "outputs": [],
   "source": [
    "valor_real = 6\n",
    "valores_exactos = [5.8 , 6.4 ,5.99 ]\n",
    "valores_precisos = [5.4 , 5.43 ,5.42 ]\n",
    "valores_exactos_precisos= [5.99 , 5.99 ,6.01 ]\n",
    "\n",
    "def promedio(array): \n",
    "    if not array: #revisa si el array esta vacio\n",
    "        return 0\n",
    "    x = 0\n",
    "    i = 0\n",
    "    while i<len(array): #mientras el array este lleno\n",
    "        \n",
    "        x+= array[i] #suma todos los elementos\n",
    "        i+=1\n",
    "    return x/i #divide la suma para el total de elementos"
   ]
  },
  {
   "cell_type": "code",
   "execution_count": 6,
   "id": "42120212",
   "metadata": {},
   "outputs": [
    {
     "name": "stdout",
     "output_type": "stream",
     "text": [
      "Error Abs Valores Exactos:  0.06333333333333258\n",
      "Error Abs Valores Precisos:  0.583333333333333\n",
      "Error Abs Valores Exactos y Precisos:  0.0033333333333329662\n"
     ]
    }
   ],
   "source": [
    "error_abs_valores_exactos = abs(valor_real - promedio(valores_exactos))\n",
    "print(\"Error Abs Valores Exactos: \",error_abs_valores_exactos)\n",
    "error_abs_valores_precisos = abs(valor_real - promedio(valores_precisos))\n",
    "print(\"Error Abs Valores Precisos: \",error_abs_valores_precisos)\n",
    "error_abs_exactos_precisos = abs(valor_real - promedio(valores_exactos_precisos))\n",
    "print(\"Error Abs Valores Exactos y Precisos: \",error_abs_exactos_precisos)"
   ]
  },
  {
   "cell_type": "markdown",
   "id": "3778df0c",
   "metadata": {},
   "source": [
    "## Tipos de errores"
   ]
  },
  {
   "cell_type": "markdown",
   "id": "7b61ff4b",
   "metadata": {},
   "source": [
    "### Error de corte o truncamiento\n",
    "\n",
    "Un algortimo con trucamiento fijo puede ser exacto pero no preciso si se utiliza sin cuidado.>"
   ]
  },
  {
   "cell_type": "markdown",
   "id": "463bba5c",
   "metadata": {},
   "source": [
    "### Error de Redondeo\n",
    "\n",
    "Un algoritmo con mucho redondeo puede ser preciso pero no exacto"
   ]
  },
  {
   "cell_type": "code",
   "execution_count": 7,
   "id": "19e699a6",
   "metadata": {},
   "outputs": [
    {
     "name": "stdout",
     "output_type": "stream",
     "text": [
      "valor_real: 3.141592653589793\n",
      "valor_truncado: 3.1415\n",
      "valor_redondeado: 3.1416\n"
     ]
    }
   ],
   "source": [
    "import math\n",
    "\n",
    "def truncar(num, cifra):\n",
    "    aux = 10**cifra #se obtiene el n espacio de recorrido de la coma\n",
    "    return int(num*aux)/aux #se recorre la coma hacia der con el aux ,se extrae la parte entera ,y se recorre la coma hacia la der\n",
    "\n",
    "def redondear(num, cifra):\n",
    "    aux = 10**cifra\n",
    "    return int(num*aux+0.5)/aux #utiliza la misma logica q la funcion truncar pero se suma 0.5 para hacer el redondeo a un numero =>5\n",
    "    \n",
    "valor_realPi = math.pi\n",
    "print(f\"valor_real: {valor_realPi}\")\n",
    "valor_truncadoPi= truncar(valor_realPi,4)\n",
    "valor_redondeadoPi= redondear(valor_realPi,4)\n",
    "print(f\"valor_truncado: {valor_truncadoPi}\")\n",
    "print(f\"valor_redondeado: {valor_redondeadoPi}\")"
   ]
  },
  {
   "cell_type": "markdown",
   "id": "89d4a3a7",
   "metadata": {},
   "source": [
    "### Error por desbordamiento\n",
    "\n",
    "Es cuando el numuro por almacenar supera nuestra memoria disponible."
   ]
  },
  {
   "cell_type": "code",
   "execution_count": 8,
   "id": "2a1641c1",
   "metadata": {},
   "outputs": [
    {
     "name": "stdout",
     "output_type": "stream",
     "text": [
      "Máximo float: 1.7976931348623157e+308\n"
     ]
    }
   ],
   "source": [
    "import sys\n",
    "print(\"Máximo float:\",sys.float_info.max) #maxima representacion del sistema en formato float\n",
    "max_float = sys.float_info.max"
   ]
  },
  {
   "cell_type": "code",
   "execution_count": 9,
   "id": "33c6e60e",
   "metadata": {},
   "outputs": [
    {
     "ename": "OverflowError",
     "evalue": "(34, 'Result too large')",
     "output_type": "error",
     "traceback": [
      "\u001b[31m---------------------------------------------------------------------------\u001b[39m",
      "\u001b[31mOverflowError\u001b[39m                             Traceback (most recent call last)",
      "\u001b[36mCell\u001b[39m\u001b[36m \u001b[39m\u001b[32mIn[9]\u001b[39m\u001b[32m, line 1\u001b[39m\n\u001b[32m----> \u001b[39m\u001b[32m1\u001b[39m desbordamiento = \u001b[43mmax_float\u001b[49m\u001b[43m*\u001b[49m\u001b[43m*\u001b[49m\u001b[32;43m3\u001b[39;49m\n\u001b[32m      2\u001b[39m \u001b[38;5;28mprint\u001b[39m(desbordamiento)\n",
      "\u001b[31mOverflowError\u001b[39m: (34, 'Result too large')"
     ]
    }
   ],
   "source": [
    "desbordamiento = max_float**3\n",
    "print(desbordamiento)\n"
   ]
  },
  {
   "cell_type": "markdown",
   "id": "f9cad408",
   "metadata": {},
   "source": [
    "## Cálculo de error"
   ]
  },
  {
   "cell_type": "markdown",
   "id": "cef9081d",
   "metadata": {},
   "source": [
    "### Error Real"
   ]
  },
  {
   "cell_type": "code",
   "execution_count": 10,
   "id": "dab41700",
   "metadata": {},
   "outputs": [],
   "source": [
    "def errorReal(num,aproximacion):\n",
    "    return num-aproximacion"
   ]
  },
  {
   "cell_type": "markdown",
   "id": "2e054446",
   "metadata": {},
   "source": [
    "### Error Absoluto"
   ]
  },
  {
   "cell_type": "code",
   "execution_count": 11,
   "id": "915698d4",
   "metadata": {},
   "outputs": [],
   "source": [
    "def errorAbsoluto(num,aproximacion):\n",
    "    return abs(num-aproximacion)"
   ]
  },
  {
   "cell_type": "markdown",
   "id": "8b99227e",
   "metadata": {},
   "source": [
    "### Error Relativo"
   ]
  },
  {
   "cell_type": "code",
   "execution_count": 12,
   "id": "6c59d920",
   "metadata": {},
   "outputs": [],
   "source": [
    "def errorRelativo(num,aproximacion):\n",
    "    return errorAbsoluto(num,aproximacion)/abs(num)"
   ]
  },
  {
   "cell_type": "markdown",
   "id": "65fbe303",
   "metadata": {},
   "source": [
    "### Error Relativo Porcentual"
   ]
  },
  {
   "cell_type": "code",
   "execution_count": 13,
   "id": "9cfb14f7",
   "metadata": {},
   "outputs": [],
   "source": [
    "def errorRelativoPorcentual(num,aproximacion):\n",
    "    return errorRelativo(num,aproximacion)*100"
   ]
  },
  {
   "cell_type": "markdown",
   "id": "f0c0e448",
   "metadata": {},
   "source": [
    "## Resultado de los calculos"
   ]
  },
  {
   "cell_type": "code",
   "execution_count": 14,
   "id": "c1bf05b9",
   "metadata": {},
   "outputs": [
    {
     "name": "stdout",
     "output_type": "stream",
     "text": [
      "Valor real:  3.141592653589793\n",
      "Valor truncado:  3.1415\n",
      "Error Real:  9.265358979293481e-05\n",
      "Error Absoluto:  9.265358979293481e-05\n",
      "Error Relativo:  2.9492553621508708e-05\n",
      "Error Relativo Porcentual:  0.002949255362150871\n"
     ]
    }
   ],
   "source": [
    "print(\"Valor real: \",valor_realPi)\n",
    "print(\"Valor truncado: \",valor_truncadoPi)\n",
    "print(\"Error Real: \",errorReal(valor_realPi,valor_truncadoPi))\n",
    "print(\"Error Absoluto: \",errorAbsoluto(valor_realPi,valor_truncadoPi))\n",
    "print(\"Error Relativo: \",errorRelativo(valor_realPi,valor_truncadoPi))\n",
    "print(\"Error Relativo Porcentual: \",errorRelativoPorcentual(valor_realPi,valor_truncadoPi))"
   ]
  },
  {
   "cell_type": "markdown",
   "id": "97d0b26d",
   "metadata": {},
   "source": [
    "# Unidad 1 Preliminares Matemáticos Codificación #2"
   ]
  },
  {
   "cell_type": "markdown",
   "id": "30e2edbe",
   "metadata": {},
   "source": [
    "## Representación Numérica 32 y 64 bits"
   ]
  },
  {
   "attachments": {
    "64bits.jpeg": {
     "image/jpeg": "[encoded data removed]"
    }
   },
   "cell_type": "markdown",
   "id": "85afc1a4",
   "metadata": {},
   "source": [
    "![64bits.jpeg](attachment:64bits.jpeg)  \n",
    "- Primero colocamos el primer bit que hace referencia al signo del número, en este caso es negativo entonces colocamos el número $1$.Separamos la parte entera y decimal del número y los convertimos a binario.\n",
    "- Para convertir la parte entera a binario: se divide el numero para dos ,si el residuo es igual o mayor a 5 se coloca 1 y se es menor a 5 se coloca 0,es decir la parte decimal del resultado es igual o mayor a 0.5 se coloca 1 y se es menor se coloca 0. \n",
    "\n",
    "- El procedimiento se realiza hasta que la parte entera del numero a dividir para 2 sea cero.hora se ordena los números obtenidos de abajo hacia arriba, realizando así la cadena de 0 y 1 que representa el numero en binario.\n",
    "\n",
    "- Para convertir la parte decimal o binario: se debe multiplicar solo la parte decimal por dos, si la parte entera es 0 se registrara 0 y si es 1 se registrara 1 ,este procedimiento se repite hasta que la parte decimal sea igual a 0 o se tenga un ciclo en los resultados es decir un decimal periódico o cuando ya tenemos los datos suficientes que necesitamos.\n",
    "\n",
    "- Para obtener la representación en binario de la parte decimal se debe ordenar de arriba hacia abajo la cadena de 0 y 1.Obteniendo así nuestra conversión. Entonces al unir la parte binaria del numero entero y el decimal se obtiene finalmente la representación del numero completo en forma binaria. \n",
    "- Ahora debemos obtener el exponente y la mantisa del formato IEEE754 de 32 o 64 bits. Para eso debemos pasar a notación científica nuestra expresión ,es decir debemos recorrer la coma hasta que, una sola cifra antes de la coma sea 1.\n",
    "- Al tener el número en notación científica se suma 127 o 1024 al exponente y el resultado lo transformamos a binario ,el numero binario resultante es nuestro exponente de 8 o 11 bits en el formato IEEE754. Ahora convertimos a binario usando la técnica antes mencionada.- Ahora tomamos los dígitos que están después de la coma en la representación científica, ellos representan los 23 bits correspondientes de la mantisa. Estos se colocan en orden hasta llenar los 23 o 52 bits ,si el binario no llena todos los espacios ,estos se llenan con cero a excepción de los binarios que representas decimales periódicos. \n",
    "- Finalmente tomamos los bits tanto del signo como del exponente y de la mantisa y lo unimos ,consiguiendo así la representación de formato IEEE754 de 32 o 64 bits de nuestro número.\n",
    "        "
   ]
  },
  {
   "cell_type": "code",
   "execution_count": 1,
   "id": "9b54f432",
   "metadata": {},
   "outputs": [],
   "source": [
    "def converBina(num,parte,numdigit=''):\n",
    "    if num == 0: #si el numero es cero\n",
    "        return \"0\"\n",
    "    binario = \"\" #inica el str para almacenar los bits\n",
    "    if parte =='int': #si es la parte entera del numero\n",
    "        i=0\n",
    "        if not numdigit=='': #si hay parametro de num max de digitos\n",
    "            while num > 0 and i <numdigit: #si el num es mayor a 0 y iteracion es menor que el num de digitos\n",
    "                binario = str(num % 2) + binario #obtiene el residuo de la division del numero para 2 =(0,1) y suma a la cadena del binario\n",
    "                num //= 2 #divide el num para dos\n",
    "                i += 1 #aumenta el num de iteracion\n",
    "            return binario\n",
    "        else:\n",
    "            while num > 0: #si no hay parametro de num max de digitos solo revisa si el num es mayor a 0\n",
    "                binario = str(num % 2) + binario #realiza lo explicado anterior mente\n",
    "                num //= 2\n",
    "            return binario\n",
    "    if parte =='dec': #si es la parte decimal del numero\n",
    "        i=0\n",
    "        if not numdigit=='': #verifica si hay parametro num max de digitos\n",
    "            while num > 0 and i < numdigit:\n",
    "                num *= 2 #multiplica el num para dos\n",
    "                bit = int(num) #obtiene solo la parte entera\n",
    "                binario += str(bit) #agrega a la cadena de bits\n",
    "                num -= bit #resta la parte entera del numero\n",
    "                i += 1 #agrega una iteracion\n",
    "            return binario\n",
    "        else:\n",
    "            while num > 0 : #si no hay parametro de num max de digitos\n",
    "                num *= 2\n",
    "                bit = int(num)\n",
    "                binario += str(bit)\n",
    "                num -= bit\n",
    "            return binario"
   ]
  },
  {
   "cell_type": "code",
   "execution_count": 2,
   "id": "49023a1f",
   "metadata": {},
   "outputs": [],
   "source": [
    "\n",
    "def converDeci(binario,parte,numdigit=''):\n",
    "    decimal=0\n",
    "    if parte == 'int': #si el binario es de la parte entera\n",
    "        potencia=0\n",
    "        for bit in reversed(binario): #voltea la lista y obtiene cada bit\n",
    "            if bit == '1': #si el bit es 1\n",
    "                decimal += 2 ** potencia #obtiene el resultado de base elevada a la posicion del bit\n",
    "            potencia += 1 #aumenta el valor de la posicion\n",
    "        return decimal\n",
    "    elif parte == 'dec': #si el binario es de la parte decimal\n",
    "        potencia=-1\n",
    "        for bit in binario: #obtiene cada bit del num binario\n",
    "            if bit == '1': #verifica si es 1\n",
    "                decimal+=2 ** potencia #eleva a la posicion pero en negativo porq es decimal\n",
    "            potencia-=1\n",
    "        return decimal\n"
   ]
  },
  {
   "cell_type": "code",
   "execution_count": 3,
   "id": "ad8faf9e",
   "metadata": {},
   "outputs": [],
   "source": [
    "def relleCero(aux,size,lado):  #funcion para rellanar con ceros tanto a izq como derecha \n",
    "    if lado =='der':            #en caso de que al exponente o a la mantiza les falta bits.\n",
    "        if not len(aux)>=size:\n",
    "            return aux+'0'*(size-len(aux))\n",
    "    if lado =='izq':\n",
    "        if not len(aux)>=size:\n",
    "            return '0'*(size-len(aux))+aux"
   ]
  },
  {
   "cell_type": "code",
   "execution_count": 4,
   "id": "5e9ce329",
   "metadata": {},
   "outputs": [],
   "source": [
    "\n",
    "def converIEE(num,bits):\n",
    "    signo = '0' \n",
    "    if num < 0: #obtiene el bit del signo\n",
    "        signo = '1'\n",
    "        num = -num\n",
    "    parte_entera = int(num) #obtiene la parte entera del numero\n",
    "    parte_decimal = num - parte_entera #obtiene la parte decimal del numero\n",
    "\n",
    "    bin_entera = converBina(parte_entera,'int') #convertimos a binario\n",
    "    \n",
    "    if bits ==32: #obtiene el num max de digitos que debe tener el binario para rellenar la mantisa\n",
    "        aux = 23-len(bin_entera)\n",
    "    elif bits==64:\n",
    "        aux = 52-len(bin_entera)\n",
    "    \n",
    "    bin_decimal = converBina(parte_decimal,'dec',aux) #convierte a binario\n",
    "     \n",
    "    if parte_entera != 0: #si parte entera no es 0\n",
    "        exponente = len(bin_entera) - 1 #obtiene el exponente\n",
    "        mantisa = bin_entera[1:] + bin_decimal #une la parte de binario entero apartir del 1 uno y parte binaria decimal\n",
    "    else:\n",
    "        primeruno = bin_decimal.find('1') + 1  #encuentra la posicion del primer 1\n",
    "        exponente = -primeruno \n",
    "        mantisa = bin_decimal[primeruno:] #obtiene la cadena apartir del primer uno\n",
    "\n",
    "    if bits == 32: #revisa si es representacion ieee 32 o 64 bits\n",
    "        exponente+=127\n",
    "        exponente_bin = converBina(exponente,'int',8) #convierte el exponente a binario\n",
    "        if not len(exponente_bin)==8:\n",
    "            exponente_bin = relleCero(exponente_bin,8,'izq') #si no tiene 8 bits en total lo rellena con 0\n",
    "        if not len(mantisa)==23:\n",
    "            mantisa_bin = relleCero(mantisa,23,'der')  #si no tiene 23 bits en total lo rellena con 0\n",
    "    elif bits ==64:\n",
    "        exponente+=1023\n",
    "        exponente_bin = converBina(exponente,'int',11) #convierte el exponente a binario\n",
    "        if not len(exponente_bin)==11:\n",
    "            exponente_bin = relleCero(exponente_bin,11,'izq') #si no tiene 11 bits en total lo rellena con 0\n",
    "        if not len(mantisa)==52:\n",
    "            mantisa_bin = relleCero(mantisa,52,'der') #si no tiene 52 bits en total lo rellena con 0\n",
    "\n",
    "    ieee = signo + exponente_bin + mantisa_bin #crea la representacion\n",
    "    return ieee"
   ]
  },
  {
   "cell_type": "code",
   "execution_count": 5,
   "id": "c35500a3",
   "metadata": {},
   "outputs": [
    {
     "name": "stdout",
     "output_type": "stream",
     "text": [
      "Rpresentación Numerica IEEE del número :169.3 : 01000011001010010100110011001100\n"
     ]
    }
   ],
   "source": [
    "num = 169.3\n",
    "print(f\"Rpresentación Numerica IEEE del número :{num} : {converIEE(num,32)}\")"
   ]
  },
  {
   "cell_type": "markdown",
   "id": "28b8343b",
   "metadata": {},
   "source": [
    "Para convertir de binario a decimal\n",
    "se tiene la siguiente formula:\n",
    "\n",
    "$x = (-1)^{s} 2^{c-127} (1+f)$\n",
    "- Donde S: signo (0 positivo, 1 negativo)\n",
    "- c : exponente\n",
    "- f: mantisa(fracción binaria)"
   ]
  },
  {
   "cell_type": "code",
   "execution_count": 20,
   "id": "5930d59b",
   "metadata": {},
   "outputs": [],
   "source": [
    "def binario_decimal(s,c,f,tipo):\n",
    "    if tipo == 32:\n",
    "        exp =127\n",
    "    if tipo == 64:\n",
    "        exp =1023\n",
    "    return (-1)**s * 2**(c-exp) * (1+f)"
   ]
  },
  {
   "cell_type": "code",
   "execution_count": 21,
   "id": "bac345ea",
   "metadata": {},
   "outputs": [
    {
     "name": "stdout",
     "output_type": "stream",
     "text": [
      "Número convertido de binario a decimal:398.64\n"
     ]
    }
   ],
   "source": [
    "signo = 0\n",
    "exponente = 1031\n",
    "mantisa = 0.5571875\n",
    "print(f\"Número convertido de binario a decimal:{binario_decimal(signo,exponente,mantisa,64)}\")"
   ]
  },
  {
   "cell_type": "markdown",
   "id": "97bb0613",
   "metadata": {},
   "source": [
    "## Aritmética de Computador"
   ]
  },
  {
   "cell_type": "markdown",
   "id": "bdbfdeb3",
   "metadata": {},
   "source": [
    "En computación es fundamental ya que las máquinas operan con un número finito de dígitos.  \n",
    "Se representa en punto flotante.Incluido sus aperaciones como suma ,resta,multiplicación y división."
   ]
  },
  {
   "cell_type": "code",
   "execution_count": null,
   "id": "fe897e33",
   "metadata": {},
   "outputs": [],
   "source": [
    "def repre_float(num): #convierte a punto flotante\n",
    "    if num == 0:\n",
    "        return 0.0\n",
    "    while abs(num) >= 1:\n",
    "        num /= 10\n",
    "    return num\n",
    "def sumaAriCom(num1, num2): #suma en aritmética de computador\n",
    "    suma = num1 + num2\n",
    "    return repre_float(suma)\n",
    "\n",
    "def restaAriCom(num1, num2): #resta en aritmética de computador\n",
    "    resta = num1 - num2\n",
    "    return repre_float(resta)\n",
    "\n",
    "def multiplicacionAriCom(num1, num2): #multiplicación en aritmética de computador\n",
    "    mult = num1 * num2\n",
    "    return repre_float(mult)\n",
    "\n",
    "def divisionAriCom(num1, num2): #división en aritmética de computador\n",
    "    if num2 != 0:\n",
    "        divis = num1 / num2\n",
    "        return repre_float(divis)\n",
    "    else:\n",
    "        raise ValueError(\"La division para cero no esta definido\")\n"
   ]
  },
  {
   "cell_type": "code",
   "execution_count": 23,
   "id": "606b018f",
   "metadata": {},
   "outputs": [
    {
     "name": "stdout",
     "output_type": "stream",
     "text": [
      "Números redondeados a 5 cifras:\n",
      " Número 1:0.71429,  Número 2:0.71425\n",
      "Números en punto flotante:\n",
      " Número 1:0.71429,  Número 2:0.71425\n",
      "Suma Aritmética: 0.14285399999999998\n",
      "Resta Aritmética: 3.999999999992898e-05\n",
      "Multiplicación Aritmética: 0.5101816325\n",
      "División Aritmética: 0.100005600280014\n",
      "Resta real: 3.471428571433233e-05\n",
      "Error Relativo Porcentaul: 15.22633744820037%\n"
     ]
    }
   ],
   "source": [
    "#Datos en la clase restar x=5/7  y y=0.714251 y calcular el error relativo porcentual\n",
    "#Usando redondeo a 5 digitos\n",
    "\n",
    "num1 = 5/7\n",
    "num2 = 0.714251\n",
    "num1_redon = redondear(num1,5) #numero 1 redondeado\n",
    "num2_redon = redondear(num2,5)  #numero 2 redondeado\n",
    "print(f\"Números redondeados a 5 cifras:\\n Número 1:{num1_redon},  Número 2:{num2_redon}\")\n",
    "\n",
    "fl_num1_redon = repre_float(num1_redon)\n",
    "fl_num2_redon = repre_float(num2_redon)\n",
    "\n",
    "print(f\"Números en punto flotante:\\n Número 1:{fl_num1_redon},  Número 2:{fl_num2_redon}\")\n",
    "sumafl = sumaAriCom(fl_num1_redon,fl_num2_redon)\n",
    "print(f\"Suma Aritmética: {sumafl}\")\n",
    "restafl = restaAriCom(fl_num1_redon,fl_num2_redon)\n",
    "print(f\"Resta Aritmética: {restafl}\")\n",
    "multiplicacionfl =multiplicacionAriCom(fl_num1_redon,fl_num2_redon)\n",
    "print(f\"Multiplicación Aritmética: {multiplicacionfl}\")\n",
    "divisiónfl = divisionAriCom(fl_num1_redon,fl_num2_redon)\n",
    "print(f\"División Aritmética: {divisiónfl}\")\n",
    "restareal = num1-num2\n",
    "print(f\"Resta real: {restareal}\")\n",
    "print(f\"Error Relativo Porcentaul: {errorRelativoPorcentual(restareal,restafl)}%\")\n"
   ]
  },
  {
   "cell_type": "markdown",
   "id": "36ffe4e7",
   "metadata": {},
   "source": [
    "## Convergencia, Divergencia y Tolerancia"
   ]
  },
  {
   "cell_type": "markdown",
   "id": "40eb5809",
   "metadata": {},
   "source": [
    "Convergencia: Los resultados se acercan cada vez mas a la solución al aumentar el numero de iteraciones.\n",
    "\n",
    "Divergencia: Los resultados se alejan cada vez mas de la solución al aumentar el numero de iteraciones.\n",
    "\n",
    "Tolerancia: Limite impuesto para detener el metodo cuando se llega una solución dentro de este limite."
   ]
  },
  {
   "cell_type": "code",
   "execution_count": 24,
   "id": "5c6e47cc",
   "metadata": {},
   "outputs": [
    {
     "data": {
      "image/png": "[encoded data removed]",
      "text/plain": [
       "<Figure size 800x500 with 1 Axes>"
      ]
     },
     "metadata": {},
     "output_type": "display_data"
    }
   ],
   "source": [
    "\n",
    "\n",
    "# valores de x sera el num de iteraciones\n",
    "iteraciones = np.linspace(1, 20, 20)\n",
    "\n",
    "# definimos las funciones que simulan los diferentes comportamientos \n",
    "def convergencia(x):\n",
    "    return np.exp(-0.2 * x)\n",
    "def divergencia(x):\n",
    "    return np.exp(0.17 * x)\n",
    "def oscilante(x):\n",
    "    return np.abs(np.sin(x))\n",
    "\n",
    "# valores de \"y\" segun el comportamiento\n",
    "y_convergencia = convergencia(iteraciones)\n",
    "y_divergencia = divergencia(iteraciones)\n",
    "y_oscilante = oscilante(iteraciones)\n",
    "\n",
    "# Dibujamos los diferentes funciones con sus valores x y y.\n",
    "plt.figure(figsize=(8, 5))\n",
    "plt.plot(iteraciones, y_convergencia, label=\"Convergente\", color=\"blue\")\n",
    "plt.plot(iteraciones, y_divergencia, label=\"Divergente\", color=\"red\")\n",
    "plt.plot(iteraciones, y_oscilante, label=\"Oscilante/Inestable\", color=\"orange\")\n",
    "\n",
    "# Agregamos titulos y etiquetas de nuestros ejes a la grafica\n",
    "plt.xlabel(\"Iteraciones\")\n",
    "plt.ylabel(\"Error\")\n",
    "plt.title(\"Convergencia,Diveregencia y Tolerancia\")\n",
    "plt.legend()\n",
    "plt.grid(True)\n",
    "\n",
    "\n",
    "# Muestra la gráfica\n",
    "plt.show()"
   ]
  },
  {
   "cell_type": "markdown",
   "id": "96565694",
   "metadata": {},
   "source": [
    "## Criterios de parada"
   ]
  },
  {
   "cell_type": "markdown",
   "id": "3db60107",
   "metadata": {},
   "source": [
    "Se usan dentro de los algortimos para evitar lazos infinitos.  \n",
    "Error absoluto ->  $|P_N - P_{N-1}| <error$  \n",
    "Error relativo ->  $\\frac{|P_N - P_{N-1}|}{|P_N|} <error$  \n",
    "Valor de la función ->  $|f(P_N)| <error$  \n",
    "Número de iteraciones ->  $i <K ,K $ es el número max de iteraciones  \n",
    "Tiempo ->   $t < T[ms]$  "
   ]
  },
  {
   "cell_type": "code",
   "execution_count": 25,
   "id": "085e8c2c",
   "metadata": {},
   "outputs": [
    {
     "name": "stdout",
     "output_type": "stream",
     "text": [
      "Valor de resta real:3.471428571433233e-05\n",
      "Valor de resta aproximada:3.999999999992898e-05\n",
      "Valor del error: 5.285714285596654e-06\n",
      "Valor de resta aproximada:3.471428571433233e-05\n",
      "Valor del error: 0.0\n",
      "Valor de resta aproximada:3.471428571433233e-05\n",
      "Valor del error: 0.0\n",
      "Valor de resta aproximada:3.471428571433233e-05\n",
      "Valor del error: 0.0\n"
     ]
    }
   ],
   "source": [
    "\n",
    "K = 4 #num max de iteraciones\n",
    "aprox_resta = restaAriCom(fl_num1_redon,fl_num2_redon)\n",
    "print(f\"Valor de resta real:{restareal}\")\n",
    "for i in range(K): #Utilizamos el criterio de parada del num de iteraciones\n",
    "    print(f\"Valor de resta aproximada:{aprox_resta}\")\n",
    "    error = errorAbsoluto(restareal,aprox_resta)\n",
    "    print(f\"Valor del error: {error}\")\n",
    "    aprox_resta=aprox_resta-error #restamos el error para acercarnos mas a solución"
   ]
  },
  {
   "cell_type": "markdown",
   "id": "a19c785a",
   "metadata": {},
   "source": [
    "# Unidad 2 - Soluciones de sistemas de euaciones no lineales Codificación #1"
   ]
  },
  {
   "cell_type": "markdown",
   "id": "3608da3e",
   "metadata": {},
   "source": [
    "## Método de la Bisección"
   ]
  },
  {
   "cell_type": "markdown",
   "id": "ec4767ad",
   "metadata": {},
   "source": [
    "**Método de bisección**\n",
    "\n",
    "En método de la bisección consiste en ir reduciendo el intervalo $[a~,~b]$  \n",
    "hasta que eventualmente tenga una anchura muy pequeña donde contenga un cero es decir converga.  \n",
    "\n",
    "El proceso para subdividir el intervalo consiste en tomar un punto medio $p = \\frac{(a + b)}{2} $ \n",
    "donde posteriormente se analice las siguientes posibilidades:\n",
    "\n",
    "- Si $f(a)$ y  $f(p)$ o $f(p)$ y $f(b)$  tiene \n",
    "    signos opuestos ,entonces hay un cero en [a,p] o [p,b] respectivamente.\n",
    "- Si $f(p) = 0$, entonces c es un cero.\n",
    "\n",
    "Entonces remplazamos nuestro intervalo con los criterios antes mencionados es decir\n",
    "$[a,p]$ sera nuestro nuevo $[a,b]$ y repetimos el proceso nuevamente. \n",
    "\n",
    "**La convergencia del método de bisección** consiste en\n",
    "mediante la sucesión de puntos medios de los diferentes intervalos creados por el \n",
    "método de bisección. encontremos un número $p\\in ~[a~,~b]$ tal que $f(p) = 0$.\n"
   ]
  },
  {
   "cell_type": "code",
   "execution_count": 26,
   "id": "30cd573e",
   "metadata": {},
   "outputs": [],
   "source": [
    "#function sigmu para obtener el signo de un numero\n",
    "def signo(x):\n",
    "    if x>0: #si es positivo\n",
    "        return \"+\"\n",
    "    elif x<0: #si es negativo\n",
    "        return \"-\"\n",
    "    else: #si es cero\n",
    "        return \"0\""
   ]
  },
  {
   "cell_type": "code",
   "execution_count": 27,
   "id": "140f5e47",
   "metadata": {},
   "outputs": [],
   "source": [
    "def metodo_biseccion(funcion,a, b, tol, max_iter):\n",
    "    #Realizamos el metodo mediante el pseudocódigo de la diapositiva\n",
    "    #Metodo de bisección para encontrar raíces de una función\n",
    "    #ENTRADA:\n",
    "    #- a, b: puntos finales del intervalo\n",
    "    #- tol: tolerancia\n",
    "    #- iteraciones: número máximo de iteraciones\n",
    "    #- funcion: función f(x)\n",
    "    #SALIDA:\n",
    "    #- solución aproximada p o mensaje de falla\n",
    "    \n",
    "    # Paso 1: Sea i = 1; FA = f(a) \n",
    "    i = 1\n",
    "    fa = funcion(a)\n",
    "    fb = funcion(b) #añadimos fb para tener una tabla con todos los valores en caso de b=n\n",
    "    #Para ver mejor creamos una tabla como en la clase\n",
    "    print(\"i\\ta\\t\\tb\\t\\tp\\t\\tf(a)\\tf(b)\\tf(p)\\tTOL\")\n",
    "    print(\"-\"*90)\n",
    "    \n",
    "    # Paso 2: Mientras i ≤ N0 haga los pasos 3-6\n",
    "    while i <= max_iter:\n",
    "        \n",
    "        # Paso 3: Sea p = a + (b-a)/2; (Calcule p_i)\n",
    "        #         FP = f(p)\n",
    "        p = a + (b - a) / 2\n",
    "        fp = funcion(p)\n",
    "        \n",
    "        error = abs(b-a)/2 #error de la iteracion\n",
    "        # Paso 4: Si FP = 0 o (b-a)/2 < TOL entonces\n",
    "        #         SALIDA (p); (Procedimiento completado exitosamente)\n",
    "        #Rellenamos la tabla con los valores de la iteración\n",
    "        print(f\"{i}\\t{a:.6f}\\t{b:.6f}\\t{p:.6f}\\t{signo(fa)}\\t{signo(fb)}\\t{signo(fp)}\\t{error:.6f}\")\n",
    "        if fp == 0 or error < tol:\n",
    "            return p\n",
    "        \n",
    "        # Paso 5: Sea i = i + 1\n",
    "        i = i + 1\n",
    "        \n",
    "        # Paso 6: Si FA · FP > 0 entonces determine a = p; (Calcule a_i, b_i)\n",
    "        #                                  FA = FP\n",
    "        #         también determine b = p. (FA no cambia)\n",
    "        if fa * fp > 0:\n",
    "            a = p  # Cambia nuestro intervalo [a=p,b]\n",
    "            fa = fp\n",
    "        else:\n",
    "            b = p \n",
    "            fb = fp    \n",
    "    # Paso 7: SALIDA ('El método fracasó después de N0 iteraciones, N0 =', N0);\n",
    "    #         (El procedimiento no fue exitoso)\n",
    "    #         PARE\n",
    "    print(f\"El método fracasó después de {max_iter} iteraciones\")\n",
    "    return None\n"
   ]
  },
  {
   "cell_type": "code",
   "execution_count": 29,
   "id": "fa7d0c48",
   "metadata": {},
   "outputs": [
    {
     "name": "stdout",
     "output_type": "stream",
     "text": [
      "\n",
      "funcion: f(x) = x^3 + 4x^2 - 10\n",
      "\n",
      "en el intervalo [1,2] ,con tolerancia: 0.0001\n",
      "i\ta\t\tb\t\tp\t\tf(a)\tf(b)\tf(p)\tTOL\n",
      "------------------------------------------------------------------------------------------\n",
      "1\t1.000000\t2.000000\t1.500000\t-\t+\t+\t0.500000\n",
      "2\t1.000000\t1.500000\t1.250000\t-\t+\t-\t0.250000\n",
      "3\t1.250000\t1.500000\t1.375000\t-\t+\t+\t0.125000\n",
      "4\t1.250000\t1.375000\t1.312500\t-\t+\t-\t0.062500\n",
      "5\t1.312500\t1.375000\t1.343750\t-\t+\t-\t0.031250\n",
      "6\t1.343750\t1.375000\t1.359375\t-\t+\t-\t0.015625\n",
      "7\t1.359375\t1.375000\t1.367188\t-\t+\t+\t0.007812\n",
      "8\t1.359375\t1.367188\t1.363281\t-\t+\t-\t0.003906\n",
      "9\t1.363281\t1.367188\t1.365234\t-\t+\t+\t0.001953\n",
      "10\t1.363281\t1.365234\t1.364258\t-\t+\t-\t0.000977\n",
      "11\t1.364258\t1.365234\t1.364746\t-\t+\t-\t0.000488\n",
      "12\t1.364746\t1.365234\t1.364990\t-\t+\t-\t0.000244\n",
      "13\t1.364990\t1.365234\t1.365112\t-\t+\t-\t0.000122\n",
      "14\t1.365112\t1.365234\t1.365173\t-\t+\t-\t0.000061\n",
      "\n",
      "Nuestra solución: f(1.365173) = -0.000936\n"
     ]
    }
   ],
   "source": [
    "# Realizamos un ejemplo\n",
    "print(\"\\nfuncion: f(x) = x^3 + 4x^2 - 10\")\n",
    "def f(x):\n",
    "    return x**3 + 4*x**2 - 10\n",
    "#llamamos al metodo\n",
    "a,b,tol = 1,2,0.0001\n",
    "print(f\"\\nen el intervalo [{a},{b}] ,con tolerancia: {tol}\")\n",
    "resultado = metodo_biseccion(f,a, b, tol, max_iter=20)\n",
    "#verificamos si obtuvimos un resultado\n",
    "if resultado:\n",
    "    print(f\"\\nNuestra solución: f({resultado:.6f}) = {f(resultado):.6f}\")"
   ]
  },
  {
   "cell_type": "markdown",
   "id": "998a4395",
   "metadata": {},
   "source": [
    "# Unidad 2 Soluciones de sistemas de ecuaciones no lineales Codificación #2"
   ]
  },
  {
   "cell_type": "markdown",
   "id": "81969698",
   "metadata": {},
   "source": [
    "## Método del punto fijo"
   ]
  },
  {
   "cell_type": "markdown",
   "id": "a3a708af",
   "metadata": {},
   "source": [
    "Se iguala nuestro $f(X) = 0$ y se despeja x  \n",
    ",entonces obtenemos la transformación $x = g(x)$  \n",
    "Se realiza las iteraciones hasta encontrar la raíz: aproximada $$x_{n+1} = g(x_n)$$\n",
    "Su cálculo de error es:\n",
    "$$e = \\frac{|x_{n+1-x_n}|}{x_{n+1}}$$"
   ]
  },
  {
   "cell_type": "code",
   "execution_count": 30,
   "id": "f4080c5d",
   "metadata": {},
   "outputs": [],
   "source": [
    "def metodo_punto_fijo(funcion, x0, tol, max_iter):\n",
    "    print(\"i\\tX0\\t\\tX1\\t\\tError\") #creamos la tabla para mejorar la organización de los datos\n",
    "    print(\"-\" * 50)\n",
    "\n",
    "    i = 0 #numero de iteraciones \n",
    "    while i < max_iter: #verifica el num de iteraciones llevadas\n",
    "        try:\n",
    "            x1 = funcion(x0) # x_n+1 = g(x_n)\n",
    "        except ValueError as e: # control de errores por overflow o raices negativas\n",
    "            print(f\"Error en la función g(x): {e} ,en {i} iteraciones\")\n",
    "            return None \n",
    "\n",
    "        error = abs((x1 - x0)/x1) #calcula el error \n",
    "        print(f\"{i}\\t{x0:<.8f}\\t{x1:<.8f}\\t{error:<.8f}\") #imprimimos nuestros datos obtenidos en la iteración i\n",
    "\n",
    "        if error < tol: #verifica si nuestra solucion es aceptada \n",
    "            return x1 #retorna nuestra solución\n",
    "        \n",
    "\n",
    "        x0 = x1 #nuestro x_n+1 pasa a ser nuestro x_n\n",
    "        i += 1 #aumenta el numero de iteraciones\n",
    "    print(f\"El método fracasó después de {max_iter} iteraciones\")\n",
    "    return None\n",
    "    "
   ]
  },
  {
   "cell_type": "code",
   "execution_count": 31,
   "id": "1c082b0b",
   "metadata": {},
   "outputs": [
    {
     "name": "stdout",
     "output_type": "stream",
     "text": [
      "\n",
      "funcion f(x) = 2e^{x^2}-5x\n",
      "\n",
      "Nuestro g(x) = 0.4e^{x^2}\n",
      "valor inicial X0: 0\n",
      "i\tX0\t\tX1\t\tError\n",
      "--------------------------------------------------\n",
      "0\t0.00000000\t0.40000000\t1.00000000\n",
      "1\t0.40000000\t0.46940435\t0.14785621\n",
      "2\t0.46940435\t0.49860041\t0.05855603\n",
      "3\t0.49860041\t0.51289283\t0.02786629\n",
      "4\t0.51289283\t0.52036142\t0.01435269\n",
      "5\t0.52036142\t0.52439255\t0.00768725\n",
      "\n",
      "Nuestro resultado es raíz: 0.52439255\n"
     ]
    }
   ],
   "source": [
    "# Realizamos un ejemplo\n",
    "print(\"\\nfuncion f(x) = 2e^{x^2}-5x\")\n",
    "#Igualamos a f(x)=0 y despejamos x\n",
    "print(\"\\nNuestro g(x) = 0.4e^{x^2}\")\n",
    "#x = g(x)\n",
    "def g(x):\n",
    "    return 0.4*math.e**(x**2)\n",
    "x0 = 0  # Valor inicial\n",
    "print(f\"valor inicial X0: {x0}\")\n",
    "# llamamos al metodo\n",
    "raiz_aprox = metodo_punto_fijo(g, x0, tol=0.01, max_iter=20)\n",
    "#verificamos si obtuvimos un resultado\n",
    "if raiz_aprox is not None:\n",
    "    print(f\"\\nNuestro resultado es raíz: {raiz_aprox:.8f}\")"
   ]
  },
  {
   "cell_type": "markdown",
   "id": "652cfc94",
   "metadata": {},
   "source": [
    "# Método de Newton (Newton-Rapshon)"
   ]
  },
  {
   "cell_type": "markdown",
   "id": "ddf1486f",
   "metadata": {},
   "source": [
    "**Método de Newton-Raphson**  \n",
    "Dado la función $f \\in  C^{2}[a,b]$ donde existe un número $x \\in [a,b]$ tal que $f(x) = 0$ y que $f'(x)\\neq 0$ entonces la sucesión $\\{x_k\\}_{k=0}^{\\infty}$ esta definida por la fórmula de iteración:\n",
    "$$x_k = g(x_{k+1}) = x_{k+1} - \\frac{f(x_{k+1})}{f'(x_{k+1}} ~~,n\\geq 1$$ \n",
    "donde converge a $x$."
   ]
  },
  {
   "cell_type": "code",
   "execution_count": 32,
   "id": "2a3c48a6",
   "metadata": {},
   "outputs": [],
   "source": [
    "import sympy as sp\n",
    "def derivada(funcstr,grado): #tiene como parametros la funcion en str y el grado de la deriva\n",
    "    x = sp.Symbol('x') #define x\n",
    "    f = sp.sympify(funcstr) #convierta a una funcion matematica\n",
    "    derivada_simbo = f.diff(x,grado) #obtine la primera derivada\n",
    "    derivada_num =  sp.lambdify(x, derivada_simbo, 'math') #comvierte a una funcion math\n",
    "    return derivada_num #retorna la derivada en forma math"
   ]
  },
  {
   "cell_type": "code",
   "execution_count": 33,
   "id": "50130260",
   "metadata": {},
   "outputs": [],
   "source": [
    "\n",
    "def metodo_newton_raphson(funcion, derivada, x0, tol,max_iter):\n",
    "    print(\"i\\tX0\\t\\tX1\\t\\tError\")  #creamos la tabla para mejorar la organización de los datos\n",
    "    print(\"-\" * 50)\n",
    "\n",
    "    i = 0 #numero de iteraciones\n",
    "\n",
    "    while i < max_iter: #verifica que no sobrepase el numero de iteraciones\n",
    "        fx0 = funcion(x0) #obtiene el valor de f(x) actual\n",
    "        dfx0 = derivada(x0) #obtiene el valor de f'(x) actual\n",
    "\n",
    "        if dfx0 == 0: #verifica el valor de f'(X) ya que la division para 0 no esta definida\n",
    "            print(\"No se puede dividir f'(x) = 0\")\n",
    "            return None \n",
    "\n",
    "        x1 = x0 - (fx0 / dfx0) #Metodo de Newton\n",
    "        error = abs(x1 - x0)\n",
    "\n",
    "        print(f\"{i}\\t{x0:.8f}\\t{x1:.8f}\\t{error:.8f}\") #Imprime los datos obtenidos en la iteracion\n",
    "\n",
    "        if error < tol: #si nuestro error es menor a la tolerancia\n",
    "            return x1 #retorna la raiz\n",
    "\n",
    "        x0 = x1\n",
    "        i += 1\n",
    "    print(f\"El método fracasó después de {max_iter} iteraciones\")\n",
    "    return None    "
   ]
  },
  {
   "cell_type": "code",
   "execution_count": 34,
   "id": "6fb997d9",
   "metadata": {},
   "outputs": [
    {
     "name": "stdout",
     "output_type": "stream",
     "text": [
      "\n",
      "funcion f(x) = cos(x)-x\n",
      "\n",
      "X0: 1.5, y tolerancia: 0.0001\n",
      "i\tX0\t\tX1\t\tError\n",
      "--------------------------------------------------\n",
      "0\t1.50000000\t0.78447240\t0.71552760\n",
      "1\t0.78447240\t0.73951871\t0.04495369\n",
      "2\t0.73951871\t0.73908517\t0.00043354\n",
      "3\t0.73908517\t0.73908513\t0.00000004\n",
      "\n",
      "Nuestro resultado es raíz:0.73908513\n"
     ]
    }
   ],
   "source": [
    "# Realizamos un ejemplo\n",
    "x = sp.Symbol('x')\n",
    "print(\"\\nfuncion f(x) = cos(x)-x\")\n",
    "funcion = sp.cos(x)-x\n",
    "f = sp.lambdify(x,funcion,'math')\n",
    "df = derivada(funcion,1) #obtenemos la derivada de la f(x)\n",
    "x0 = 1.5  # Valor inicial\n",
    "tol = 1e-4 #tolerancia\n",
    "max_iteraciones = 20 #numero max de iteraciones\n",
    "print(f\"\\nX0: {x0}, y tolerancia: {tol}\")\n",
    "    \n",
    "raiz = metodo_newton_raphson(f, df, x0, tol, max_iteraciones) #llamamos al metodo de newton\n",
    "\n",
    "if raiz is not None: #comprovamos que tenemos una raiz\n",
    "    print(f\"\\nNuestro resultado es raíz:{raiz:.8f}\")"
   ]
  },
  {
   "cell_type": "markdown",
   "id": "15ba306d",
   "metadata": {},
   "source": [
    "## Método de la secante"
   ]
  },
  {
   "cell_type": "markdown",
   "id": "094b350d",
   "metadata": {},
   "source": [
    "**Método de la secante**  \n",
    "En término general la sucesión generada por este método esta definida por la fórmula de iteración de dos puntos:\n",
    "$$x_{k+1} = g(x_k,x_{k+1})~=~ x_{k} - \\frac{f(x_{k}) (x_k - x_{k-1})}{f(x_{k}) - f(x_{k-1})}$$\n",
    "donde converge a $x$"
   ]
  },
  {
   "cell_type": "code",
   "execution_count": 35,
   "id": "078b5de7",
   "metadata": {},
   "outputs": [],
   "source": [
    "\n",
    "def metodo_secante(f, x0, x1, tol, max_iter):\n",
    "    print(\"i\\tX0\\t\\tX1\\t\\tError\") #creamos la tabla para mejorar la organización de los datos\n",
    "    print(\"-\" * 50)\n",
    "\n",
    "    i = 0 #numero de iteraciones\n",
    "\n",
    "    while i < max_iter: #verifica que no sobrepasemos el num de iteraciones\n",
    "        fx0 = f(x0) #valor de f(x0) actual\n",
    "        fx1 = f(x1) #valor de f(x1) actual\n",
    "\n",
    "        if fx1 - fx0 == 0: #verifica que no sea cero para no tener error al dividir\n",
    "            print(\"f(x1) -f(x0) =0 no se puede dividir para cero\")\n",
    "            return None\n",
    "        x2 = x1 - fx1 * ((x1 - x0) / (fx1 - fx0)) #metodo de la secante\n",
    "        error = abs(x2 - x1) #calculamos el error\n",
    "        print(f\"{i}\\t{x0:.8f}\\t{x1:.8f}\\t{error:.8f}\") #imprimimos nuestros datos obtenidos en la iteracion\n",
    "\n",
    "        if error < tol: #verifica si el error es menor que la tolerancia\n",
    "            return x2  #retorna la raiz\n",
    "\n",
    "        x0, x1 = x1, x2 #actualizamos nuestros x0,x1\n",
    "        i += 1 #aumentamos el num de oteraciones una unidad\n",
    "    print(f\"El método fracasó después de {max_iter} iteraciones\")\n",
    "    return None \n",
    "    "
   ]
  },
  {
   "cell_type": "code",
   "execution_count": 36,
   "id": "6305b732",
   "metadata": {},
   "outputs": [
    {
     "name": "stdout",
     "output_type": "stream",
     "text": [
      "\n",
      "funcion f(x):cos(x)-x\n",
      "\n",
      "X0: 0.5  ,X1:0.7853981633974483 y tolerancia: 0.0001\n",
      "i\tX0\t\tX1\t\tError\n",
      "--------------------------------------------------\n",
      "0\t0.50000000\t0.78539816\t0.04901402\n",
      "1\t0.78539816\t0.73638414\t0.00267400\n",
      "2\t0.73638414\t0.73905814\t0.00002701\n",
      "\n",
      "Nuestro resultado es raíz: 0.73908515\n"
     ]
    }
   ],
   "source": [
    "# Realizamos un ejemplo\n",
    "print(\"\\nfuncion f(x):cos(x)-x\")\n",
    "def f(x):\n",
    "    return math.cos(x) - x\n",
    "x0 = 0.5  # p_0 Valor inicial\n",
    "x1 = math.pi/4  # p_1 Segundo valor inicial\n",
    "tol = 1e-4 # tolerancia\n",
    "max_iteraciones = 20 #numero maximo de iteraciones\n",
    "print(f\"\\nX0: {x0}  ,X1:{x1} y tolerancia: {tol}\")\n",
    "raiz = metodo_secante(f, x0, x1, tol, max_iteraciones) #llamamos al metodo de la secante\n",
    "if raiz is not None: #verifica si obtuvimos la raiz\n",
    "    print(f\"\\nNuestro resultado es raíz: {raiz:.8f}\")"
   ]
  },
  {
   "cell_type": "markdown",
   "id": "ddbf45e2",
   "metadata": {},
   "source": [
    "# Unidad 2 -Soluciones No lineales Codificación #3"
   ]
  },
  {
   "cell_type": "markdown",
   "id": "57d5c8dd",
   "metadata": {},
   "source": [
    "## Método de Posición Falsa (RegulaFalsi)"
   ]
  },
  {
   "cell_type": "markdown",
   "id": "e56595ab",
   "metadata": {},
   "source": [
    "**Método de Posición Falsa o régula falsi** \n",
    "La construcción del intervalo $[a_{n},b_{n}]$ en cada iteración con \n",
    "    aproximación al cero esta definida por:\n",
    "    $$x_n = x_{n-1} - \\frac{f(x_{n-1})~-~(x_{n-1} - x_{n-2})}{f(x_{n-1})~-~f(x_{n-2})}$$\n",
    "    donde:\n",
    "- Si $f(x_{n-2})$ y $f(x_n)$ tienen signos opuestos, entonces se recorta por la derecha.  \n",
    "- Si $f(x_n)$ y $f(x_{n-1})$ tienen signos opuestos, entonces se recorta por la izquierda.  \n",
    "Hasta obtener la respuesta definido por el criterio de parada"
   ]
  },
  {
   "cell_type": "code",
   "execution_count": 37,
   "id": "0a73ad72",
   "metadata": {},
   "outputs": [],
   "source": [
    "def metodo_posicion_falsa(f, x0, x1, tol, max_iter):\n",
    "    print(\"i\\tx0\\t\\tx1\\t\\tx2\\t\\tf(x0)\\tf(x1)\\tf(x2)\\tError\")\n",
    "    print(\"-\" * 90)\n",
    "    fx0 = f(x0) #valor de f(x0) \n",
    "    fx1 = f(x1) #valor de f(x1)\n",
    "    i = 0 #numero de iteraciones\n",
    "    aux_x2 = x0 #variable para guardar el x2 de la anterior iteracion\n",
    "    while i < max_iter: #verifica que no sobrepasemos el num de iteraciones\n",
    "        \n",
    "        if fx1 - fx0 == 0: #verifica que no sea cero para no tener error al dividir\n",
    "            print(\"f(x1) -f(x0) =0 no se puede dividir para cero\")\n",
    "            return None\n",
    "        x2 = x1 - ((fx1 * (x1 - x0)) / (fx1 - fx0)) #metodo de la secante\n",
    "        fx2 = f(x2)\n",
    "        error = abs(x2 - aux_x2) #calculamos el error\n",
    "        print(f\"{i}\\t{x0:.6f}\\t{x1:.6f}\\t{x2:.6f}\\t{signo(fx0)}\\t{signo(fx1)}\\t{signo(fx2)}\\t{error:.8f}\")\n",
    "        \n",
    "        if error < tol: #verifica si el error es menor que la tolerancia\n",
    "            return x2  #retorna la raiz\n",
    "        \n",
    "        if fx2*fx1 <0:\n",
    "            x0 = x2\n",
    "            fx0 = fx2\n",
    "        else:\n",
    "            x1 = x2\n",
    "            fx1 = fx2\n",
    "        aux_x2 = x2\n",
    "             #actualizamos nuestros x0,x1 con nuestro p=x2\n",
    "        i += 1 #aumentamos el num de oteraciones una unidad\n",
    "    print(f\"El método fracasó después de {max_iter} iteraciones\")\n",
    "    return None "
   ]
  },
  {
   "cell_type": "code",
   "execution_count": 38,
   "id": "cbe99962",
   "metadata": {},
   "outputs": [
    {
     "name": "stdout",
     "output_type": "stream",
     "text": [
      "\n",
      "funcion f(x):cos(x)-x\n",
      "\n",
      "X0: 0.5  ,X1:0.7853981633974483 y tolerancia: 1e-05\n",
      "i\tx0\t\tx1\t\tx2\t\tf(x0)\tf(x1)\tf(x2)\tError\n",
      "------------------------------------------------------------------------------------------\n",
      "0\t0.500000\t0.785398\t0.736384\t+\t-\t+\t0.23638414\n",
      "1\t0.736384\t0.785398\t0.739058\t+\t-\t+\t0.00267400\n",
      "2\t0.739058\t0.785398\t0.739085\t+\t-\t+\t0.00002672\n",
      "3\t0.739085\t0.785398\t0.739085\t+\t-\t+\t0.00000027\n",
      "\n",
      "Nuestro resultado es raíz: 0.73908513\n"
     ]
    }
   ],
   "source": [
    "# Realizamos un ejemplo\n",
    "print(\"\\nfuncion f(x):cos(x)-x\")\n",
    "def f(x):\n",
    "    return math.cos(x) - x\n",
    "    \n",
    "x0 = 0.5  # p_0 Valor inicial\n",
    "x1 = math.pi/4  # p_1 Segundo valor inicial\n",
    "tol = 1e-5 # tolerancia\n",
    "max_iteraciones = 20 #numero maximo de iteraciones\n",
    "print(f\"\\nX0: {x0}  ,X1:{x1} y tolerancia: {tol}\")\n",
    "raiz = metodo_posicion_falsa(f, x0, x1, tol, max_iteraciones) #llamamos al metodo de la secante\n",
    "if raiz is not None: #verifica si obtuvimos la raiz\n",
    "    print(f\"\\nNuestro resultado es raíz: {raiz:.8f}\")"
   ]
  },
  {
   "cell_type": "markdown",
   "id": "45fd7551",
   "metadata": {},
   "source": [
    "# Unidad 3 -Ajustes de Curvas y Interpolación Codificación #1"
   ]
  },
  {
   "cell_type": "markdown",
   "id": "d18404a9",
   "metadata": {},
   "source": [
    "## Polinomio de Taylor"
   ]
  },
  {
   "cell_type": "markdown",
   "id": "ef3fd061",
   "metadata": {},
   "source": [
    "**Polinomios de Taylor**  \n",
    "Dado $f\\in C^{n}[a,b]$ y un punto $x_0 \\in [a,b]$.Si   $x \\in [a,b]$,entonces  \n",
    "$$f(x) = P_n (x) + R_n (x)$$   \n",
    "$PN(x)$ es un polinomio aproximado a $f(x)$  \n",
    "$$f(x) \\approx P_n (x) = \\sum_{k=0}^{n} \\frac{f^{k}(x_0)}{k!} (x-x_0)^k $$  \n",
    "definido como polinomio de Taylor de grado n de $f$ alrededor de $x_0$ y \n",
    "el término del error de truncamiento $R_n (X)$ es:   \n",
    "$$R_n (x) = \\frac{f^{n+1}ξ(x)}{(n+1)!} (x-x_0)^{n+1}$$ \n",
    ",ξ(x) es una funcion de x, con valor dentro $x$ y $x_0$."
   ]
  },
  {
   "cell_type": "code",
   "execution_count": 39,
   "id": "072b5286",
   "metadata": {},
   "outputs": [],
   "source": [
    "\n",
    "\n",
    "def truncar(numero, decimales):\n",
    "    factor = 10 ** decimales\n",
    "    return int(numero * factor) / factor\n",
    "\n",
    "def polinomio_taylor(func_str, x0, grado, decimales):\n",
    "    x = sp.Symbol('x')\n",
    "    f = sp.sympify(func_str)\n",
    "    taylor_expr = 0\n",
    "\n",
    "    for n in range(grado + 1):\n",
    "        derivada = f.diff(x, n)\n",
    "        deriv_val = derivada.subs(x, x0)\n",
    "        factorial_n = sp.factorial(n)\n",
    "        coef = deriv_val / factorial_n\n",
    "\n",
    "        if coef.is_number:\n",
    "            coef = truncar(float(coef), decimales)\n",
    "            coef = sp.Float(coef, decimales) \n",
    "\n",
    "        if coef == 0:\n",
    "            continue\n",
    "\n",
    "        base = (x - x0)**n if x0 != 0 else x**n\n",
    "        taylor_expr += coef * base\n",
    "\n",
    "    taylor_expr = sp.expand(taylor_expr)\n",
    "    taylor_expr = sp.collect(taylor_expr, x)\n",
    "    ext_poli = Poly(taylor_expr, x)\n",
    "    taylor_expr = ext_poli.as_expr()\n",
    "    Pn_str = str(taylor_expr)\n",
    "\n",
    "    n_plus_1 = grado + 1\n",
    "    factorial_np1 = sp.factorial(n_plus_1)\n",
    "    inv_fact = truncar(1 / float(factorial_np1), decimales)\n",
    "    inv_fact = sp.Float(inv_fact, decimales)\n",
    "\n",
    "    base_error = sp.expand((x - x0)**n_plus_1)\n",
    "    base_error_str = str(base_error)\n",
    "\n",
    "    Rn_str = f\"( {inv_fact}*{func_str}^({n_plus_1})(ξ(x)) )*({base_error_str})\"\n",
    "\n",
    "    print(f\"P_n(x) ≈ {Pn_str}\")\n",
    "    print(f\"R_n(x) ≈ {Rn_str}\")\n",
    "\n",
    "    return f\"f(x) ≈ {Pn_str} + {Rn_str}\"\n"
   ]
  },
  {
   "cell_type": "code",
   "execution_count": 40,
   "id": "c06a89b7",
   "metadata": {},
   "outputs": [
    {
     "name": "stdout",
     "output_type": "stream",
     "text": [
      "P_n(x) ≈ 0.1132*x**4 + 0.0001984*x**3 + 0.6793*x**2 + 0.9062*x + 1.019\n",
      "R_n(x) ≈ ( 0.008300*exp(x)^(5)(ξ(x)) )*(x**5 - 5*x**4 + 10*x**3 - 10*x**2 + 5*x - 1)\n",
      "f(x) ≈ 0.1132*x**4 + 0.0001984*x**3 + 0.6793*x**2 + 0.9062*x + 1.019 + ( 0.008300*exp(x)^(5)(ξ(x)) )*(x**5 - 5*x**4 + 10*x**3 - 10*x**2 + 5*x - 1)\n"
     ]
    }
   ],
   "source": [
    "print(polinomio_taylor(\"exp(x)\", x0=1, grado=4, decimales=4))"
   ]
  },
  {
   "cell_type": "markdown",
   "id": "ec3ba9a3",
   "metadata": {},
   "source": [
    "## Series de Maclaurin"
   ]
  },
  {
   "cell_type": "markdown",
   "id": "026bcf76",
   "metadata": {},
   "source": [
    "Es una serie de Taylor cuando $x_0 = 0$  \n",
    "Precisión alta cerca de $x_0 =0$, pero decrece lejos de él  \n",
    "No se usa en iterpolación  "
   ]
  },
  {
   "cell_type": "code",
   "execution_count": 41,
   "id": "70b49d2f",
   "metadata": {},
   "outputs": [
    {
     "name": "stdout",
     "output_type": "stream",
     "text": [
      "P_n(x) ≈ 0.0416*x**4 + 0.1666*x**3 + 0.5*x**2 + 1.0*x + 1.0\n",
      "R_n(x) ≈ ( 0.008300*exp(x)^(5)(ξ(x)) )*(x**5)\n",
      "f(x) ≈ 0.0416*x**4 + 0.1666*x**3 + 0.5*x**2 + 1.0*x + 1.0 + ( 0.008300*exp(x)^(5)(ξ(x)) )*(x**5)\n"
     ]
    }
   ],
   "source": [
    "print(polinomio_taylor(\"exp(x)\", x0=0, grado=4, decimales=4))"
   ]
  },
  {
   "cell_type": "markdown",
   "id": "4a1d0d4b",
   "metadata": {},
   "source": [
    "## Polinomio de Lagrange"
   ]
  },
  {
   "cell_type": "markdown",
   "id": "a722ee53",
   "metadata": {},
   "source": [
    "**Polinomio de Lagrange**  \n",
    "Dado $f\\in C^{n+1}[a,b]$ y que pase por $n+1$ puntos $x_0,x_1,..,x_n \\in [a,b]$.Si $x \\in [a,b]$,entonces  \n",
    "$$f(x) = P_n (x) + R_n (x)$$ \n",
    "$P_n (x)$ es un polinomio aproximado a $f(x)$  \n",
    "$$f(x) \\approx P_n (x) = \\sum_{k=0}^{n} f(x_k) L_{n,k}(x) ,$$\n",
    "donde $L_{n,k}(X)$ es el polinomio coeficiente de    Lagrange para los nodos $x_n$\n",
    "$$L_{n,k}(x) = \\prod_{j=0,j\\neq k}^{n} \\frac{(x-xj)}{(x_k - x_j)} $$\n",
    "definido como polinomio de Lagrange de grado n de $f$   para los nodos dados y \n",
    "el término del error $R_n (X)$ es:  \n",
    "$$R_n (x) = \\frac{(x-x_0)..(x-x_n)f^{n+1}(ξ(x))}{(n+1)!},$$  \n",
    ",ξ(x) es una funcion de x, con valor dentro $x$ y $x_0$."
   ]
  },
  {
   "cell_type": "code",
   "execution_count": 42,
   "id": "6ae3021d",
   "metadata": {},
   "outputs": [],
   "source": [
    "def polinomio_lagrange(puntos):\n",
    "    \n",
    "    x = sp.Symbol('x')\n",
    "    n = len(puntos) - 1  # Grado del polinomio \n",
    "    \n",
    "    x_vals = [punto[0] for punto in puntos]  # Extraemos x y y de los puntos\n",
    "    y_vals = [punto[1] for punto in puntos]\n",
    "    \n",
    "    P_x = 0 # Initanciamos el polinomio\n",
    "    \n",
    "    print(f\"Calculando polinomio de Lagrange para {len(puntos)} puntos:\")\n",
    "    print(f\"Puntos: {puntos}\")\n",
    "    print(f\"Grado del polinomio: {n}\")\n",
    "    print()\n",
    "    \n",
    "    # Calcular cada término L_k(x)\n",
    "    for k in range(len(puntos)):\n",
    "        numerador = 1 #  instancias parte numerador/denominador de L_k(x)\n",
    "        denominador = 1\n",
    "        \n",
    "        for i in range(len(puntos)):\n",
    "            if i != k:  # Se excluye cuando el punto xk = xj\n",
    "                numerador *= (x - x_vals[i])\n",
    "                denominador *= (x_vals[k] - x_vals[i])\n",
    "        L_k = numerador / denominador  # multiplicamos las fracciones obtinidas y expandimos\n",
    "        L_k = sp.expand(L_k)\n",
    "        \n",
    "        print(f\"L_{k}(x) = {L_k}\")\n",
    "\n",
    "        termino = y_vals[k] * L_k # multiplicamos y_k * L_k(x)\n",
    "        P_x += termino #añadimos al polinomio\n",
    "        \n",
    "        print(f\"Termino: {y_vals[k]} * L_{k}(x) = {sp.expand(termino)}\")\n",
    "        print()\n",
    "    \n",
    "    # Expandimos y simplificamos el polinomio final\n",
    "    P_x = sp.expand(P_x)\n",
    "    P_x = sp.collect(P_x, x)\n",
    "    \n",
    "    P_x_str = str(P_x)\n",
    "    \n",
    "    print(\"Polinomio de Lagrange:\")\n",
    "    print(f\"P(x) ≈ {P_x_str}\")\n",
    "    return P_x_str\n",
    "\n",
    "def error_lagrange(puntos):\n",
    "    \n",
    "    x = sp.Symbol('x')\n",
    "    n = len(puntos) - 1\n",
    "    x_vals = [punto[0] for punto in puntos] #Obtenemos los valores de x\n",
    "    \n",
    "    factorial_np1 = sp.factorial(n + 1) #calculamos el factorial\n",
    "    inv_fact = (1 / (factorial_np1))\n",
    "    \n",
    "    producto = 1\n",
    "    for x_i in x_vals:\n",
    "        producto *= (x - x_i) # Calcularmos (x - x_0)(x - x_1)...(x - x_n)\n",
    "    \n",
    "    producto = sp.expand(producto) #expandimos la expresion\n",
    "    producto_str = str(producto) #convertimos a string\n",
    "    \n",
    "    # Construirmos la expresión del error\n",
    "    Rn_str = f\"( {inv_fact}*f^({n+1})(ξ(x)) )*({producto_str})\"\n",
    "    \n",
    "    print(\"Error en polinomio de lagrange:\")\n",
    "    print(f\"R_n(x) ≈ {Rn_str}\")\n",
    "    \n",
    "    return Rn_str\n"
   ]
  },
  {
   "cell_type": "code",
   "execution_count": 43,
   "id": "136c31a3",
   "metadata": {},
   "outputs": [
    {
     "name": "stdout",
     "output_type": "stream",
     "text": [
      "Calculando polinomio de Lagrange para 3 puntos:\n",
      "Puntos: [(1, 1), (2, 2), (3, 3)]\n",
      "Grado del polinomio: 2\n",
      "\n",
      "L_0(x) = x**2/2 - 5*x/2 + 3\n",
      "Termino: 1 * L_0(x) = x**2/2 - 5*x/2 + 3\n",
      "\n",
      "L_1(x) = -x**2 + 4*x - 3\n",
      "Termino: 2 * L_1(x) = -2*x**2 + 8*x - 6\n",
      "\n",
      "L_2(x) = x**2/2 - 3*x/2 + 1\n",
      "Termino: 3 * L_2(x) = 3*x**2/2 - 9*x/2 + 3\n",
      "\n",
      "Polinomio de Lagrange:\n",
      "P(x) ≈ x\n",
      "Error en polinomio de lagrange:\n",
      "R_n(x) ≈ ( 1/6*f^(3)(ξ(x)) )*(x**3 - 6*x**2 + 11*x - 6)\n",
      "\n",
      "f(X):P(x)+Rn(x)\n",
      "f(x) ≈ x + ( 1/6*f^(3)(ξ(x)) )*(x**3 - 6*x**2 + 11*x - 6)\n"
     ]
    }
   ],
   "source": [
    "\n",
    "# Realizamos un ejemplo\n",
    "# puntos (1,1), (2,2), (3,3)\n",
    "puntos = [(1, 1), (2, 2), (3, 3)]\n",
    "polinomio = polinomio_lagrange(puntos)\n",
    "error = error_lagrange(puntos)\n",
    "print(\"\\nf(X):P(x)+Rn(x)\")\n",
    "print(f\"f(x) ≈ {polinomio} + {error}\")"
   ]
  },
  {
   "cell_type": "markdown",
   "id": "1c61f01c",
   "metadata": {},
   "source": [
    "# Unidad 3 - Splines Cúbicos Codificaión #2"
   ]
  },
  {
   "cell_type": "markdown",
   "id": "31db6cc6",
   "metadata": {},
   "source": [
    "### Splines Cúbicos en Interpolación\n",
    "\n",
    "***Definición de Splines Cúbicos***\n",
    "Dado un conjunto de puntos ${ x_0, y_0, x_1, y_1, x_2, y_2, \\dots, x_n, y_n }$ de la función $ f(x) $ en el intervalo $[a, b]$:\n",
    "\n",
    "- $ a = x_0 < x_1 < \\dots < x_n = b $ (ordenados)\n",
    "- $ S(x) $ es un spline cúbico, definido como:\n",
    "  \n",
    "$$\n",
    "  S_j(x) = a_j + b_j (x - x_j) + c_j (x - x_j)^2 + d_j (x - x_j)^3\n",
    "$$\n",
    "\n",
    "\n",
    "  \n",
    "- $S_j(x) $ es un polinomio de tercer grado en $[x_j, x_{j+1}]$, con $ j = 0,1,\\dots,n-1 $.\n",
    "\n",
    "***Propiedades de los Splines Cúbicos***\n",
    "- Cada polinomio $S_j(x)$ **coincide con los puntos dados**:\n",
    "  \n",
    "\n",
    "$$\n",
    "  S_j(x_j) = y_j, \\quad S_j(x_{j+1}) = y_{j+1}\n",
    "  $$\n",
    "\n",
    "\n",
    "  \n",
    "- Los polinomios **se intersecan en los puntos**:\n",
    "  \n",
    "\n",
    "$$\n",
    "  S_j(x_{j+1}) = S_{j+1}(x_{j+1})\n",
    "$$\n",
    "\n",
    "\n",
    "\n",
    "- La **derivada primera y segunda** coinciden entre polinomios contiguos:\n",
    "  \n",
    "\n",
    "$$\n",
    "  S'_j(x_{j+1}) = S'_{j+1}(x_{j+1}), \\quad S''_j(x_{j+1}) = S''_{j+1}(x_{j+1})\n",
    "  $$\n",
    "\n",
    "\n",
    "\n",
    " ***Condiciones de Frontera***\n",
    "- **Spline cúbico natural**:  \n",
    "  \n",
    "\n",
    "$$\n",
    "  S''_0(x_0) = S''_{n-1}(x_n) = 0\n",
    "$$\n",
    "\n",
    "\n",
    "\n",
    "- **Spline cúbico condicionado**:  \n",
    "  Se agregan dos condiciones adicionales ${B_0 , B_n}$:\n",
    "  \n",
    "\n",
    "$$\n",
    "  S'_0(x_0) = g'(x_0), \\quad S'_{n-1}(x_n) = f'(x_n)\n",
    "  $$\n",
    "\n",
    "\n"
   ]
  },
  {
   "cell_type": "code",
   "execution_count": 2,
   "id": "e78d1949",
   "metadata": {},
   "outputs": [],
   "source": [
    "\n",
    "def metodo_spline_cubicos(puntos,tipo, B0=None, Bn=None):\n",
    "    x = sp.Symbol('x')\n",
    "    n = len(puntos) - 1  # numero de intervalos\n",
    "    \n",
    "    x_valor = [punto[0] for punto in puntos] # Extraemos los valores x y y\n",
    "    y_valor = [punto[1] for punto in puntos]\n",
    "    \n",
    "    a = [sp.Symbol(f'a_{i}') for i in range(n)]  # Crearamos las 4 incognitas a,b,c,d del sistema\n",
    "    b = [sp.Symbol(f'b_{i}') for i in range(n)]\n",
    "    c = [sp.Symbol(f'c_{i}') for i in range(n)]\n",
    "    d = [sp.Symbol(f'd_{i}') for i in range(n)]\n",
    "    \n",
    "    print(\"Forma general de los splines:\") \n",
    "    for j in range(n):\n",
    "        print(f\"S_{j}(x) = a_{j} + b_{j}*(x - {x_valor[j]}) + c_{j}*(x - {x_valor[j]})^2 + d_{j}*(x - {x_valor[j]})^3\")\n",
    "        print(f\"         para x ∈ [{x_valor[j]}, {x_valor[j+1]}]\")\n",
    "    print()\n",
    "    \n",
    "    ecuaciones = [] #creamos una lista para guardar nuestras ecuaciones\n",
    "    \n",
    "    #obtenemos las ecuaciones mediante los splines\n",
    "    for j in range(n):\n",
    "        # Sj(xj) = yj\n",
    "        eq = a[j] - y_valor[j] #se define la ecuacion por defecto\n",
    "        ecuaciones.append(eq)\n",
    "        # Sj(xj+1) = yj+1 \n",
    "        aux = x_valor[j+1] - x_valor[j] \n",
    "        eq = a[j] + b[j]*aux + c[j]*aux**2 + d[j]*aux**3 - y_valor[j+1] #se define la segunda ecuacion por defecto\n",
    "        ecuaciones.append(eq)\n",
    "    \n",
    "    #  ecuaciones de continuidad de primera derivada\n",
    "    for j in range(n-1):\n",
    "        aux = x_valor[j+1] - x_valor[j]\n",
    "        #S'j(x)=bj+2cj(x-xj)+3d(x-xj)^2\n",
    "        eq = b[j] + 2*c[j]*aux + 3*d[j]*aux**2 - b[j+1]\n",
    "        ecuaciones.append(eq)\n",
    "\n",
    "    \n",
    "    #ecuaciones de continuidad en la segunda derivada\n",
    "    for j in range(n-1):\n",
    "        aux = x_valor[j+1] - x_valor[j]\n",
    "        #S''j(x)=2cj+6d(x-xj)\n",
    "        eq = 2*c[j] + 6*d[j]*aux - 2*c[j+1]\n",
    "        ecuaciones.append(eq)\n",
    "    #para no repetir codigo se seleciona el tipo de las ultimas ecuaciones\n",
    "    if tipo==\"Natural\":\n",
    "        # S''0(x0) = 2*c0 = 0 ecuacion por defecto\n",
    "        eq1 = 2*c[0]\n",
    "        ecuaciones.append(eq1)\n",
    "        \n",
    "        # S''n-1(xn) = 2*cn-1 + 6*dn-1*hn-1 = 0 ecuacion por defecto\n",
    "        aux2 = x_valor[n] - x_valor[n-1]\n",
    "        eq2 = 2*c[n-1] + 6*d[n-1]*aux2\n",
    "        ecuaciones.append(eq2)\n",
    "\n",
    "    if tipo==\"Condicionada\":\n",
    "        # ecuaciones de frontera condicionada\n",
    "        print(\"4. Condiciones de frontera condicionada:\")\n",
    "        # S'0(x0) = B0\n",
    "        eq1 = b[0] - B0 #ecuacion por defecto\n",
    "        ecuaciones.append(eq1)\n",
    "        \n",
    "        # S'n-1(xn) = Bn #ecuacion por defecto\n",
    "        aux2 = x_valor[n] - x_valor[n-1]\n",
    "        eq2 = b[n-1] + 2*c[n-1]*aux2 + 3*d[n-1]*aux2**2 - Bn\n",
    "        ecuaciones.append(eq2)\n",
    "    \n",
    "\n",
    "    variables = a + b + c + d #se establece un formato para remplazar\n",
    "    solucion = sp.solve(ecuaciones, variables) #se resuelve el sistema de ecuaciones\n",
    "    \n",
    "    #se imprime el valor de las variables\n",
    "    for var in variables:\n",
    "        print(f\"{var} = {solucion[var]}\")\n",
    "    print()\n",
    "\n",
    "    splines = [] #se construye una lista para almacenar nuestros splines\n",
    "\n",
    "    for j in range(n):\n",
    "        a_val = solucion[a[j]] #se obtiene el valor de aj,bj,cj,dj\n",
    "        b_val = solucion[b[j]]\n",
    "        c_val = solucion[c[j]]\n",
    "        d_val = solucion[d[j]]\n",
    "        \n",
    "        # Sj(x) = aj + bj*(x-xj) + cj*(x-xj)^2 + dj*(x-xj)^3 #se remplaza en la formula general de los splines\n",
    "        spline = a_val + b_val*(x - x_valor[j]) + c_val*(x - x_valor[j])**2 + d_val*(x - x_valor[j])**3\n",
    "        spline = sp.expand(spline) #se expande y se simplifica la expresion\n",
    "        spline = sp.collect(spline, x)\n",
    "        \n",
    "        intervalo = f\"[{x_valor[j]}, {x_valor[j+1]}]\" #se agrega el interbalo del spline\n",
    "        splines.append((str(spline), intervalo))\n",
    "        \n",
    "        print(f\"S_{j}(x) = {spline}\") #se imprime el spline\n",
    "        print(f\"         para x ∈ {intervalo}\")\n",
    "        print()\n",
    "    \n",
    "    return splines"
   ]
  },
  {
   "cell_type": "code",
   "execution_count": 5,
   "id": "2b84d267",
   "metadata": {},
   "outputs": [
    {
     "name": "stdout",
     "output_type": "stream",
     "text": [
      "Puntos: [(-1, 2), (0, 0), (1, 2)]\n",
      "Número de splines necesarios: 2\n",
      "Spline Cubico Natural\n",
      "Forma general de los splines:\n",
      "S_0(x) = a_0 + b_0*(x - -1) + c_0*(x - -1)^2 + d_0*(x - -1)^3\n",
      "         para x ∈ [-1, 0]\n",
      "S_1(x) = a_1 + b_1*(x - 0) + c_1*(x - 0)^2 + d_1*(x - 0)^3\n",
      "         para x ∈ [0, 1]\n",
      "\n",
      "a_0 = 2\n",
      "a_1 = 0\n",
      "b_0 = -3\n",
      "b_1 = 0\n",
      "c_0 = 0\n",
      "c_1 = 3\n",
      "d_0 = 1\n",
      "d_1 = -1\n",
      "\n",
      "S_0(x) = x**3 + 3*x**2\n",
      "         para x ∈ [-1, 0]\n",
      "\n",
      "S_1(x) = -x**3 + 3*x**2\n",
      "         para x ∈ [0, 1]\n",
      "\n",
      "Spline Cubico Condicionado\n",
      "Forma general de los splines:\n",
      "S_0(x) = a_0 + b_0*(x - -1) + c_0*(x - -1)^2 + d_0*(x - -1)^3\n",
      "         para x ∈ [-1, 0]\n",
      "S_1(x) = a_1 + b_1*(x - 0) + c_1*(x - 0)^2 + d_1*(x - 0)^3\n",
      "         para x ∈ [0, 1]\n",
      "\n",
      "4. Condiciones de frontera condicionada:\n",
      "a_0 = 2\n",
      "a_1 = 0\n",
      "b_0 = 0\n",
      "b_1 = -1/4\n",
      "c_0 = -23/4\n",
      "c_1 = 11/2\n",
      "d_0 = 15/4\n",
      "d_1 = -13/4\n",
      "\n",
      "S_0(x) = 15*x**3/4 + 11*x**2/2 - x/4\n",
      "         para x ∈ [-1, 0]\n",
      "\n",
      "S_1(x) = -13*x**3/4 + 11*x**2/2 - x/4\n",
      "         para x ∈ [0, 1]\n",
      "\n"
     ]
    }
   ],
   "source": [
    "#ejemplo\n",
    "puntos_3 = [(-1, 2), (0,0), (1, 2)]\n",
    "print(f\"Puntos: {puntos_3}\")\n",
    "print(f\"Número de splines necesarios: {len(puntos_3)-1}\")\n",
    "print(\"Spline Cubico Natural\")\n",
    "splines_nat_3 = metodo_spline_cubicos(puntos_3,\"Natural\")\n",
    "print(\"Spline Cubico Condicionado\")\n",
    "splines_cond_3 = metodo_spline_cubicos(puntos_3,\"Condicionada\",0,1)"
   ]
  },
  {
   "cell_type": "markdown",
   "id": "33182290",
   "metadata": {},
   "source": [
    "# Unidad 3- Mínimos Cuadrados Codificaión #3"
   ]
  },
  {
   "cell_type": "markdown",
   "id": "015f30e3",
   "metadata": {},
   "source": [
    "# Método de minimos cuadrados"
   ]
  },
  {
   "cell_type": "markdown",
   "id": "b96fed04",
   "metadata": {},
   "source": [
    " Minimiza la suma de los cuadrados de los errores (residuos) entre los valores\n",
    " observados y los valores estimados por un modelo.\n",
    " Dados los puntos {(x1,y1),(x2,y2),(xn,yn)}  \n",
    " $E = \\sum_{i=1}^{n} [y_i - (a_1 x_i + a_0)]^{2}$   \n",
    " $E = \\sum_{i=1}^{n} [y_i - f(x_i)]^{2}$ \n",
    " donde las incógnitas son :    \n",
    " $a_1$ : equivalente a m  ,coeficientes  \n",
    " $a_0$ :equivalente a b   ,terminos  "
   ]
  },
  {
   "cell_type": "code",
   "execution_count": 46,
   "id": "4fee6032",
   "metadata": {},
   "outputs": [],
   "source": [
    "def metodo_minimos_cuadrados(puntos, grado):\n",
    "    \n",
    "    # Extraemos los valores de x y y de los puntos\n",
    "    x = [punto[0] for punto in puntos]\n",
    "    y = [punto[1] for punto in puntos]\n",
    "    n = len(puntos)\n",
    "    m = grado + 1  # numero de coeficientes\n",
    "    \n",
    "    # Construimos la matriz de coeficientes y el vector de términos independientes\n",
    "    A = []\n",
    "    b = []\n",
    "    \n",
    "    # Para cada ecuación del sistema\n",
    "    for i in range(m):\n",
    "        fila = []\n",
    "        # Para cada coeficiente\n",
    "        for j in range(m):\n",
    "            suma = sum(x[k]**(i+j) for k in range(n))\n",
    "            fila.append(suma)\n",
    "        A.append(fila)\n",
    "        \n",
    "        # Término independiente\n",
    "        suma_b = sum(y[k] * (x[k]**i) for k in range(n))\n",
    "        b.append(suma_b)\n",
    "    \n",
    "    # Resolvemos el sistema usando numpy\n",
    "    A_np = np.array(A, dtype=float)\n",
    "    b_np = np.array(b, dtype=float)\n",
    "    \n",
    "    try:\n",
    "        coeficientes = np.linalg.solve(A_np, b_np) #resuelve la matriz con sus coeficientes y terminos\n",
    "        print(\"Coeficientes calculados:\")\n",
    "        for i, coef in enumerate(coeficientes):\n",
    "            print(f\"a{i} = {coef}\") #mostramos los coeficientes\n",
    "        print()\n",
    "        \n",
    "        # Construimos la ecuación final\n",
    "        x = sp.Symbol('x')\n",
    "        ecuacion = sum(coeficientes[i] * x**i for i in range(m)) #multiplica las x con sus respectivos coeficientes\n",
    "        ecuacion = sp.expand(ecuacion) #expandimos y simplificamos la ecuacion\n",
    "        ecuacion_str = str(ecuacion)\n",
    "        \n",
    "        return ecuacion_str, coeficientes\n",
    "        \n",
    "    except np.linalg.LinAlgError:\n",
    "        print(\"Error: El sistema no tiene solución única\")\n",
    "        return None\n",
    "\n",
    "\n"
   ]
  },
  {
   "cell_type": "code",
   "execution_count": 47,
   "id": "554a2640",
   "metadata": {},
   "outputs": [
    {
     "name": "stdout",
     "output_type": "stream",
     "text": [
      "Nuestros puntos: [(-2, 2), (0, -1), (2, -2), (6, 2)]\n",
      "Coeficientes calculados:\n",
      "a0 = -0.999999999999999\n",
      "a1 = -1.0\n",
      "a2 = 0.24999999999999997\n",
      "\n",
      "Resultado: y = 0.25*x**2 - 1.0*x - 0.999999999999999\n"
     ]
    }
   ],
   "source": [
    "# Realizamos el ejemplo\n",
    "puntos = [(-2, 2), (0, -1), (2, -2), (6, 2)]\n",
    "print(f\"Nuestros puntos: {puntos}\")\n",
    "resultado = metodo_minimos_cuadrados(puntos, 2)\n",
    " \n",
    "if resultado:\n",
    "    ecuacion_str, coeficientes = resultado\n",
    "    print(f\"Resultado: y = {ecuacion_str}\")"
   ]
  }
 ],
 "metadata": {
  "kernelspec": {
   "display_name": "davidpiton",
   "language": "python",
   "name": "python3"
  },
  "language_info": {
   "codemirror_mode": {
    "name": "ipython",
    "version": 3
   },
   "file_extension": ".py",
   "mimetype": "text/x-python",
   "name": "python",
   "nbconvert_exporter": "python",
   "pygments_lexer": "ipython3",
   "version": "3.13.3"
  }
 },
 "nbformat": 4,
 "nbformat_minor": 5
}
