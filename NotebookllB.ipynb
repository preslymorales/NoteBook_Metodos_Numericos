{
 "cells": [
  {
   "cell_type": "markdown",
   "id": "22bd05db",
   "metadata": {},
   "source": [
    "<div style=\"text-align: center;\">\n",
    "    <h3 style=\"font-size: 1.8em;\"><em>Métodos Numéricos</em></h3>\n",
    "    <p>Nombre: Presly Morales</p>\n",
    "    <p>Notebook llB</p>\n",
    "</div>"
   ]
  },
  {
   "cell_type": "markdown",
   "id": "960aa75c",
   "metadata": {},
   "source": [
    "<div style=\"text-align: center;\">\n",
    "    <big><p>Unidad 4</p><big>\n",
    "</div>"
   ]
  },
  {
   "cell_type": "code",
   "execution_count": 5,
   "id": "1ea859c1",
   "metadata": {},
   "outputs": [],
   "source": [
    "import sympy as sp\n",
    "import numpy as np"
   ]
  },
  {
   "cell_type": "code",
   "execution_count": 6,
   "id": "0a6b0e66",
   "metadata": {},
   "outputs": [],
   "source": [
    "def imprimir_matriz(matriz):\n",
    "    n = matriz.rows\n",
    "    m = matriz.cols\n",
    "    for i in range(n):\n",
    "        for j in range(m):\n",
    "            print(f\"{matriz[i,j]}\",end=\"\\t            \")\n",
    "        print()\n",
    "        "
   ]
  },
  {
   "cell_type": "markdown",
   "id": "55026f75",
   "metadata": {},
   "source": [
    "# Eliminación Gaussiana"
   ]
  },
  {
   "cell_type": "code",
   "execution_count": 7,
   "id": "f2dafb57",
   "metadata": {},
   "outputs": [],
   "source": [
    "def eliminacion_gaussiana(matriz):\n",
    "    n = matriz.rows #numero de filas\n",
    "\n",
    "    for i in range(n): #convierte toda la matriz con presicion de 32 bits\n",
    "        for j in range(n+1):\n",
    "            matriz[i, j] = np.float32(matriz[i,j])\n",
    "            \n",
    "    for i in range(n):\n",
    "        # busca el pivote distinto de cero\n",
    "        pivote = None\n",
    "        for p in range(i, n):\n",
    "            #print(\"fila=\",p,\"columna =\",i)\n",
    "            if matriz[p, i] != 0:\n",
    "                pivote = p\n",
    "                print(\"pivote =\",float(matriz[p,i]))\n",
    "                break\n",
    "            \n",
    "        if pivote is None:\n",
    "            print(\"no existe una solución única\")\n",
    "            raise ValueError(\"no existe una solución única\")\n",
    "\n",
    "        # intercambia las filas, para poder eliminar en forma descendente con el pivote\n",
    "        if pivote != i:\n",
    "            print(f\"Intercabio de filas {i}<->{pivote}\")\n",
    "            #cambio de filas, fila pivote<->fila i\n",
    "            aux = matriz[i,:]\n",
    "            matriz[i,:] = matriz[pivote,:]\n",
    "            matriz[pivote,:] = aux\n",
    "            imprimir_matriz(matriz)\n",
    "\n",
    "        # convierte a 0 los numeros debajo del pivote\n",
    "        for j in range(i + 1, n):\n",
    "            m = np.float32(matriz[j, i]) / np.float32(matriz[i, i])\n",
    "            print(\"valor de m= \",m)\n",
    "            for k in range(n+1):\n",
    "                matriz[j, k] = np.float32(matriz[j, k] - np.float32(m* matriz[i, k]))\n",
    "            imprimir_matriz(matriz)\n",
    "            \n",
    "    # verifica las soluciones\n",
    "    if matriz[n-1, n-1] == 0:\n",
    "        raise ValueError(\"no existe una solución única\")\n",
    "\n",
    "    # obtiene los valores de las variables\n",
    "    # sustitución hacia atrás\n",
    "    x = [0]*n\n",
    "    for i in range(n-1,-1,-1):\n",
    "        suma = np.float32(sum(np.float32(matriz[i, j] * x[j]) for j in range(i + 1, n)))\n",
    "        x[i] = np.float32((np.float32(matriz[i, -1] - suma)) / np.float32(matriz[i, i]))\n",
    "    return x\n"
   ]
  },
  {
   "cell_type": "code",
   "execution_count": 8,
   "id": "4f639bbd",
   "metadata": {},
   "outputs": [
    {
     "name": "stdout",
     "output_type": "stream",
     "text": [
      "pivote = 3.0\n",
      "valor de m=  0.6666667\n",
      "3.00000\t            2.00000\t            1.00000\t            1.00000\t            1.00000\t            \n",
      "0\t            1.66667\t            2.33333\t            1.33333\t            3.33333\t            \n",
      "5.00000\t            4.00000\t            6.00000\t            3.00000\t            7.00000\t            \n",
      "4.00000\t            3.00000\t            5.00000\t            6.00000\t            10.0000\t            \n",
      "valor de m=  1.6666666\n",
      "3.00000\t            2.00000\t            1.00000\t            1.00000\t            1.00000\t            \n",
      "0\t            1.66667\t            2.33333\t            1.33333\t            3.33333\t            \n",
      "0\t            0.666667\t            4.33333\t            1.33333\t            5.33333\t            \n",
      "4.00000\t            3.00000\t            5.00000\t            6.00000\t            10.0000\t            \n",
      "valor de m=  1.3333334\n",
      "3.00000\t            2.00000\t            1.00000\t            1.00000\t            1.00000\t            \n",
      "0\t            1.66667\t            2.33333\t            1.33333\t            3.33333\t            \n",
      "0\t            0.666667\t            4.33333\t            1.33333\t            5.33333\t            \n",
      "0\t            0.333333\t            3.66667\t            4.66667\t            8.66667\t            \n",
      "pivote = 1.6666666269302368\n",
      "valor de m=  0.40000007\n",
      "3.00000\t            2.00000\t            1.00000\t            1.00000\t            1.00000\t            \n",
      "0\t            1.66667\t            2.33333\t            1.33333\t            3.33333\t            \n",
      "0\t            0\t            3.40000\t            0.800000\t            4.00000\t            \n",
      "0\t            0.333333\t            3.66667\t            4.66667\t            8.66667\t            \n",
      "valor de m=  0.19999996\n",
      "3.00000\t            2.00000\t            1.00000\t            1.00000\t            1.00000\t            \n",
      "0\t            1.66667\t            2.33333\t            1.33333\t            3.33333\t            \n",
      "0\t            0\t            3.40000\t            0.800000\t            4.00000\t            \n",
      "0\t            0\t            3.20000\t            4.40000\t            8.00000\t            \n",
      "pivote = 3.4000000953674316\n",
      "valor de m=  0.9411765\n",
      "3.00000\t            2.00000\t            1.00000\t            1.00000\t            1.00000\t            \n",
      "0\t            1.66667\t            2.33333\t            1.33333\t            3.33333\t            \n",
      "0\t            0\t            3.40000\t            0.800000\t            4.00000\t            \n",
      "0\t            0\t            0\t            3.64706\t            4.23529\t            \n",
      "pivote = 3.6470589637756348\n",
      "solución del sistema:\n",
      "x1 = -0.2258065\n",
      "x2 = -0.1935484\n",
      "x3 = 0.9032258\n",
      "x4 = 1.1612903\n"
     ]
    }
   ],
   "source": [
    "#ejemplo de Eliminación Gaussiana\n",
    "\n",
    "# matriz ampliada\n",
    "matriz = sp.Matrix([\n",
    "    [3,2,1,1,1],\n",
    "    [2,3,3,2,4],\n",
    "    [5,4,6,3,7],\n",
    "    [4,3,5,6,10]\n",
    "])\n",
    "valores = eliminacion_gaussiana(matriz)\n",
    "print(\"solución del sistema:\")\n",
    "for i in range(len(valores)):\n",
    "    print(f\"x{i+1} = {valores[i]:.7f}\")\n"
   ]
  },
  {
   "cell_type": "markdown",
   "id": "f69355ba",
   "metadata": {},
   "source": [
    "# Gauss-Jordan"
   ]
  },
  {
   "cell_type": "markdown",
   "id": "bca4ab45",
   "metadata": {},
   "source": []
  },
  {
   "cell_type": "code",
   "execution_count": 9,
   "id": "8f3da6e6",
   "metadata": {},
   "outputs": [],
   "source": [
    "def gauss_jordan(matriz):\n",
    "    n = matriz.rows #numero de filas\n",
    "\n",
    "    for i in range(n): #convierte toda la matriz con presicion de 32 bits\n",
    "        for j in range(n+1):\n",
    "            matriz[i, j] = np.float32(matriz[i,j])         \n",
    "    for i in range(n):\n",
    "        # busca el pivote distinto de cero\n",
    "        pivote = None\n",
    "        for p in range(i, n):\n",
    "            #print(\"fila=\",p,\"columna =\",i)\n",
    "            if matriz[p, i] != 0:\n",
    "                pivote = p\n",
    "                print(\"pivote =\",float(matriz[p,i]))\n",
    "                break   \n",
    "        if pivote is None:\n",
    "            print(\"no existe una solución única\")\n",
    "            raise ValueError(\"no existe una solución única\")\n",
    "\n",
    "        # intercambia las filas, para poder eliminar en forma descendente con el pivote\n",
    "        if pivote != i:\n",
    "            print(f\"Intercabio de filas {i}<->{pivote}\")\n",
    "            #cambio de filas, fila pivote<->fila i\n",
    "            aux = matriz[i,:]\n",
    "            matriz[i,:] = matriz[pivote,:]\n",
    "            matriz[pivote,:] = aux\n",
    "            imprimir_matriz(matriz)\n",
    "\n",
    "        # convierte a 0 los numeros debajo del pivote\n",
    "        for j in range(i + 1, n):\n",
    "            m = np.float32(matriz[j, i]) / np.float32(matriz[i, i])\n",
    "            print(\"valor de m= \",m)\n",
    "            for k in range(n+1):\n",
    "                matriz[j, k] = np.float32(matriz[j, k] - np.float32(m* matriz[i, k]))\n",
    "            imprimir_matriz(matriz)\n",
    "    # convierte a 1 la diagonal\n",
    "    for i in range(n-1,-1,-1):\n",
    "        if matriz[i,i] != 1:\n",
    "            m = np.float32(1/matriz[i,i])\n",
    "            print(\"valor de m= \",m)\n",
    "            for k in range(n+1):\n",
    "                matriz[i,k] = np.float32(m*matriz[i,k])\n",
    "            imprimir_matriz(matriz)\n",
    "    # convierte a 0 los numeros encima de la diagonal\n",
    "    for i in range(n-1,-1,-1): \n",
    "        for j in range(i-1,-1,-1): \n",
    "            m = np.float32(matriz[j,i]/matriz[i,i])\n",
    "            print(\"valor de m= \",m)\n",
    "            for k in range(n+1):\n",
    "                matriz[j,k] = np.float32(matriz[j,k]- np.float32(m* matriz[i,k]))\n",
    "            imprimir_matriz(matriz)\n",
    "    # verifica las soluciones\n",
    "    if matriz[n-1, n-1] == 0:\n",
    "        raise ValueError(\"no existe una solución única\")\n",
    "\n",
    "    # obtiene los valores de las variables\n",
    "    x = [0]*n\n",
    "    for i in range(n-1,-1,-1):\n",
    "        x[i] = np.float32(matriz[i, -1])\n",
    "\n",
    "    return x"
   ]
  },
  {
   "cell_type": "code",
   "execution_count": 10,
   "id": "1b9b4245",
   "metadata": {},
   "outputs": [
    {
     "name": "stdout",
     "output_type": "stream",
     "text": [
      "pivote = 2.0\n",
      "valor de m=  0.5\n",
      "2.00000\t            1.00000\t            -1.00000\t            1.00000\t            -3.00000\t            7.00000\t            \n",
      "0\t            -0.500000\t            2.50000\t            -1.50000\t            2.50000\t            -1.50000\t            \n",
      "0\t            -2.00000\t            -1.00000\t            1.00000\t            -1.00000\t            -5.00000\t            \n",
      "3.00000\t            1.00000\t            -4.00000\t            0\t            5.00000\t            6.00000\t            \n",
      "1.00000\t            -1.00000\t            -1.00000\t            -1.00000\t            1.00000\t            -3.00000\t            \n",
      "valor de m=  0.0\n",
      "2.00000\t            1.00000\t            -1.00000\t            1.00000\t            -3.00000\t            7.00000\t            \n",
      "0\t            -0.500000\t            2.50000\t            -1.50000\t            2.50000\t            -1.50000\t            \n",
      "0\t            -2.00000\t            -1.00000\t            1.00000\t            -1.00000\t            -5.00000\t            \n",
      "3.00000\t            1.00000\t            -4.00000\t            0\t            5.00000\t            6.00000\t            \n",
      "1.00000\t            -1.00000\t            -1.00000\t            -1.00000\t            1.00000\t            -3.00000\t            \n",
      "valor de m=  1.5\n",
      "2.00000\t            1.00000\t            -1.00000\t            1.00000\t            -3.00000\t            7.00000\t            \n",
      "0\t            -0.500000\t            2.50000\t            -1.50000\t            2.50000\t            -1.50000\t            \n",
      "0\t            -2.00000\t            -1.00000\t            1.00000\t            -1.00000\t            -5.00000\t            \n",
      "0\t            -0.500000\t            -2.50000\t            -1.50000\t            9.50000\t            -4.50000\t            \n",
      "1.00000\t            -1.00000\t            -1.00000\t            -1.00000\t            1.00000\t            -3.00000\t            \n",
      "valor de m=  0.5\n",
      "2.00000\t            1.00000\t            -1.00000\t            1.00000\t            -3.00000\t            7.00000\t            \n",
      "0\t            -0.500000\t            2.50000\t            -1.50000\t            2.50000\t            -1.50000\t            \n",
      "0\t            -2.00000\t            -1.00000\t            1.00000\t            -1.00000\t            -5.00000\t            \n",
      "0\t            -0.500000\t            -2.50000\t            -1.50000\t            9.50000\t            -4.50000\t            \n",
      "0\t            -1.50000\t            -0.500000\t            -1.50000\t            2.50000\t            -6.50000\t            \n",
      "pivote = -0.5\n",
      "valor de m=  4.0\n",
      "2.00000\t            1.00000\t            -1.00000\t            1.00000\t            -3.00000\t            7.00000\t            \n",
      "0\t            -0.500000\t            2.50000\t            -1.50000\t            2.50000\t            -1.50000\t            \n",
      "0\t            0\t            -11.0000\t            7.00000\t            -11.0000\t            1.00000\t            \n",
      "0\t            -0.500000\t            -2.50000\t            -1.50000\t            9.50000\t            -4.50000\t            \n",
      "0\t            -1.50000\t            -0.500000\t            -1.50000\t            2.50000\t            -6.50000\t            \n",
      "valor de m=  1.0\n",
      "2.00000\t            1.00000\t            -1.00000\t            1.00000\t            -3.00000\t            7.00000\t            \n",
      "0\t            -0.500000\t            2.50000\t            -1.50000\t            2.50000\t            -1.50000\t            \n",
      "0\t            0\t            -11.0000\t            7.00000\t            -11.0000\t            1.00000\t            \n",
      "0\t            0\t            -5.00000\t            0\t            7.00000\t            -3.00000\t            \n",
      "0\t            -1.50000\t            -0.500000\t            -1.50000\t            2.50000\t            -6.50000\t            \n",
      "valor de m=  3.0\n",
      "2.00000\t            1.00000\t            -1.00000\t            1.00000\t            -3.00000\t            7.00000\t            \n",
      "0\t            -0.500000\t            2.50000\t            -1.50000\t            2.50000\t            -1.50000\t            \n",
      "0\t            0\t            -11.0000\t            7.00000\t            -11.0000\t            1.00000\t            \n",
      "0\t            0\t            -5.00000\t            0\t            7.00000\t            -3.00000\t            \n",
      "0\t            0\t            -8.00000\t            3.00000\t            -5.00000\t            -2.00000\t            \n",
      "pivote = -11.0\n",
      "valor de m=  0.45454547\n",
      "2.00000\t            1.00000\t            -1.00000\t            1.00000\t            -3.00000\t            7.00000\t            \n",
      "0\t            -0.500000\t            2.50000\t            -1.50000\t            2.50000\t            -1.50000\t            \n",
      "0\t            0\t            -11.0000\t            7.00000\t            -11.0000\t            1.00000\t            \n",
      "0\t            0\t            0\t            -3.18182\t            12.0000\t            -3.45455\t            \n",
      "0\t            0\t            -8.00000\t            3.00000\t            -5.00000\t            -2.00000\t            \n",
      "valor de m=  0.72727275\n",
      "2.00000\t            1.00000\t            -1.00000\t            1.00000\t            -3.00000\t            7.00000\t            \n",
      "0\t            -0.500000\t            2.50000\t            -1.50000\t            2.50000\t            -1.50000\t            \n",
      "0\t            0\t            -11.0000\t            7.00000\t            -11.0000\t            1.00000\t            \n",
      "0\t            0\t            0\t            -3.18182\t            12.0000\t            -3.45455\t            \n",
      "0\t            0\t            0\t            -2.09091\t            3.00000\t            -2.72727\t            \n",
      "pivote = -3.1818182468414307\n",
      "valor de m=  0.6571428\n",
      "2.00000\t            1.00000\t            -1.00000\t            1.00000\t            -3.00000\t            7.00000\t            \n",
      "0\t            -0.500000\t            2.50000\t            -1.50000\t            2.50000\t            -1.50000\t            \n",
      "0\t            0\t            -11.0000\t            7.00000\t            -11.0000\t            1.00000\t            \n",
      "0\t            0\t            0\t            -3.18182\t            12.0000\t            -3.45455\t            \n",
      "0\t            0\t            0\t            0\t            -4.88571\t            -0.457143\t            \n",
      "pivote = -4.885713577270508\n",
      "valor de m=  -0.20467839\n",
      "2.00000\t            1.00000\t            -1.00000\t            1.00000\t            -3.00000\t            7.00000\t            \n",
      "0\t            -0.500000\t            2.50000\t            -1.50000\t            2.50000\t            -1.50000\t            \n",
      "0\t            0\t            -11.0000\t            7.00000\t            -11.0000\t            1.00000\t            \n",
      "0\t            0\t            0\t            -3.18182\t            12.0000\t            -3.45455\t            \n",
      "0\t            0\t            0\t            0\t            1.00000\t            0.0935673\t            \n",
      "valor de m=  -0.3142857\n",
      "2.00000\t            1.00000\t            -1.00000\t            1.00000\t            -3.00000\t            7.00000\t            \n",
      "0\t            -0.500000\t            2.50000\t            -1.50000\t            2.50000\t            -1.50000\t            \n",
      "0\t            0\t            -11.0000\t            7.00000\t            -11.0000\t            1.00000\t            \n",
      "0\t            0\t            0\t            1.00000\t            -3.77143\t            1.08571\t            \n",
      "0\t            0\t            0\t            0\t            1.00000\t            0.0935673\t            \n",
      "valor de m=  -0.09090909\n",
      "2.00000\t            1.00000\t            -1.00000\t            1.00000\t            -3.00000\t            7.00000\t            \n",
      "0\t            -0.500000\t            2.50000\t            -1.50000\t            2.50000\t            -1.50000\t            \n",
      "0\t            0\t            1.00000\t            -0.636364\t            1.00000\t            -0.0909091\t            \n",
      "0\t            0\t            0\t            1.00000\t            -3.77143\t            1.08571\t            \n",
      "0\t            0\t            0\t            0\t            1.00000\t            0.0935673\t            \n",
      "valor de m=  -2.0\n",
      "2.00000\t            1.00000\t            -1.00000\t            1.00000\t            -3.00000\t            7.00000\t            \n",
      "0\t            1.00000\t            -5.00000\t            3.00000\t            -5.00000\t            3.00000\t            \n",
      "0\t            0\t            1.00000\t            -0.636364\t            1.00000\t            -0.0909091\t            \n",
      "0\t            0\t            0\t            1.00000\t            -3.77143\t            1.08571\t            \n",
      "0\t            0\t            0\t            0\t            1.00000\t            0.0935673\t            \n",
      "valor de m=  0.5\n",
      "1.00000\t            0.500000\t            -0.500000\t            0.500000\t            -1.50000\t            3.50000\t            \n",
      "0\t            1.00000\t            -5.00000\t            3.00000\t            -5.00000\t            3.00000\t            \n",
      "0\t            0\t            1.00000\t            -0.636364\t            1.00000\t            -0.0909091\t            \n",
      "0\t            0\t            0\t            1.00000\t            -3.77143\t            1.08571\t            \n",
      "0\t            0\t            0\t            0\t            1.00000\t            0.0935673\t            \n",
      "valor de m=  -3.7714283\n",
      "1.00000\t            0.500000\t            -0.500000\t            0.500000\t            -1.50000\t            3.50000\t            \n",
      "0\t            1.00000\t            -5.00000\t            3.00000\t            -5.00000\t            3.00000\t            \n",
      "0\t            0\t            1.00000\t            -0.636364\t            1.00000\t            -0.0909091\t            \n",
      "0\t            0\t            0\t            1.00000\t            0\t            1.43860\t            \n",
      "0\t            0\t            0\t            0\t            1.00000\t            0.0935673\t            \n",
      "valor de m=  1.0\n",
      "1.00000\t            0.500000\t            -0.500000\t            0.500000\t            -1.50000\t            3.50000\t            \n",
      "0\t            1.00000\t            -5.00000\t            3.00000\t            -5.00000\t            3.00000\t            \n",
      "0\t            0\t            1.00000\t            -0.636364\t            0\t            -0.184476\t            \n",
      "0\t            0\t            0\t            1.00000\t            0\t            1.43860\t            \n",
      "0\t            0\t            0\t            0\t            1.00000\t            0.0935673\t            \n",
      "valor de m=  -5.0\n",
      "1.00000\t            0.500000\t            -0.500000\t            0.500000\t            -1.50000\t            3.50000\t            \n",
      "0\t            1.00000\t            -5.00000\t            3.00000\t            0\t            3.46784\t            \n",
      "0\t            0\t            1.00000\t            -0.636364\t            0\t            -0.184476\t            \n",
      "0\t            0\t            0\t            1.00000\t            0\t            1.43860\t            \n",
      "0\t            0\t            0\t            0\t            1.00000\t            0.0935673\t            \n",
      "valor de m=  -1.5\n",
      "1.00000\t            0.500000\t            -0.500000\t            0.500000\t            0\t            3.64035\t            \n",
      "0\t            1.00000\t            -5.00000\t            3.00000\t            0\t            3.46784\t            \n",
      "0\t            0\t            1.00000\t            -0.636364\t            0\t            -0.184476\t            \n",
      "0\t            0\t            0\t            1.00000\t            0\t            1.43860\t            \n",
      "0\t            0\t            0\t            0\t            1.00000\t            0.0935673\t            \n",
      "valor de m=  -0.6363637\n",
      "1.00000\t            0.500000\t            -0.500000\t            0.500000\t            0\t            3.64035\t            \n",
      "0\t            1.00000\t            -5.00000\t            3.00000\t            0\t            3.46784\t            \n",
      "0\t            0\t            1.00000\t            0\t            0\t            0.730994\t            \n",
      "0\t            0\t            0\t            1.00000\t            0\t            1.43860\t            \n",
      "0\t            0\t            0\t            0\t            1.00000\t            0.0935673\t            \n",
      "valor de m=  3.0000002\n",
      "1.00000\t            0.500000\t            -0.500000\t            0.500000\t            0\t            3.64035\t            \n",
      "0\t            1.00000\t            -5.00000\t            0\t            0\t            -0.847954\t            \n",
      "0\t            0\t            1.00000\t            0\t            0\t            0.730994\t            \n",
      "0\t            0\t            0\t            1.00000\t            0\t            1.43860\t            \n",
      "0\t            0\t            0\t            0\t            1.00000\t            0.0935673\t            \n",
      "valor de m=  0.50000006\n",
      "1.00000\t            0.500000\t            -0.500000\t            0\t            0\t            2.92105\t            \n",
      "0\t            1.00000\t            -5.00000\t            0\t            0\t            -0.847954\t            \n",
      "0\t            0\t            1.00000\t            0\t            0\t            0.730994\t            \n",
      "0\t            0\t            0\t            1.00000\t            0\t            1.43860\t            \n",
      "0\t            0\t            0\t            0\t            1.00000\t            0.0935673\t            \n",
      "valor de m=  -5.0\n",
      "1.00000\t            0.500000\t            -0.500000\t            0\t            0\t            2.92105\t            \n",
      "0\t            1.00000\t            0\t            0\t            0\t            2.80702\t            \n",
      "0\t            0\t            1.00000\t            0\t            0\t            0.730994\t            \n",
      "0\t            0\t            0\t            1.00000\t            0\t            1.43860\t            \n",
      "0\t            0\t            0\t            0\t            1.00000\t            0.0935673\t            \n",
      "valor de m=  -0.5\n",
      "1.00000\t            0.500000\t            0\t            0\t            0\t            3.28655\t            \n",
      "0\t            1.00000\t            0\t            0\t            0\t            2.80702\t            \n",
      "0\t            0\t            1.00000\t            0\t            0\t            0.730994\t            \n",
      "0\t            0\t            0\t            1.00000\t            0\t            1.43860\t            \n",
      "0\t            0\t            0\t            0\t            1.00000\t            0.0935673\t            \n",
      "valor de m=  0.5\n",
      "1.00000\t            0\t            0\t            0\t            0\t            1.88304\t            \n",
      "0\t            1.00000\t            0\t            0\t            0\t            2.80702\t            \n",
      "0\t            0\t            1.00000\t            0\t            0\t            0.730994\t            \n",
      "0\t            0\t            0\t            1.00000\t            0\t            1.43860\t            \n",
      "0\t            0\t            0\t            0\t            1.00000\t            0.0935673\t            \n",
      "solución del sistema:\n",
      "x1 = 1.8830410\n",
      "x2 = 2.8070176\n",
      "x3 = 0.7309942\n",
      "x4 = 1.4385966\n",
      "x5 = 0.0935673\n"
     ]
    }
   ],
   "source": [
    "#ejemplo de Gauss Jorda\n",
    "# matriz ampliada \n",
    "matriz = sp.Matrix([\n",
    "    [2,1,-1,1,-3,7],\n",
    "    [1,0,2,-1,1,2],\n",
    "    [0,-2,-1,1,-1,-5],\n",
    "    [3,1,-4,0,5,6],\n",
    "    [1,-1,-1,-1,1,-3]\n",
    "])\n",
    "\n",
    "valores = gauss_jordan(matriz)\n",
    "\n",
    "print(\"solución del sistema:\")\n",
    "for i in range(len(valores)):\n",
    "    print(f\"x{i+1} = {valores[i]:.7f}\")"
   ]
  },
  {
   "cell_type": "markdown",
   "id": "0b5e1979",
   "metadata": {},
   "source": [
    "# Descomposición LU, Método Matriz Inversa"
   ]
  },
  {
   "cell_type": "code",
   "execution_count": 11,
   "id": "53d9160f",
   "metadata": {},
   "outputs": [],
   "source": [
    "def matriz_inversa(matriz):\n",
    "    \n",
    "    if matriz.rows == matriz.cols:\n",
    "        n = matriz.rows\n",
    "        matrizidentidad = sp.zeros(matriz.rows,matriz.cols)\n",
    "        for i in range(matriz.rows): #se crea una matriz identidad\n",
    "            matrizidentidad[i,i] = 1\n",
    "\n",
    "        for i in range(n): #Metodo de Gauss-Jordan\n",
    "        # busca el pivote distinto de cero\n",
    "            pivote = None\n",
    "            for p in range(i, n):\n",
    "                #print(\"fila=\",p,\"columna =\",i)\n",
    "                if matriz[p, i] != 0:\n",
    "                    pivote = p\n",
    "                    print(\"pivote =\",float(matriz[p,i]))\n",
    "                    break   \n",
    "            if pivote is None:\n",
    "                print(\"no existe una solución única\")\n",
    "                raise ValueError(\"no existe una solución única\")\n",
    "\n",
    "            # intercambia las filas, para poder eliminar en forma descendente con el pivote\n",
    "            if pivote != i:\n",
    "                print(f\"Intercabio de filas {i}<->{pivote}\")\n",
    "                #cambio de filas, fila pivote<->fila i\n",
    "                aux = matriz[i,:]\n",
    "                auxidentidad = matrizidentidad[i,:]\n",
    "                matriz[i,:] = matriz[pivote,:]\n",
    "                matrizidentidad[i,:] = matrizidentidad[pivote,:]\n",
    "                matriz[pivote,:] = aux\n",
    "                matrizidentidad[pivote,:] = auxidentidad\n",
    "                print(f\"Matriz =\\n \")\n",
    "                imprimir_matriz(matriz)\n",
    "                print(f\"Matriz Inversa=\\n \")\n",
    "                imprimir_matriz(matrizidentidad)\n",
    "\n",
    "            # convierte a 0 los numeros debajo del pivote\n",
    "            for j in range(i + 1, n):\n",
    "                m = (matriz[j, i]) / (matriz[i, i])\n",
    "                print(\"valor de m= \",m)\n",
    "                for k in range(n):\n",
    "                    matriz[j, k] = (matriz[j, k] - (m* matriz[i, k]))\n",
    "                    matrizidentidad[j,k] = (matrizidentidad[j,k]-(m*matrizidentidad[i,k]))\n",
    "                print(f\"Matriz =\\n \")\n",
    "                imprimir_matriz(matriz)\n",
    "                print(f\"Matriz Inversa=\\n \")\n",
    "                imprimir_matriz(matrizidentidad)\n",
    "        # convierte a 1 la diagonal\n",
    "        for i in range(n-1,-1,-1):\n",
    "            if matriz[i,i] != 1:  \n",
    "                m = (1/matriz[i,i])\n",
    "                print(\"valor de m= \",m)\n",
    "                for k in range(n):\n",
    "                    matriz[i,k] = m*matriz[i,k]\n",
    "                    matrizidentidad[i,k]=m*matrizidentidad[i,k]\n",
    "                print(f\"Matriz =\\n \")\n",
    "                imprimir_matriz(matriz)\n",
    "                print(f\"Matriz Inversa=\\n \")\n",
    "                imprimir_matriz(matrizidentidad)\n",
    "        # convierte a 0 los numeros encima de la diagonal\n",
    "        for i in range(n-1,-1,-1): \n",
    "            for j in range(i-1,-1,-1): \n",
    "                m = (matriz[j,i]/matriz[i,i])\n",
    "                print(\"valor de m= \",m)\n",
    "                for k in range(n):\n",
    "                    matriz[j,k] = (matriz[j,k]- (m* matriz[i,k]))\n",
    "                    matrizidentidad[j,k] = (matrizidentidad[j,k]- (m* matrizidentidad[i,k]))\n",
    "                print(f\"Matriz =\\n \")\n",
    "                imprimir_matriz(matriz)\n",
    "                print(f\"Matriz Inversa=\\n \")\n",
    "                imprimir_matriz(matrizidentidad)\n",
    "        return matrizidentidad\n",
    "    else:\n",
    "        print(\"No es una matriz cuadrada\")"
   ]
  },
  {
   "cell_type": "code",
   "execution_count": 12,
   "id": "17d78f95",
   "metadata": {},
   "outputs": [
    {
     "name": "stdout",
     "output_type": "stream",
     "text": [
      "pivote = 5.0\n",
      "valor de m=  0\n",
      "Matriz =\n",
      " \n",
      "5\t            0\t            6\t            \n",
      "0\t            -5\t            -2\t            \n",
      "0\t            0\t            1\t            \n",
      "Matriz Inversa=\n",
      " \n",
      "1\t            0\t            0\t            \n",
      "0\t            1\t            0\t            \n",
      "0\t            0\t            1\t            \n",
      "valor de m=  0\n",
      "Matriz =\n",
      " \n",
      "5\t            0\t            6\t            \n",
      "0\t            -5\t            -2\t            \n",
      "0\t            0\t            1\t            \n",
      "Matriz Inversa=\n",
      " \n",
      "1\t            0\t            0\t            \n",
      "0\t            1\t            0\t            \n",
      "0\t            0\t            1\t            \n",
      "pivote = -5.0\n",
      "valor de m=  0\n",
      "Matriz =\n",
      " \n",
      "5\t            0\t            6\t            \n",
      "0\t            -5\t            -2\t            \n",
      "0\t            0\t            1\t            \n",
      "Matriz Inversa=\n",
      " \n",
      "1\t            0\t            0\t            \n",
      "0\t            1\t            0\t            \n",
      "0\t            0\t            1\t            \n",
      "pivote = 1.0\n",
      "valor de m=  -1/5\n",
      "Matriz =\n",
      " \n",
      "5\t            0\t            6\t            \n",
      "0\t            1\t            2/5\t            \n",
      "0\t            0\t            1\t            \n",
      "Matriz Inversa=\n",
      " \n",
      "1\t            0\t            0\t            \n",
      "0\t            -1/5\t            0\t            \n",
      "0\t            0\t            1\t            \n",
      "valor de m=  1/5\n",
      "Matriz =\n",
      " \n",
      "1\t            0\t            6/5\t            \n",
      "0\t            1\t            2/5\t            \n",
      "0\t            0\t            1\t            \n",
      "Matriz Inversa=\n",
      " \n",
      "1/5\t            0\t            0\t            \n",
      "0\t            -1/5\t            0\t            \n",
      "0\t            0\t            1\t            \n",
      "valor de m=  2/5\n",
      "Matriz =\n",
      " \n",
      "1\t            0\t            6/5\t            \n",
      "0\t            1\t            0\t            \n",
      "0\t            0\t            1\t            \n",
      "Matriz Inversa=\n",
      " \n",
      "1/5\t            0\t            0\t            \n",
      "0\t            -1/5\t            -2/5\t            \n",
      "0\t            0\t            1\t            \n",
      "valor de m=  6/5\n",
      "Matriz =\n",
      " \n",
      "1\t            0\t            0\t            \n",
      "0\t            1\t            0\t            \n",
      "0\t            0\t            1\t            \n",
      "Matriz Inversa=\n",
      " \n",
      "1/5\t            0\t            -6/5\t            \n",
      "0\t            -1/5\t            -2/5\t            \n",
      "0\t            0\t            1\t            \n",
      "valor de m=  0\n",
      "Matriz =\n",
      " \n",
      "1\t            0\t            0\t            \n",
      "0\t            1\t            0\t            \n",
      "0\t            0\t            1\t            \n",
      "Matriz Inversa=\n",
      " \n",
      "1/5\t            0\t            -6/5\t            \n",
      "0\t            -1/5\t            -2/5\t            \n",
      "0\t            0\t            1\t            \n"
     ]
    },
    {
     "data": {
      "text/latex": [
       "$\\displaystyle \\left[\\begin{matrix}\\frac{1}{5} & 0 & - \\frac{6}{5}\\\\0 & - \\frac{1}{5} & - \\frac{2}{5}\\\\0 & 0 & 1\\end{matrix}\\right]$"
      ],
      "text/plain": [
       "Matrix([\n",
       "[1/5,    0, -6/5],\n",
       "[  0, -1/5, -2/5],\n",
       "[  0,    0,    1]])"
      ]
     },
     "execution_count": 12,
     "metadata": {},
     "output_type": "execute_result"
    }
   ],
   "source": [
    "matrizd = sp.Matrix([\n",
    "    [5,0,6],\n",
    "    [0,-5,-2],\n",
    "    [0,0,1]\n",
    "])\n",
    "matriz_inversa(matrizd)"
   ]
  },
  {
   "cell_type": "markdown",
   "id": "c8398709",
   "metadata": {},
   "source": [
    "# Descomposición LU, Producto de Matrices"
   ]
  },
  {
   "cell_type": "code",
   "execution_count": 13,
   "id": "b8db4bfa",
   "metadata": {},
   "outputs": [],
   "source": [
    "def multiplicacion_matriz(matrizA, matrizB):\n",
    "      \n",
    "    if matrizA.cols == matrizB.rows: #de A mxn ,B nxc ,n=n\n",
    "        matrizaux = sp.zeros(matrizA.rows,matrizB.cols)\n",
    "        for i in range(matrizA.rows):\n",
    "            for j in range(matrizB.cols):\n",
    "                for k in range(matrizA.rows):\n",
    "                 matrizaux[i,j] += matrizA[i,k]*matrizB[k,j] \n",
    "        return matrizaux\n",
    "    else:\n",
    "        print(\"No se puede multiplicar\")"
   ]
  },
  {
   "cell_type": "code",
   "execution_count": 14,
   "id": "3069c5a1",
   "metadata": {},
   "outputs": [],
   "source": [
    "def metodo_LU_inversa(matrizA,B):\n",
    "    matrizinversa = matriz_inversa(matrizA)\n",
    "    return multiplicacion_matriz(matrizinversa,B)\n"
   ]
  },
  {
   "cell_type": "code",
   "execution_count": 15,
   "id": "e0ab70ed",
   "metadata": {},
   "outputs": [
    {
     "name": "stdout",
     "output_type": "stream",
     "text": [
      "X = \n",
      "\n",
      "pivote = 2.0\n",
      "valor de m=  5/2\n",
      "Matriz =\n",
      " \n",
      "2\t            1\t            \n",
      "0\t            1/2\t            \n",
      "Matriz Inversa=\n",
      " \n",
      "1\t            0\t            \n",
      "-5/2\t            1\t            \n",
      "pivote = 0.5\n",
      "valor de m=  2\n",
      "Matriz =\n",
      " \n",
      "2\t            1\t            \n",
      "0\t            1\t            \n",
      "Matriz Inversa=\n",
      " \n",
      "1\t            0\t            \n",
      "-5\t            2\t            \n",
      "valor de m=  1/2\n",
      "Matriz =\n",
      " \n",
      "1\t            1/2\t            \n",
      "0\t            1\t            \n",
      "Matriz Inversa=\n",
      " \n",
      "1/2\t            0\t            \n",
      "-5\t            2\t            \n",
      "valor de m=  1/2\n",
      "Matriz =\n",
      " \n",
      "1\t            0\t            \n",
      "0\t            1\t            \n",
      "Matriz Inversa=\n",
      " \n",
      "3\t            -1\t            \n",
      "-5\t            2\t            \n"
     ]
    },
    {
     "data": {
      "text/latex": [
       "$\\displaystyle \\left[\\begin{matrix}1\\\\-1\\end{matrix}\\right]$"
      ],
      "text/plain": [
       "Matrix([\n",
       "[ 1],\n",
       "[-1]])"
      ]
     },
     "execution_count": 15,
     "metadata": {},
     "output_type": "execute_result"
    }
   ],
   "source": [
    "matrixaux = sp.Matrix([\n",
    "    [2,1],\n",
    "    [5,3]\n",
    "])\n",
    "matrixb = sp.Matrix([\n",
    "    [1],\n",
    "    [2]\n",
    "])\n",
    "print(\"X = \\n\")\n",
    "metodo_LU_inversa(matrixaux,matrixb)"
   ]
  },
  {
   "cell_type": "code",
   "execution_count": null,
   "id": "99d3dd02",
   "metadata": {},
   "outputs": [],
   "source": []
  },
  {
   "cell_type": "markdown",
   "id": "9b217f3e",
   "metadata": {},
   "source": [
    "# Descomposición LU : DOOLITTLE"
   ]
  },
  {
   "cell_type": "code",
   "execution_count": 2,
   "id": "319f27bb",
   "metadata": {},
   "outputs": [],
   "source": [
    "def metodo_Doolittle(matriz):\n",
    "    n = matriz.rows\n",
    "    matrizU = sp.zeros(n,n)\n",
    "    matrizL = sp.zeros(n,n)\n",
    "    for i in range(n):\n",
    "        matrizL[i,i] = 1\n",
    "    for i in range(n):\n",
    "        for j in range(i,n):\n",
    "            matrizU[i,j] = matriz[i,j] - sum(matrizL[i,k]*matrizU[k,j] for k in range(i))\n",
    "        for j in range(i+1,n):\n",
    "            matrizL[j,i] = (1/matrizU[i,i])*(matriz[j,i]- sum(matrizL[j,k]*matrizU[k,i] for k in range(i)))\n",
    "    return matrizL,matrizU\n",
    "    "
   ]
  },
  {
   "cell_type": "code",
   "execution_count": 25,
   "id": "dabe212d",
   "metadata": {},
   "outputs": [
    {
     "name": "stdout",
     "output_type": "stream",
     "text": [
      "⎡ 1      0     0    0⎤\n",
      "⎢                    ⎥\n",
      "⎢-1/4    1     0    0⎥\n",
      "⎢                    ⎥\n",
      "⎢ 0    -4/15   1    0⎥\n",
      "⎢                    ⎥\n",
      "⎢             -15    ⎥\n",
      "⎢ 0      0    ────  1⎥\n",
      "⎣              56    ⎦\n",
      "⎡4   -1   0    0 ⎤\n",
      "⎢                ⎥\n",
      "⎢0  15/4  -1   0 ⎥\n",
      "⎢                ⎥\n",
      "⎢         56     ⎥\n",
      "⎢0   0    ──  -1 ⎥\n",
      "⎢         15     ⎥\n",
      "⎢                ⎥\n",
      "⎢             209⎥\n",
      "⎢0   0    0   ───⎥\n",
      "⎣             56 ⎦\n"
     ]
    },
    {
     "data": {
      "text/latex": [
       "$\\displaystyle \\left[\\begin{matrix}4 & -1 & 0 & 0\\\\-1 & 4 & -1 & 0\\\\0 & -1 & 4 & -1\\\\0 & 0 & -1 & 4\\end{matrix}\\right]$"
      ],
      "text/plain": [
       "Matrix([\n",
       "[ 4, -1,  0,  0],\n",
       "[-1,  4, -1,  0],\n",
       "[ 0, -1,  4, -1],\n",
       "[ 0,  0, -1,  4]])"
      ]
     },
     "execution_count": 25,
     "metadata": {},
     "output_type": "execute_result"
    }
   ],
   "source": [
    "matrizDoolittle = sp.Matrix([\n",
    "    [4, -1, 0, 0],\n",
    "    [-1, 4, -1, 0],\n",
    "    [0, -1, 4, -1],\n",
    "    [0, 0, -1, 4]\n",
    "])\n",
    "matrizL,matrizU = metodo_Doolittle(matrizDoolittle)\n",
    "sp.pprint(matrizL, use_unicode=True)\n",
    "sp.pprint(matrizU, use_unicode=True)\n",
    "multiplicacion_matriz(matrizL,matrizU)"
   ]
  },
  {
   "cell_type": "markdown",
   "id": "63060369",
   "metadata": {},
   "source": [
    "# Descomposición LU : CROUT"
   ]
  },
  {
   "cell_type": "code",
   "execution_count": 26,
   "id": "f8d617aa",
   "metadata": {},
   "outputs": [],
   "source": [
    "def metodo_Crout(matriz):\n",
    "    n = matriz.rows\n",
    "    matrizL = sp.zeros(n,n)\n",
    "    matrizU = sp.zeros(n,n)\n",
    "    for i in range(n):\n",
    "        matrizU[i,i] = 1\n",
    "    for i in range(n):\n",
    "        for j in range(i,n):\n",
    "            matrizL[j,i] = matriz[j,i] - sum(matrizL[j,k]*matrizU[k,i] for k in range(i))\n",
    "        for j in range(i+1,n):\n",
    "            matrizU[i,j] = (matriz[i,j] - sum(matrizL[i,k]*matrizU[k,j] for k in range(i)))/matrizL[i,i]\n",
    "    return matrizL,matrizU"
   ]
  },
  {
   "cell_type": "code",
   "execution_count": 27,
   "id": "d6d1c5d9",
   "metadata": {},
   "outputs": [
    {
     "data": {
      "text/plain": [
       "(Matrix([\n",
       " [ 3,    0,    0,     0],\n",
       " [-1, -4/3,    0,     0],\n",
       " [ 2, 11/3, 33/4,     0],\n",
       " [ 7, 10/3,  5/2, 61/11]]),\n",
       " Matrix([\n",
       " [1, -1/3,   4/3, -1/3],\n",
       " [0,    1, -13/4, -1/2],\n",
       " [0,    0,     1, 2/11],\n",
       " [0,    0,     0,    1]]))"
      ]
     },
     "execution_count": 27,
     "metadata": {},
     "output_type": "execute_result"
    }
   ],
   "source": [
    "matrizAux = sp.Matrix([\n",
    "    [3,-1,4,-1],\n",
    "    [-1,-1,3,1],\n",
    "    [2,3,-1,-1],\n",
    "    [7,1,1,2]\n",
    "])\n",
    "metodo_Crout(matrizAux)"
   ]
  },
  {
   "cell_type": "markdown",
   "id": "3f559969",
   "metadata": {},
   "source": [
    "# Descomposición LU : CHOLESKY"
   ]
  },
  {
   "cell_type": "code",
   "execution_count": 28,
   "id": "4e82478c",
   "metadata": {},
   "outputs": [],
   "source": [
    "def matriz_transpuesta(matriz):\n",
    "    n = matriz.rows\n",
    "    matrizT = sp.zeros(n,n)\n",
    "    for i in range(n):\n",
    "        for j in range(n):\n",
    "            matrizT[i,j] = matriz[j,i]\n",
    "    return matrizT\n",
    "def boolea_matriz_simétrica(matriz):\n",
    "    n = matriz.rows\n",
    "    matriztranspuesta = matriz_transpuesta(matriz)\n",
    "    for i in range(n):\n",
    "        for j in range(n):\n",
    "            if matriz[i,j] != matriztranspuesta[i,j]:\n",
    "                return False\n",
    "    return True"
   ]
  },
  {
   "cell_type": "code",
   "execution_count": 29,
   "id": "ed445243",
   "metadata": {},
   "outputs": [],
   "source": [
    "def metodo_Cholesky(matriz):\n",
    "    if boolea_matriz_simétrica(matriz):\n",
    "        n= matriz.rows\n",
    "        matrizU = sp.zeros(n,n)\n",
    "        for i in range(n):\n",
    "            matrizU[i,i]=sp.sqrt(matriz[i,i]-(sum(matrizU[k,i]**2 for k in range(i))))\n",
    "            for j in range(i+1,n):\n",
    "                matrizU[i,j]=(matriz[i,j]-(sum(matrizU[k,i]*matrizU[k,j] for k in range(i))))/matrizU[i,i]\n",
    "        matrizUT = matriz_transpuesta(matrizU)\n",
    "            \n",
    "        return matrizU,matrizUT\n",
    "    else:\n",
    "        print(\"No es simetrica\")\n",
    "    "
   ]
  },
  {
   "cell_type": "code",
   "execution_count": 31,
   "id": "fcd2156b",
   "metadata": {},
   "outputs": [
    {
     "name": "stdout",
     "output_type": "stream",
     "text": [
      "⎡2  1  1⎤\n",
      "⎢       ⎥\n",
      "⎢0  3  1⎥\n",
      "⎢       ⎥\n",
      "⎣0  0  2⎦\n",
      "⎡2  0  0⎤\n",
      "⎢       ⎥\n",
      "⎢1  3  0⎥\n",
      "⎢       ⎥\n",
      "⎣1  1  2⎦\n"
     ]
    },
    {
     "data": {
      "text/latex": [
       "$\\displaystyle \\left[\\begin{matrix}4 & 2 & 2\\\\2 & 10 & 4\\\\2 & 4 & 6\\end{matrix}\\right]$"
      ],
      "text/plain": [
       "Matrix([\n",
       "[4,  2, 2],\n",
       "[2, 10, 4],\n",
       "[2,  4, 6]])"
      ]
     },
     "execution_count": 31,
     "metadata": {},
     "output_type": "execute_result"
    }
   ],
   "source": [
    "matrizSimetrica = sp.Matrix([\n",
    "    [4,2,2],\n",
    "    [2,10,4],\n",
    "    [2,4,6]\n",
    "])\n",
    "matrizU,matrizUT= metodo_Cholesky(matrizSimetrica)\n",
    "sp.pprint(matrizU, use_unicode=True)\n",
    "sp.pprint(matrizUT, use_unicode=True)\n",
    "multiplicacion_matriz(matrizUT,matrizU)"
   ]
  },
  {
   "cell_type": "code",
   "execution_count": 34,
   "id": "1b6757ba",
   "metadata": {},
   "outputs": [],
   "source": [
    "def sustitucion_delante(matriz,b):\n",
    "    n = matriz.rows\n",
    "    x = sp.zeros(n,1)\n",
    "    for i in range(n):\n",
    "        suma = b[i,0]-sum(matriz[i,j]*x[j] for j in range(i))\n",
    "        x[i] = suma/matriz[i,i]\n",
    "    return x\n",
    "def sustitucion_atras(matriz,b):\n",
    "    n = matriz.rows\n",
    "    x = sp.zeros(n,1)\n",
    "    for i in reversed(range(n)):\n",
    "        suma = b[i,0]-sum(matriz[i,j]*x[j] for j in range(n-1,i,-1))\n",
    "        x[i] = suma/matriz[i,i]\n",
    "    return x"
   ]
  },
  {
   "cell_type": "code",
   "execution_count": 37,
   "id": "2d73c5e8",
   "metadata": {},
   "outputs": [],
   "source": [
    "def descomposicionLU(matriz,b):\n",
    "    matrizL,matrizU = metodo_Doolittle(matriz)\n",
    "    print(matrizL)\n",
    "    print(matrizU)\n",
    "    print(multiplicacion_matriz(matrizL,matrizU))\n",
    "    y = sustitucion_delante(matrizL,b)\n",
    "    print(y)\n",
    "    x = sustitucion_atras(matrizU,y)\n",
    "    return x"
   ]
  },
  {
   "cell_type": "code",
   "execution_count": 38,
   "id": "4f07bc38",
   "metadata": {},
   "outputs": [
    {
     "name": "stdout",
     "output_type": "stream",
     "text": [
      "Matrix([[1, 0, 0], [2, 1, 0], [-1, 7, 1]])\n",
      "Matrix([[2, 3, 1], [0, 1, 5], [0, 0, -29]])\n",
      "Matrix([[2, 3, 1], [4, 7, 7], [-2, 4, 5]])\n",
      "Matrix([[1], [0], [4]])\n"
     ]
    },
    {
     "data": {
      "text/latex": [
       "$\\displaystyle \\left[\\begin{matrix}- \\frac{27}{58}\\\\\\frac{20}{29}\\\\- \\frac{4}{29}\\end{matrix}\\right]$"
      ],
      "text/plain": [
       "Matrix([\n",
       "[-27/58],\n",
       "[ 20/29],\n",
       "[ -4/29]])"
      ]
     },
     "execution_count": 38,
     "metadata": {},
     "output_type": "execute_result"
    }
   ],
   "source": [
    "matrizdescomLU = sp.Matrix([\n",
    "    [2,3,1],\n",
    "    [4,7,7],\n",
    "    [-2,4,5]\n",
    "])\n",
    "matrizB = sp.Matrix([\n",
    "    [1],\n",
    "    [2],\n",
    "    [3]\n",
    "])\n",
    "descomposicionLU(matrizdescomLU,matrizB)"
   ]
  },
  {
   "cell_type": "markdown",
   "id": "9ee0eacb",
   "metadata": {},
   "source": [
    "# GAUSS - JACOBI"
   ]
  },
  {
   "cell_type": "code",
   "execution_count": null,
   "id": "bfc919ec",
   "metadata": {},
   "outputs": [],
   "source": [
    "def metodo_gauss_jacobi(ecuaciones,numincognitas,iteraciones,tolerancia):\n",
    "    x = sp.symbols(f'x0:{numincognitas}')\n",
    "    x1 = [0]*numincognitas\n",
    "    x2 = [0.0]*numincognitas\n",
    "    x3 = [0.0]*numincognitas\n",
    "    encabezado=\"i \\t\"\n",
    "    iteracion=\"\"\n",
    "    for i in range(numincognitas):\n",
    "        encabezado+=(\"x\"+str(i)+\"              \t     \\t\")\n",
    "        despeje = sp.solve(ecuaciones[i],x[i])\n",
    "        x1[i] = despeje[0]\n",
    "        iteracion+= str(x2[i])+\"                    \\t\"\n",
    "    \n",
    "    encabezado+=\"Tol\\t\"\n",
    "    print(encabezado)\n",
    "    print(\"-\"*90)\n",
    "    print(f\"{0}\\t{iteracion}\\t\\t-----\")\n",
    "    iteracion=\"\"\n",
    "    i=1\n",
    "    while i < iteraciones+1:\n",
    "        for j in range(numincognitas):\n",
    "            x3[j] = x1[j].evalf(subs={x[k]: x2[k] for k in range(numincognitas)}) #subs \n",
    "            iteracion += str(x3[j])+\"\\t\"\n",
    "        error = sum((abs(x3[j]-x2[j])/abs(x3[j])) for j in range(numincognitas))/numincognitas\n",
    "        print(f\"{i}\\t{iteracion}\\t\\t{error}\")\n",
    "        if error < tolerancia:\n",
    "            return x3\n",
    "        x2 =x3\n",
    "        i +=1\n",
    "        iteracion=\"\""
   ]
  },
  {
   "cell_type": "code",
   "execution_count": 95,
   "id": "ca7e104e",
   "metadata": {},
   "outputs": [
    {
     "name": "stdout",
     "output_type": "stream",
     "text": [
      "i \tx0              \t     \tx1              \t     \tx2              \t     \tTol\t\n",
      "------------------------------------------------------------------------------------------\n",
      "0\t0.0                    \t0.0                    \t0.0                    \t\t\t-----\n",
      "1\t0.900000000000000\t-2.20000000000000\t2.20000000000000\t\t\t1.00000000000000\n",
      "2\t1.12000000000000\t-2.09200000000000\t3.05160000000000\t\t\t0\n"
     ]
    },
    {
     "data": {
      "text/plain": [
       "[1.12000000000000, -2.09200000000000, 3.05160000000000]"
      ]
     },
     "execution_count": 95,
     "metadata": {},
     "output_type": "execute_result"
    }
   ],
   "source": [
    "x0,x1,x2 = sp.symbols(f'x0,x1,x2')\n",
    "ecuaciones = [10*x0 + 2*x1 + x2 -9,\n",
    "               2*x0+ 20*x1 -2*x2 +44,\n",
    "               -2*x0+3*x1+10*x2-22]\n",
    "metodo_gauss_jacobi(ecuaciones,3,6,0.0001)"
   ]
  },
  {
   "cell_type": "code",
   "execution_count": null,
   "id": "34a423f0",
   "metadata": {},
   "outputs": [],
   "source": []
  },
  {
   "cell_type": "markdown",
   "id": "4f93af1a",
   "metadata": {},
   "source": [
    "# GAUSS - SEIDEL"
   ]
  },
  {
   "cell_type": "code",
   "execution_count": 106,
   "id": "11447ef9",
   "metadata": {},
   "outputs": [],
   "source": [
    "def metodo_gauss_seidel(ecuaciones,numincognitas,iteraciones,tolerancia):\n",
    "    x = sp.symbols(f'x0:{numincognitas}')\n",
    "    x1 = [0]*numincognitas\n",
    "    x2 = [0.0]*numincognitas\n",
    "    x3 = [0.0]*numincognitas\n",
    "    encabezado=\"i \\t\"\n",
    "    iteracion=\"\"\n",
    "    for i in range(numincognitas):\n",
    "        encabezado+=(\"x\"+str(i)+\"              \t     \\t\")\n",
    "        despeje = sp.solve(ecuaciones[i],x[i])\n",
    "        x1[i] = despeje[0]\n",
    "        iteracion+= str(x2[i])+\"                    \\t\"\n",
    "    \n",
    "    encabezado+=\"Tol\\t\"\n",
    "    print(encabezado)\n",
    "    print(\"-\"*90)\n",
    "    print(f\"{0}\\t{iteracion}\\t\\t-----\")\n",
    "    iteracion=\"\"\n",
    "    i=1\n",
    "    while i < iteraciones+1:\n",
    "        for j in range(numincognitas):\n",
    "            subsaux={}\n",
    "            for k in range(numincognitas):\n",
    "                if j!=k:\n",
    "                    if j<k:\n",
    "                        subsaux[x[k]]=x2[k]\n",
    "                    elif j>k:\n",
    "                        subsaux[x[k]]=x3[k]\n",
    "            x3[j] = x1[j].evalf(subs=subsaux) #subs \n",
    "            iteracion += str(x3[j])+\"\\t\"\n",
    "        error = sum((abs(x3[j]-x2[j])/abs(x3[j])) for j in range(numincognitas))/numincognitas\n",
    "        print(f\"{i}\\t{iteracion}\\t\\t{error}\")\n",
    "        if error < tolerancia:\n",
    "            return x3\n",
    "        x2 =x3\n",
    "        i +=1\n",
    "        iteracion=\"\""
   ]
  },
  {
   "cell_type": "code",
   "execution_count": 107,
   "id": "dbf0c74a",
   "metadata": {},
   "outputs": [
    {
     "name": "stdout",
     "output_type": "stream",
     "text": [
      "i \tx0              \t     \tx1              \t     \tx2              \t     \tTol\t\n",
      "------------------------------------------------------------------------------------------\n",
      "0\t0.0                    \t0.0                    \t0.0                    \t\t\t-----\n",
      "1\t0.900000000000000\t-2.29000000000000\t3.06700000000000\t\t\t1.00000000000000\n",
      "2\t1.05130000000000\t-1.99843000000000\t3.00978900000000\t\t\t0\n"
     ]
    },
    {
     "data": {
      "text/plain": [
       "[1.05130000000000, -1.99843000000000, 3.00978900000000]"
      ]
     },
     "execution_count": 107,
     "metadata": {},
     "output_type": "execute_result"
    }
   ],
   "source": [
    "x0,x1,x2 = sp.symbols(f'x0,x1,x2')\n",
    "ecuaciones = [10*x0 + 2*x1 + x2 -9,\n",
    "               2*x0+ 20*x1 -2*x2 +44,\n",
    "               -2*x0+3*x1+10*x2-22]\n",
    "metodo_gauss_seidel(ecuaciones,3,6,0.0001)"
   ]
  },
  {
   "cell_type": "markdown",
   "id": "23d81679",
   "metadata": {},
   "source": [
    "# Método de Eule"
   ]
  },
  {
   "cell_type": "code",
   "execution_count": null,
   "id": "cc0d1274",
   "metadata": {},
   "outputs": [],
   "source": [
    "def metodo_euler(dydt,y0,h,intervalo,iteraciones,tolerancia=None):\n",
    "    y,t = sp.symbols(\"y t\") #se define las variables\n",
    "    i=0\n",
    "    print(\"i \\t\\t t \\t\\t dydt \\t\\t yi \\t\\t yi+1 \\t\\t Tol\") #definimos el esquema\n",
    "    a = intervalo[0] #valor minimo del intervalo\n",
    "    while i < iteraciones:\n",
    "        ti = a + i * h #se calcula la ubicacion de cada punto de malla\n",
    "        auxdydt = dydt.subs([(y,y0),(t,ti)]) #se remplaza los valores en nuestro f(t,y)\n",
    "        y1 = y0 + h * auxdydt #se calcula con la formula de euler\n",
    "        \n",
    "        if tolerancia!=None: #verifica si tenemos tolerancia\n",
    "            error = (abs(y1-y0)/abs(y1))*100 #se calcula el error relativo porcentual \n",
    "            print(f\"{i}\\t\\t{ti}\\t\\t{auxdydt}\\t\\t{y0}\\t\\t{y1}\\t\\t{error}\") #imprimimos nuestros valores en esquema\n",
    "            if tolerancia > error:\n",
    "                return y1 #returnamos el valor de la aproximacion\n",
    "        else:\n",
    "           error = \"-\"\n",
    "           print(f\"{i}\\t\\t{ti}\\t\\t{auxdydt}\\t\\t{y0}\\t\\t{y1}\\t\\t{error}\") \n",
    "        y0=y1 #actualizamos nuestro \"y\" anterior\n",
    "        i+=1 #sumamos una iteracion"
   ]
  },
  {
   "cell_type": "code",
   "execution_count": 61,
   "id": "66221006",
   "metadata": {},
   "outputs": [
    {
     "name": "stdout",
     "output_type": "stream",
     "text": [
      "i \t\t t \t\t dydt \t\t yi \t\t yi+1 \t\t Tol\n",
      "0\t\t0.0\t\t1.00000000000000\t\t1\t\t1.20000000000000\t\t-\n",
      "1\t\t0.2\t\t1.40000000000000\t\t1.20000000000000\t\t1.48000000000000\t\t-\n",
      "2\t\t0.4\t\t1.88000000000000\t\t1.48000000000000\t\t1.85600000000000\t\t-\n",
      "3\t\t0.6000000000000001\t\t2.45600000000000\t\t1.85600000000000\t\t2.34720000000000\t\t-\n",
      "4\t\t0.8\t\t3.14720000000000\t\t2.34720000000000\t\t2.97664000000000\t\t-\n"
     ]
    }
   ],
   "source": [
    "y,t = sp.symbols(\"y t\")\n",
    "dydt = t + y\n",
    "y0 = 1\n",
    "h=0.2\n",
    "intervalo=[0,1]\n",
    "metodo_euler(dydt,y0,h,intervalo,5)"
   ]
  },
  {
   "cell_type": "markdown",
   "id": "b445a259",
   "metadata": {},
   "source": [
    "# MÉTODO DE EULER MEJORADO"
   ]
  },
  {
   "cell_type": "code",
   "execution_count": 81,
   "id": "17d7c9d9",
   "metadata": {},
   "outputs": [],
   "source": [
    "def metodo_euler_mejorado(dydt,y0,h,intervalo,iteraciones,tolerancia=None):\n",
    "    t,y = sp.symbols(\"t y\") #se define las variables\n",
    "    i=0\n",
    "    print(\"i \\t\\t t \\t\\t dydt \\t\\t yi \\t\\t yi+1 \\t\\t Tol\") #definimos el esquema\n",
    "    a = intervalo[0] #valor minimo del intervalo\n",
    "    while i < iteraciones:\n",
    "        t0 = a + i * h #se calcula la ubicacion de cada punto de malla\n",
    "        t1 = t0 + h #se calcula xn+1\n",
    "        auxdydt = dydt.subs([(t,t0),(y,y0)]) #se remplaza los valores en nuestro f(xn,yn)\n",
    "        y1 = y0 + h * auxdydt #se calcula con la formula de euler\n",
    "        aux2dydt = dydt.subs([(t,t1),(y,y1)]) #se remplaza los valores en nuestro f(xn+1,y*n+1)\n",
    "        y2 = y0 + h * ((auxdydt + aux2dydt)/2) #se calcula la aproximacion con euler mejoraro\n",
    "        if tolerancia!=None: #verifica si tenemos tolerancia\n",
    "            error = (abs(y2-y0)/abs(y2))*100 #se calcula el error relativo porcentual \n",
    "            if tolerancia > error:\n",
    "                return y2 #returnamos el valor de la aproximacion\n",
    "        else:\n",
    "           error = \"-\"\n",
    "        print(f\"{i}\\t\\t{t0}\\t\\t{auxdydt}\\t\\t{y0}\\t\\t{y2}\\t\\t{error}\") \n",
    "        y0=y2 #actualizamos nuestro \"y\" anterior\n",
    "        i+=1 #sumamos una iteracion"
   ]
  },
  {
   "cell_type": "code",
   "execution_count": 82,
   "id": "91373939",
   "metadata": {},
   "outputs": [
    {
     "name": "stdout",
     "output_type": "stream",
     "text": [
      "i \t\t t \t\t dydt \t\t yi \t\t yi+1 \t\t Tol\n",
      "0\t\t0.0\t\t1\t\t1\t\t1.24000000000000\t\t-\n",
      "1\t\t0.2\t\t1.44000000000000\t\t1.24000000000000\t\t1.57680000000000\t\t-\n",
      "2\t\t0.4\t\t1.97680000000000\t\t1.57680000000000\t\t2.03169600000000\t\t-\n",
      "3\t\t0.6000000000000001\t\t2.63169600000000\t\t2.03169600000000\t\t2.63066912000000\t\t-\n",
      "4\t\t0.8\t\t3.43066912000000\t\t2.63066912000000\t\t3.40541632640000\t\t-\n"
     ]
    }
   ],
   "source": [
    "t,y = sp.symbols(\"t y\")\n",
    "dydt = t + y\n",
    "y0 = 1\n",
    "h=0.2\n",
    "intervalo=[0,1]\n",
    "metodo_euler_mejorado(dydt,y0,h,intervalo,5)"
   ]
  },
  {
   "cell_type": "markdown",
   "id": "a7083013",
   "metadata": {},
   "source": [
    "# MÉTODO DE TAYLOR DE MAYOR ORDEN"
   ]
  },
  {
   "cell_type": "code",
   "execution_count": 112,
   "id": "5737a5d9",
   "metadata": {},
   "outputs": [],
   "source": [
    "def metodo_taylor_mayor_orden(orden,dydt,y0,h,intervalo,Iteraciones_max,tol=None):\n",
    "    t,y = sp.symbols(\"t y\")\n",
    "    df = []\n",
    "    df=[dydt] #1 derivada \n",
    "    taylorexpresion,aux= 0,0\n",
    "    for i in range(orden):\n",
    "        df.append(sp.diff(df[i],t)+sp.diff(df[i],y)*df[0]) #se calcula las siguiente derivada\n",
    "        aux+= (h**(i+1)/sp.factorial(i+1))*df[i] #se realiza h**n/n! * f**n-1\n",
    "    taylorexpresion = aux #se agrupa toda la expresion\n",
    "    print(taylorexpresion)\n",
    "    a = intervalo[0]\n",
    "    i=0\n",
    "    print(\"i \\t\\t t \\t\\t yi\\t\\t Tol\") \n",
    "    while i < Iteraciones_max:\n",
    "        ti = a + i * h #calculamos el t\n",
    "        y1 = y0 + taylorexpresion.subs([(t,ti),(y,y0)]) #se sustituye los valores de y y t\n",
    "        if tol != None:\n",
    "            error = (abs(y1-y0)/abs(y1))*100 #error relativo\n",
    "            if tol > error:\n",
    "                return y1 #returnamos el valor de la aproximacion\n",
    "        else:\n",
    "            error = \"-\"\n",
    "        print(f\"{i}\\t\\t{ti}\\t\\t{y0}\\t\\t{error}\")\n",
    "        y0=y1 #actualizamos la aproximacion pasada\n",
    "        i+=1 #agregamos una iteracion\n",
    "                "
   ]
  },
  {
   "cell_type": "code",
   "execution_count": 113,
   "id": "c0d395be",
   "metadata": {},
   "outputs": [
    {
     "name": "stdout",
     "output_type": "stream",
     "text": [
      "0.22*t + 0.22*y + 0.02\n",
      "i \t\t t \t\t yi\t\t Tol\n",
      "0\t\t0.0\t\t1\t\t-\n",
      "1\t\t0.2\t\t1.24000000000000\t\t-\n",
      "2\t\t0.4\t\t1.57680000000000\t\t-\n",
      "3\t\t0.6000000000000001\t\t2.03169600000000\t\t-\n",
      "4\t\t0.8\t\t2.63066912000000\t\t-\n",
      "5\t\t1.0\t\t3.40541632640000\t\t-\n"
     ]
    }
   ],
   "source": [
    "t,y = sp.symbols(\"t y\")\n",
    "dydt = t + y\n",
    "y0 = 1\n",
    "h=0.2\n",
    "intervalo=[0,1]\n",
    "metodo_taylor_mayor_orden(2,dydt,y0,h,intervalo,6)"
   ]
  },
  {
   "cell_type": "markdown",
   "id": "dafd8d94",
   "metadata": {},
   "source": [
    "# Método de Runge Kutta"
   ]
  },
  {
   "cell_type": "code",
   "execution_count": 120,
   "id": "71132bc2",
   "metadata": {},
   "outputs": [],
   "source": [
    "def metodo_runge_kutta(dydt, y0,h,intervalo,iteracionesmax,tol=None):\n",
    "    a = intervalo[0]\n",
    "    estructura = \"i \\t\\t t \\t\\t yi\\t\\t Tol\\n\" \n",
    "    i = 0\n",
    "    while i < iteracionesmax:\n",
    "        ti = a + i * h #calculamos el t\n",
    "        taux,yaux = 0,0\n",
    "        k1aux = dydt.subs([(t,ti),(y,y0)])\n",
    "        print(f\"k1= f({ti} , {y0}) =\",k1aux)\n",
    "        taux = ti+(h/2)\n",
    "        yaux = y0+(h/2)*k1aux\n",
    "        k2aux = dydt.subs([(t,taux),(y,yaux)])\n",
    "        print(f\"k2= f({taux} , {yaux}) =\",k2aux)\n",
    "        taux = ti+(h/2)\n",
    "        yaux = y0+(h/2)*k2aux\n",
    "        k3aux = dydt.subs([(t,taux),(y,yaux)])\n",
    "        print(f\"k3= f({taux} , {yaux}) =\",k3aux)\n",
    "        taux = ti+h\n",
    "        yaux = y0+h*k3aux\n",
    "        k4aux = dydt.subs([(t,taux),(y,yaux)])\n",
    "        print(f\"k4= f({taux} , {yaux}) =\",k3aux)\n",
    "        y1 = y0 + h/6 * (k1aux+2*k2aux+2*k3aux+k4aux)\n",
    "        print(f\"y{i+1} = {y1}\")\n",
    "        if tol != None:\n",
    "            error = (abs(y1-y0)/abs(y1))*100 #error relativo\n",
    "            if tol > error:\n",
    "                return y1 #returnamos el valor de la aproximacion\n",
    "        else:\n",
    "            error = \"-\"\n",
    "        estructura+=f\"{i}\\t\\t{ti}\\t\\t{y0}\\t\\t{error}\\n\"\n",
    "        y0=y1 #actualizamos la aproximacion pasada\n",
    "        i+=1 #agregamos una iteracion\n",
    "    print(estructura)\n",
    "                "
   ]
  },
  {
   "cell_type": "code",
   "execution_count": 121,
   "id": "b2508c3b",
   "metadata": {},
   "outputs": [
    {
     "name": "stdout",
     "output_type": "stream",
     "text": [
      "k1= f(0.0 , 1) = 1\n",
      "k2= f(0.1 , 1.10000000000000) = 1.20000000000000\n",
      "k3= f(0.1 , 1.12000000000000) = 1.22000000000000\n",
      "k4= f(0.2 , 1.24400000000000) = 1.22000000000000\n",
      "y1 = 1.24280000000000\n",
      "k1= f(0.2 , 1.24280000000000) = 1.44280000000000\n",
      "k2= f(0.30000000000000004 , 1.38708000000000) = 1.68708000000000\n",
      "k3= f(0.30000000000000004 , 1.41150800000000) = 1.71150800000000\n",
      "k4= f(0.4 , 1.58510160000000) = 1.71150800000000\n",
      "y2 = 1.58363592000000\n",
      "k1= f(0.4 , 1.58363592000000) = 1.98363592000000\n",
      "k2= f(0.5 , 1.78199951200000) = 2.28199951200000\n",
      "k3= f(0.5 , 1.81183587120000) = 2.31183587120000\n",
      "k4= f(0.6000000000000001 , 2.04600309424000) = 2.31183587120000\n",
      "y3 = 2.04421291268800\n",
      "k1= f(0.6000000000000001 , 2.04421291268800) = 2.64421291268800\n",
      "k2= f(0.7000000000000001 , 2.30863420395680) = 3.00863420395680\n",
      "k3= f(0.7000000000000001 , 2.34507633308368) = 3.04507633308368\n",
      "k4= f(0.8 , 2.65322817930474) = 3.04507633308368\n",
      "y4 = 2.65104165155712\n",
      "k1= f(0.8 , 2.65104165155712) = 3.45104165155712\n",
      "k2= f(0.9 , 2.99614581671284) = 3.89614581671284\n",
      "k3= f(0.9 , 3.04065623322841) = 3.94065623322841\n",
      "k4= f(1.0 , 3.43917289820280) = 3.94065623322841\n",
      "y5 = 3.43650227321187\n",
      "i \t\t t \t\t yi\t\t Tol\n",
      "0\t\t0.0\t\t1\t\t-\n",
      "1\t\t0.2\t\t1.24280000000000\t\t-\n",
      "2\t\t0.4\t\t1.58363592000000\t\t-\n",
      "3\t\t0.6000000000000001\t\t2.04421291268800\t\t-\n",
      "4\t\t0.8\t\t2.65104165155712\t\t-\n",
      "\n"
     ]
    }
   ],
   "source": [
    "t,y = sp.symbols(\"t y\")\n",
    "dydt = t + y\n",
    "y0 = 1\n",
    "h=0.2\n",
    "intervalo=[0,1]\n",
    "metodo_runge_kutta(dydt,y0,h,intervalo,5)"
   ]
  },
  {
   "cell_type": "code",
   "execution_count": null,
   "id": "2202f2d8",
   "metadata": {},
   "outputs": [],
   "source": []
  }
 ],
 "metadata": {
  "kernelspec": {
   "display_name": "davidpiton",
   "language": "python",
   "name": "python3"
  },
  "language_info": {
   "codemirror_mode": {
    "name": "ipython",
    "version": 3
   },
   "file_extension": ".py",
   "mimetype": "text/x-python",
   "name": "python",
   "nbconvert_exporter": "python",
   "pygments_lexer": "ipython3",
   "version": "3.13.3"
  }
 },
 "nbformat": 4,
 "nbformat_minor": 5
}
