{
 "cells": [
  {
   "cell_type": "markdown",
   "id": "22bd05db",
   "metadata": {},
   "source": [
    "<div style=\"text-align: center;\">\n",
    "    <h3 style=\"font-size: 1.8em;\"><em>Métodos Numéricos</em></h3>\n",
    "    <p>Nombre: Presly Morales</p>\n",
    "    <p>Notebook llB</p>\n",
    "</div>"
   ]
  },
  {
   "cell_type": "markdown",
   "id": "960aa75c",
   "metadata": {},
   "source": [
    "<div style=\"text-align: center;\">\n",
    "    <big><p>Unidad 4</p><big>\n",
    "</div>"
   ]
  },
  {
   "cell_type": "code",
   "execution_count": 3,
   "id": "1ea859c1",
   "metadata": {},
   "outputs": [],
   "source": [
    "import sympy as sp\n",
    "import numpy as np"
   ]
  },
  {
   "cell_type": "code",
   "execution_count": 127,
   "id": "0a6b0e66",
   "metadata": {},
   "outputs": [],
   "source": [
    "def imprimir_matriz(matriz):\n",
    "    n = matriz.rows\n",
    "    m = matriz.cols\n",
    "    for i in range(n):\n",
    "        for j in range(m):\n",
    "            print(f\"{matriz[i,j]}\",end=\"\\t            \")\n",
    "        print()\n",
    "        "
   ]
  },
  {
   "cell_type": "markdown",
   "id": "55026f75",
   "metadata": {},
   "source": [
    "# Eliminación Gaussiana"
   ]
  },
  {
   "cell_type": "code",
   "execution_count": 128,
   "id": "f2dafb57",
   "metadata": {},
   "outputs": [],
   "source": [
    "def eliminacion_gaussiana(matriz):\n",
    "    n = matriz.rows #numero de filas\n",
    "\n",
    "    for i in range(n): #convierte toda la matriz con presicion de 32 bits\n",
    "        for j in range(n+1):\n",
    "            matriz[i, j] = np.float32(matriz[i,j])\n",
    "            \n",
    "    for i in range(n):\n",
    "        # busca el pivote distinto de cero\n",
    "        pivote = None\n",
    "        for p in range(i, n):\n",
    "            #print(\"fila=\",p,\"columna =\",i)\n",
    "            if matriz[p, i] != 0:\n",
    "                pivote = p\n",
    "                print(\"pivote =\",float(matriz[p,i]))\n",
    "                break\n",
    "            \n",
    "        if pivote is None:\n",
    "            print(\"no existe una solución única\")\n",
    "            raise ValueError(\"no existe una solución única\")\n",
    "\n",
    "        # intercambia las filas, para poder eliminar en forma descendente con el pivote\n",
    "        if pivote != i:\n",
    "            print(f\"Intercabio de filas {i}<->{pivote}\")\n",
    "            #cambio de filas, fila pivote<->fila i\n",
    "            aux = matriz[i,:]\n",
    "            matriz[i,:] = matriz[pivote,:]\n",
    "            matriz[pivote,:] = aux\n",
    "            imprimir_matriz(matriz)\n",
    "\n",
    "        # convierte a 0 los numeros debajo del pivote\n",
    "        for j in range(i + 1, n):\n",
    "            m = np.float32(matriz[j, i]) / np.float32(matriz[i, i])\n",
    "            print(\"valor de m= \",m)\n",
    "            for k in range(n+1):\n",
    "                matriz[j, k] = np.float32(matriz[j, k] - np.float32(m* matriz[i, k]))\n",
    "            imprimir_matriz(matriz)\n",
    "            \n",
    "    # verifica las soluciones\n",
    "    if matriz[n-1, n-1] == 0:\n",
    "        raise ValueError(\"no existe una solución única\")\n",
    "\n",
    "    # obtiene los valores de las variables\n",
    "    # sustitución hacia atrás\n",
    "    x = [0]*n\n",
    "    for i in range(n-1,-1,-1):\n",
    "        suma = np.float32(sum(np.float32(matriz[i, j] * x[j]) for j in range(i + 1, n)))\n",
    "        x[i] = np.float32((np.float32(matriz[i, -1] - suma)) / np.float32(matriz[i, i]))\n",
    "    return x\n"
   ]
  },
  {
   "cell_type": "code",
   "execution_count": 129,
   "id": "4f639bbd",
   "metadata": {},
   "outputs": [
    {
     "name": "stdout",
     "output_type": "stream",
     "text": [
      "pivote = 3.0\n",
      "valor de m=  0.6666667\n",
      "3.00000\t            2.00000\t            1.00000\t            1.00000\t            1.00000\t            \n",
      "0\t            1.66667\t            2.33333\t            1.33333\t            3.33333\t            \n",
      "5.00000\t            4.00000\t            6.00000\t            3.00000\t            7.00000\t            \n",
      "4.00000\t            3.00000\t            5.00000\t            6.00000\t            10.0000\t            \n",
      "valor de m=  1.6666666\n",
      "3.00000\t            2.00000\t            1.00000\t            1.00000\t            1.00000\t            \n",
      "0\t            1.66667\t            2.33333\t            1.33333\t            3.33333\t            \n",
      "0\t            0.666667\t            4.33333\t            1.33333\t            5.33333\t            \n",
      "4.00000\t            3.00000\t            5.00000\t            6.00000\t            10.0000\t            \n",
      "valor de m=  1.3333334\n",
      "3.00000\t            2.00000\t            1.00000\t            1.00000\t            1.00000\t            \n",
      "0\t            1.66667\t            2.33333\t            1.33333\t            3.33333\t            \n",
      "0\t            0.666667\t            4.33333\t            1.33333\t            5.33333\t            \n",
      "0\t            0.333333\t            3.66667\t            4.66667\t            8.66667\t            \n",
      "pivote = 1.6666666269302368\n",
      "valor de m=  0.40000007\n",
      "3.00000\t            2.00000\t            1.00000\t            1.00000\t            1.00000\t            \n",
      "0\t            1.66667\t            2.33333\t            1.33333\t            3.33333\t            \n",
      "0\t            0\t            3.40000\t            0.800000\t            4.00000\t            \n",
      "0\t            0.333333\t            3.66667\t            4.66667\t            8.66667\t            \n",
      "valor de m=  0.19999996\n",
      "3.00000\t            2.00000\t            1.00000\t            1.00000\t            1.00000\t            \n",
      "0\t            1.66667\t            2.33333\t            1.33333\t            3.33333\t            \n",
      "0\t            0\t            3.40000\t            0.800000\t            4.00000\t            \n",
      "0\t            0\t            3.20000\t            4.40000\t            8.00000\t            \n",
      "pivote = 3.4000000953674316\n",
      "valor de m=  0.9411765\n",
      "3.00000\t            2.00000\t            1.00000\t            1.00000\t            1.00000\t            \n",
      "0\t            1.66667\t            2.33333\t            1.33333\t            3.33333\t            \n",
      "0\t            0\t            3.40000\t            0.800000\t            4.00000\t            \n",
      "0\t            0\t            0\t            3.64706\t            4.23529\t            \n",
      "pivote = 3.6470589637756348\n",
      "solución del sistema:\n",
      "x1 = -0.2258065\n",
      "x2 = -0.1935484\n",
      "x3 = 0.9032258\n",
      "x4 = 1.1612903\n"
     ]
    }
   ],
   "source": [
    "#ejemplo de Eliminación Gaussiana\n",
    "\n",
    "# matriz ampliada\n",
    "matriz = sp.Matrix([\n",
    "    [3,2,1,1,1],\n",
    "    [2,3,3,2,4],\n",
    "    [5,4,6,3,7],\n",
    "    [4,3,5,6,10]\n",
    "])\n",
    "valores = eliminacion_gaussiana(matriz)\n",
    "print(\"solución del sistema:\")\n",
    "for i in range(len(valores)):\n",
    "    print(f\"x{i+1} = {valores[i]:.7f}\")\n"
   ]
  },
  {
   "cell_type": "markdown",
   "id": "f69355ba",
   "metadata": {},
   "source": [
    "# Gauss-Jordan"
   ]
  },
  {
   "cell_type": "markdown",
   "id": "bca4ab45",
   "metadata": {},
   "source": []
  },
  {
   "cell_type": "code",
   "execution_count": null,
   "id": "8f3da6e6",
   "metadata": {},
   "outputs": [],
   "source": [
    "def gauss_jordan(matriz):\n",
    "    n = matriz.rows #numero de filas\n",
    "\n",
    "    for i in range(n): #convierte toda la matriz con presicion de 32 bits\n",
    "        for j in range(n+1):\n",
    "            matriz[i, j] = np.float32(matriz[i,j])         \n",
    "    for i in range(n):\n",
    "        # busca el pivote distinto de cero\n",
    "        pivote = None\n",
    "        for p in range(i, n):\n",
    "            #print(\"fila=\",p,\"columna =\",i)\n",
    "            if matriz[p, i] != 0:\n",
    "                pivote = p\n",
    "                print(\"pivote =\",float(matriz[p,i]))\n",
    "                break   \n",
    "        if pivote is None:\n",
    "            print(\"no existe una solución única\")\n",
    "            raise ValueError(\"no existe una solución única\")\n",
    "\n",
    "        # intercambia las filas, para poder eliminar en forma descendente con el pivote\n",
    "        if pivote != i:\n",
    "            print(f\"Intercabio de filas {i}<->{pivote}\")\n",
    "            #cambio de filas, fila pivote<->fila i\n",
    "            aux = matriz[i,:]\n",
    "            matriz[i,:] = matriz[pivote,:]\n",
    "            matriz[pivote,:] = aux\n",
    "            imprimir_matriz(matriz)\n",
    "\n",
    "        # convierte a 0 los numeros debajo del pivote\n",
    "        for j in range(i + 1, n):\n",
    "            m = np.float32(matriz[j, i]) / np.float32(matriz[i, i])\n",
    "            print(\"valor de m= \",m)\n",
    "            for k in range(n+1):\n",
    "                matriz[j, k] = np.float32(matriz[j, k] - np.float32(m* matriz[i, k]))\n",
    "            imprimir_matriz(matriz)\n",
    "    # convierte a 1 la diagonal\n",
    "    for i in range(n-1,-1,-1):\n",
    "        if matriz[i,i] != 1:\n",
    "            m = np.float32(1/matriz[i,i])\n",
    "            print(\"valor de m= \",m)\n",
    "            for k in range(n+1):\n",
    "                matriz[i,k] = np.float32(m*matriz[i,k])\n",
    "            imprimir_matriz(matriz)\n",
    "    # convierte a 0 los numeros encima de la diagonal\n",
    "    for i in range(n-1,-1,-1): \n",
    "        for j in range(i-1,-1,-1): \n",
    "            m = np.float32(matriz[j,i]/matriz[i,i])\n",
    "            print(\"valor de m= \",m)\n",
    "            for k in range(n+1):\n",
    "                matriz[j,k] = np.float32(matriz[j,k]- np.float32(m* matriz[i,k]))\n",
    "            imprimir_matriz(matriz)\n",
    "    # verifica las soluciones\n",
    "    if matriz[n-1, n-1] == 0:\n",
    "        raise ValueError(\"no existe una solución única\")\n",
    "\n",
    "    # obtiene los valores de las variables\n",
    "    x = [0]*n\n",
    "    for i in range(n-1,-1,-1):\n",
    "        x[i] = np.float32(matriz[i, -1])\n",
    "\n",
    "    return x"
   ]
  },
  {
   "cell_type": "code",
   "execution_count": 146,
   "id": "1b9b4245",
   "metadata": {},
   "outputs": [
    {
     "name": "stdout",
     "output_type": "stream",
     "text": [
      "pivote = 2.0\n",
      "valor de m=  0.5\n",
      "2.00000\t            1.00000\t            -1.00000\t            1.00000\t            -3.00000\t            7.00000\t            \n",
      "0\t            -0.500000\t            2.50000\t            -1.50000\t            2.50000\t            -1.50000\t            \n",
      "0\t            -2.00000\t            -1.00000\t            1.00000\t            -1.00000\t            -5.00000\t            \n",
      "3.00000\t            1.00000\t            -4.00000\t            0\t            5.00000\t            6.00000\t            \n",
      "1.00000\t            -1.00000\t            -1.00000\t            -1.00000\t            1.00000\t            -3.00000\t            \n",
      "valor de m=  0.0\n",
      "2.00000\t            1.00000\t            -1.00000\t            1.00000\t            -3.00000\t            7.00000\t            \n",
      "0\t            -0.500000\t            2.50000\t            -1.50000\t            2.50000\t            -1.50000\t            \n",
      "0\t            -2.00000\t            -1.00000\t            1.00000\t            -1.00000\t            -5.00000\t            \n",
      "3.00000\t            1.00000\t            -4.00000\t            0\t            5.00000\t            6.00000\t            \n",
      "1.00000\t            -1.00000\t            -1.00000\t            -1.00000\t            1.00000\t            -3.00000\t            \n",
      "valor de m=  1.5\n",
      "2.00000\t            1.00000\t            -1.00000\t            1.00000\t            -3.00000\t            7.00000\t            \n",
      "0\t            -0.500000\t            2.50000\t            -1.50000\t            2.50000\t            -1.50000\t            \n",
      "0\t            -2.00000\t            -1.00000\t            1.00000\t            -1.00000\t            -5.00000\t            \n",
      "0\t            -0.500000\t            -2.50000\t            -1.50000\t            9.50000\t            -4.50000\t            \n",
      "1.00000\t            -1.00000\t            -1.00000\t            -1.00000\t            1.00000\t            -3.00000\t            \n",
      "valor de m=  0.5\n",
      "2.00000\t            1.00000\t            -1.00000\t            1.00000\t            -3.00000\t            7.00000\t            \n",
      "0\t            -0.500000\t            2.50000\t            -1.50000\t            2.50000\t            -1.50000\t            \n",
      "0\t            -2.00000\t            -1.00000\t            1.00000\t            -1.00000\t            -5.00000\t            \n",
      "0\t            -0.500000\t            -2.50000\t            -1.50000\t            9.50000\t            -4.50000\t            \n",
      "0\t            -1.50000\t            -0.500000\t            -1.50000\t            2.50000\t            -6.50000\t            \n",
      "pivote = -0.5\n",
      "valor de m=  4.0\n",
      "2.00000\t            1.00000\t            -1.00000\t            1.00000\t            -3.00000\t            7.00000\t            \n",
      "0\t            -0.500000\t            2.50000\t            -1.50000\t            2.50000\t            -1.50000\t            \n",
      "0\t            0\t            -11.0000\t            7.00000\t            -11.0000\t            1.00000\t            \n",
      "0\t            -0.500000\t            -2.50000\t            -1.50000\t            9.50000\t            -4.50000\t            \n",
      "0\t            -1.50000\t            -0.500000\t            -1.50000\t            2.50000\t            -6.50000\t            \n",
      "valor de m=  1.0\n",
      "2.00000\t            1.00000\t            -1.00000\t            1.00000\t            -3.00000\t            7.00000\t            \n",
      "0\t            -0.500000\t            2.50000\t            -1.50000\t            2.50000\t            -1.50000\t            \n",
      "0\t            0\t            -11.0000\t            7.00000\t            -11.0000\t            1.00000\t            \n",
      "0\t            0\t            -5.00000\t            0\t            7.00000\t            -3.00000\t            \n",
      "0\t            -1.50000\t            -0.500000\t            -1.50000\t            2.50000\t            -6.50000\t            \n",
      "valor de m=  3.0\n",
      "2.00000\t            1.00000\t            -1.00000\t            1.00000\t            -3.00000\t            7.00000\t            \n",
      "0\t            -0.500000\t            2.50000\t            -1.50000\t            2.50000\t            -1.50000\t            \n",
      "0\t            0\t            -11.0000\t            7.00000\t            -11.0000\t            1.00000\t            \n",
      "0\t            0\t            -5.00000\t            0\t            7.00000\t            -3.00000\t            \n",
      "0\t            0\t            -8.00000\t            3.00000\t            -5.00000\t            -2.00000\t            \n",
      "pivote = -11.0\n",
      "valor de m=  0.45454547\n",
      "2.00000\t            1.00000\t            -1.00000\t            1.00000\t            -3.00000\t            7.00000\t            \n",
      "0\t            -0.500000\t            2.50000\t            -1.50000\t            2.50000\t            -1.50000\t            \n",
      "0\t            0\t            -11.0000\t            7.00000\t            -11.0000\t            1.00000\t            \n",
      "0\t            0\t            0\t            -3.18182\t            12.0000\t            -3.45455\t            \n",
      "0\t            0\t            -8.00000\t            3.00000\t            -5.00000\t            -2.00000\t            \n",
      "valor de m=  0.72727275\n",
      "2.00000\t            1.00000\t            -1.00000\t            1.00000\t            -3.00000\t            7.00000\t            \n",
      "0\t            -0.500000\t            2.50000\t            -1.50000\t            2.50000\t            -1.50000\t            \n",
      "0\t            0\t            -11.0000\t            7.00000\t            -11.0000\t            1.00000\t            \n",
      "0\t            0\t            0\t            -3.18182\t            12.0000\t            -3.45455\t            \n",
      "0\t            0\t            0\t            -2.09091\t            3.00000\t            -2.72727\t            \n",
      "pivote = -3.1818182468414307\n",
      "valor de m=  0.6571428\n",
      "2.00000\t            1.00000\t            -1.00000\t            1.00000\t            -3.00000\t            7.00000\t            \n",
      "0\t            -0.500000\t            2.50000\t            -1.50000\t            2.50000\t            -1.50000\t            \n",
      "0\t            0\t            -11.0000\t            7.00000\t            -11.0000\t            1.00000\t            \n",
      "0\t            0\t            0\t            -3.18182\t            12.0000\t            -3.45455\t            \n",
      "0\t            0\t            0\t            0\t            -4.88571\t            -0.457143\t            \n",
      "pivote = -4.885713577270508\n",
      "valor de m=  -0.20467839\n",
      "2.00000\t            1.00000\t            -1.00000\t            1.00000\t            -3.00000\t            7.00000\t            \n",
      "0\t            -0.500000\t            2.50000\t            -1.50000\t            2.50000\t            -1.50000\t            \n",
      "0\t            0\t            -11.0000\t            7.00000\t            -11.0000\t            1.00000\t            \n",
      "0\t            0\t            0\t            -3.18182\t            12.0000\t            -3.45455\t            \n",
      "0\t            0\t            0\t            0\t            1.00000\t            0.0935673\t            \n",
      "valor de m=  -0.3142857\n",
      "2.00000\t            1.00000\t            -1.00000\t            1.00000\t            -3.00000\t            7.00000\t            \n",
      "0\t            -0.500000\t            2.50000\t            -1.50000\t            2.50000\t            -1.50000\t            \n",
      "0\t            0\t            -11.0000\t            7.00000\t            -11.0000\t            1.00000\t            \n",
      "0\t            0\t            0\t            1.00000\t            -3.77143\t            1.08571\t            \n",
      "0\t            0\t            0\t            0\t            1.00000\t            0.0935673\t            \n",
      "valor de m=  -0.09090909\n",
      "2.00000\t            1.00000\t            -1.00000\t            1.00000\t            -3.00000\t            7.00000\t            \n",
      "0\t            -0.500000\t            2.50000\t            -1.50000\t            2.50000\t            -1.50000\t            \n",
      "0\t            0\t            1.00000\t            -0.636364\t            1.00000\t            -0.0909091\t            \n",
      "0\t            0\t            0\t            1.00000\t            -3.77143\t            1.08571\t            \n",
      "0\t            0\t            0\t            0\t            1.00000\t            0.0935673\t            \n",
      "valor de m=  -2.0\n",
      "2.00000\t            1.00000\t            -1.00000\t            1.00000\t            -3.00000\t            7.00000\t            \n",
      "0\t            1.00000\t            -5.00000\t            3.00000\t            -5.00000\t            3.00000\t            \n",
      "0\t            0\t            1.00000\t            -0.636364\t            1.00000\t            -0.0909091\t            \n",
      "0\t            0\t            0\t            1.00000\t            -3.77143\t            1.08571\t            \n",
      "0\t            0\t            0\t            0\t            1.00000\t            0.0935673\t            \n",
      "valor de m=  0.5\n",
      "1.00000\t            0.500000\t            -0.500000\t            0.500000\t            -1.50000\t            3.50000\t            \n",
      "0\t            1.00000\t            -5.00000\t            3.00000\t            -5.00000\t            3.00000\t            \n",
      "0\t            0\t            1.00000\t            -0.636364\t            1.00000\t            -0.0909091\t            \n",
      "0\t            0\t            0\t            1.00000\t            -3.77143\t            1.08571\t            \n",
      "0\t            0\t            0\t            0\t            1.00000\t            0.0935673\t            \n",
      "valor de m=  -3.7714283\n",
      "1.00000\t            0.500000\t            -0.500000\t            0.500000\t            -1.50000\t            3.50000\t            \n",
      "0\t            1.00000\t            -5.00000\t            3.00000\t            -5.00000\t            3.00000\t            \n",
      "0\t            0\t            1.00000\t            -0.636364\t            1.00000\t            -0.0909091\t            \n",
      "0\t            0\t            0\t            1.00000\t            0\t            1.43860\t            \n",
      "0\t            0\t            0\t            0\t            1.00000\t            0.0935673\t            \n",
      "valor de m=  1.0\n",
      "1.00000\t            0.500000\t            -0.500000\t            0.500000\t            -1.50000\t            3.50000\t            \n",
      "0\t            1.00000\t            -5.00000\t            3.00000\t            -5.00000\t            3.00000\t            \n",
      "0\t            0\t            1.00000\t            -0.636364\t            0\t            -0.184476\t            \n",
      "0\t            0\t            0\t            1.00000\t            0\t            1.43860\t            \n",
      "0\t            0\t            0\t            0\t            1.00000\t            0.0935673\t            \n",
      "valor de m=  -5.0\n",
      "1.00000\t            0.500000\t            -0.500000\t            0.500000\t            -1.50000\t            3.50000\t            \n",
      "0\t            1.00000\t            -5.00000\t            3.00000\t            0\t            3.46784\t            \n",
      "0\t            0\t            1.00000\t            -0.636364\t            0\t            -0.184476\t            \n",
      "0\t            0\t            0\t            1.00000\t            0\t            1.43860\t            \n",
      "0\t            0\t            0\t            0\t            1.00000\t            0.0935673\t            \n",
      "valor de m=  -1.5\n",
      "1.00000\t            0.500000\t            -0.500000\t            0.500000\t            0\t            3.64035\t            \n",
      "0\t            1.00000\t            -5.00000\t            3.00000\t            0\t            3.46784\t            \n",
      "0\t            0\t            1.00000\t            -0.636364\t            0\t            -0.184476\t            \n",
      "0\t            0\t            0\t            1.00000\t            0\t            1.43860\t            \n",
      "0\t            0\t            0\t            0\t            1.00000\t            0.0935673\t            \n",
      "valor de m=  -0.6363637\n",
      "1.00000\t            0.500000\t            -0.500000\t            0.500000\t            0\t            3.64035\t            \n",
      "0\t            1.00000\t            -5.00000\t            3.00000\t            0\t            3.46784\t            \n",
      "0\t            0\t            1.00000\t            0\t            0\t            0.730994\t            \n",
      "0\t            0\t            0\t            1.00000\t            0\t            1.43860\t            \n",
      "0\t            0\t            0\t            0\t            1.00000\t            0.0935673\t            \n",
      "valor de m=  3.0000002\n",
      "1.00000\t            0.500000\t            -0.500000\t            0.500000\t            0\t            3.64035\t            \n",
      "0\t            1.00000\t            -5.00000\t            0\t            0\t            -0.847954\t            \n",
      "0\t            0\t            1.00000\t            0\t            0\t            0.730994\t            \n",
      "0\t            0\t            0\t            1.00000\t            0\t            1.43860\t            \n",
      "0\t            0\t            0\t            0\t            1.00000\t            0.0935673\t            \n",
      "valor de m=  0.50000006\n",
      "1.00000\t            0.500000\t            -0.500000\t            0\t            0\t            2.92105\t            \n",
      "0\t            1.00000\t            -5.00000\t            0\t            0\t            -0.847954\t            \n",
      "0\t            0\t            1.00000\t            0\t            0\t            0.730994\t            \n",
      "0\t            0\t            0\t            1.00000\t            0\t            1.43860\t            \n",
      "0\t            0\t            0\t            0\t            1.00000\t            0.0935673\t            \n",
      "valor de m=  -5.0\n",
      "1.00000\t            0.500000\t            -0.500000\t            0\t            0\t            2.92105\t            \n",
      "0\t            1.00000\t            0\t            0\t            0\t            2.80702\t            \n",
      "0\t            0\t            1.00000\t            0\t            0\t            0.730994\t            \n",
      "0\t            0\t            0\t            1.00000\t            0\t            1.43860\t            \n",
      "0\t            0\t            0\t            0\t            1.00000\t            0.0935673\t            \n",
      "valor de m=  -0.5\n",
      "1.00000\t            0.500000\t            0\t            0\t            0\t            3.28655\t            \n",
      "0\t            1.00000\t            0\t            0\t            0\t            2.80702\t            \n",
      "0\t            0\t            1.00000\t            0\t            0\t            0.730994\t            \n",
      "0\t            0\t            0\t            1.00000\t            0\t            1.43860\t            \n",
      "0\t            0\t            0\t            0\t            1.00000\t            0.0935673\t            \n",
      "valor de m=  0.5\n",
      "1.00000\t            0\t            0\t            0\t            0\t            1.88304\t            \n",
      "0\t            1.00000\t            0\t            0\t            0\t            2.80702\t            \n",
      "0\t            0\t            1.00000\t            0\t            0\t            0.730994\t            \n",
      "0\t            0\t            0\t            1.00000\t            0\t            1.43860\t            \n",
      "0\t            0\t            0\t            0\t            1.00000\t            0.0935673\t            \n",
      "solución del sistema:\n",
      "x1 = 1.8830410\n",
      "x2 = 2.8070176\n",
      "x3 = 0.7309942\n",
      "x4 = 1.4385966\n",
      "x5 = 0.0935673\n"
     ]
    }
   ],
   "source": [
    "#ejemplo de Gauss Jorda\n",
    "# matriz ampliada \n",
    "matriz = sp.Matrix([\n",
    "    [2,1,-1,1,-3,7],\n",
    "    [1,0,2,-1,1,2],\n",
    "    [0,-2,-1,1,-1,-5],\n",
    "    [3,1,-4,0,5,6],\n",
    "    [1,-1,-1,-1,1,-3]\n",
    "])\n",
    "\n",
    "valores = gauss_jordan(matriz)\n",
    "\n",
    "print(\"solución del sistema:\")\n",
    "for i in range(len(valores)):\n",
    "    print(f\"x{i+1} = {valores[i]:.7f}\")"
   ]
  },
  {
   "cell_type": "markdown",
   "id": "0b5e1979",
   "metadata": {},
   "source": [
    "# Descomposición LU, Método Matriz Inversa"
   ]
  },
  {
   "cell_type": "code",
   "execution_count": null,
   "id": "53d9160f",
   "metadata": {},
   "outputs": [],
   "source": [
    "def matriz_inversa(matriz):\n",
    "    \n",
    "    if matriz.rows == matriz.cols:\n",
    "        n = matriz.rows\n",
    "        matrizidentidad = sp.zeros(matriz.rows,matriz.cols)\n",
    "        for i in range(matriz.rows): #se crea una matriz identidad\n",
    "            matrizidentidad[i,i] = 1\n",
    "\n",
    "        for i in range(n): #Metodo de Gauss-Jordan\n",
    "        # busca el pivote distinto de cero\n",
    "            pivote = None\n",
    "            for p in range(i, n):\n",
    "                #print(\"fila=\",p,\"columna =\",i)\n",
    "                if matriz[p, i] != 0:\n",
    "                    pivote = p\n",
    "                    print(\"pivote =\",float(matriz[p,i]))\n",
    "                    break   \n",
    "            if pivote is None:\n",
    "                print(\"no existe una solución única\")\n",
    "                raise ValueError(\"no existe una solución única\")\n",
    "\n",
    "            # intercambia las filas, para poder eliminar en forma descendente con el pivote\n",
    "            if pivote != i:\n",
    "                print(f\"Intercabio de filas {i}<->{pivote}\")\n",
    "                #cambio de filas, fila pivote<->fila i\n",
    "                aux = matriz[i,:]\n",
    "                auxidentidad = matrizidentidad[i,:]\n",
    "                matriz[i,:] = matriz[pivote,:]\n",
    "                matrizidentidad[i,:] = matrizidentidad[pivote,:]\n",
    "                matriz[pivote,:] = aux\n",
    "                matrizidentidad[pivote,:] = auxidentidad\n",
    "                print(f\"Matriz =\\n \")\n",
    "                imprimir_matriz(matriz)\n",
    "                print(f\"Matriz Inversa=\\n \")\n",
    "                imprimir_matriz(matrizidentidad)\n",
    "\n",
    "            # convierte a 0 los numeros debajo del pivote\n",
    "            for j in range(i + 1, n):\n",
    "                m = (matriz[j, i]) / (matriz[i, i])\n",
    "                print(\"valor de m= \",m)\n",
    "                for k in range(n):\n",
    "                    matriz[j, k] = (matriz[j, k] - (m* matriz[i, k]))\n",
    "                    matrizidentidad[j,k] = (matrizidentidad[j,k]-(m*matrizidentidad[i,k]))\n",
    "                print(f\"Matriz =\\n \")\n",
    "                imprimir_matriz(matriz)\n",
    "                print(f\"Matriz Inversa=\\n \")\n",
    "                imprimir_matriz(matrizidentidad)\n",
    "        # convierte a 1 la diagonal\n",
    "        for i in range(n-1,-1,-1):\n",
    "            if matriz[i,i] != 1:  \n",
    "                m = (1/matriz[i,i])\n",
    "                print(\"valor de m= \",m)\n",
    "                for k in range(n):\n",
    "                    matriz[i,k] = m*matriz[i,k]\n",
    "                    matrizidentidad[i,k]=m*matrizidentidad[i,k]\n",
    "                print(f\"Matriz =\\n \")\n",
    "                imprimir_matriz(matriz)\n",
    "                print(f\"Matriz Inversa=\\n \")\n",
    "                imprimir_matriz(matrizidentidad)\n",
    "        # convierte a 0 los numeros encima de la diagonal\n",
    "        for i in range(n-1,-1,-1): \n",
    "            for j in range(i-1,-1,-1): \n",
    "                m = (matriz[j,i]/matriz[i,i])\n",
    "                print(\"valor de m= \",m)\n",
    "                for k in range(n):\n",
    "                    matriz[j,k] = (matriz[j,k]- (m* matriz[i,k]))\n",
    "                    matrizidentidad[j,k] = (matrizidentidad[j,k]- (m* matrizidentidad[i,k]))\n",
    "                print(f\"Matriz =\\n \")\n",
    "                imprimir_matriz(matriz)\n",
    "                print(f\"Matriz Inversa=\\n \")\n",
    "                imprimir_matriz(matrizidentidad)\n",
    "        return matrizidentidad\n",
    "    else:\n",
    "        print(\"No es una matriz cuadrada\")"
   ]
  },
  {
   "cell_type": "code",
   "execution_count": 148,
   "id": "17d78f95",
   "metadata": {},
   "outputs": [
    {
     "name": "stdout",
     "output_type": "stream",
     "text": [
      "pivote = 5.0\n",
      "valor de m=  0\n",
      "Matriz =\n",
      " \n",
      "5\t            0\t            6\t            \n",
      "0\t            -5\t            -2\t            \n",
      "0\t            0\t            1\t            \n",
      "Matriz Inversa=\n",
      " \n",
      "1\t            0\t            0\t            \n",
      "0\t            1\t            0\t            \n",
      "0\t            0\t            1\t            \n",
      "valor de m=  0\n",
      "Matriz =\n",
      " \n",
      "5\t            0\t            6\t            \n",
      "0\t            -5\t            -2\t            \n",
      "0\t            0\t            1\t            \n",
      "Matriz Inversa=\n",
      " \n",
      "1\t            0\t            0\t            \n",
      "0\t            1\t            0\t            \n",
      "0\t            0\t            1\t            \n",
      "pivote = -5.0\n",
      "valor de m=  0\n",
      "Matriz =\n",
      " \n",
      "5\t            0\t            6\t            \n",
      "0\t            -5\t            -2\t            \n",
      "0\t            0\t            1\t            \n",
      "Matriz Inversa=\n",
      " \n",
      "1\t            0\t            0\t            \n",
      "0\t            1\t            0\t            \n",
      "0\t            0\t            1\t            \n",
      "pivote = 1.0\n",
      "valor de m=  -1/5\n",
      "Matriz =\n",
      " \n",
      "5\t            0\t            6\t            \n",
      "0\t            1\t            2/5\t            \n",
      "0\t            0\t            1\t            \n",
      "Matriz Inversa=\n",
      " \n",
      "1\t            0\t            0\t            \n",
      "0\t            -1/5\t            0\t            \n",
      "0\t            0\t            1\t            \n",
      "valor de m=  1/5\n",
      "Matriz =\n",
      " \n",
      "1\t            0\t            6/5\t            \n",
      "0\t            1\t            2/5\t            \n",
      "0\t            0\t            1\t            \n",
      "Matriz Inversa=\n",
      " \n",
      "1/5\t            0\t            0\t            \n",
      "0\t            -1/5\t            0\t            \n",
      "0\t            0\t            1\t            \n",
      "valor de m=  2/5\n",
      "Matriz =\n",
      " \n",
      "1\t            0\t            6/5\t            \n",
      "0\t            1\t            0\t            \n",
      "0\t            0\t            1\t            \n",
      "Matriz Inversa=\n",
      " \n",
      "1/5\t            0\t            0\t            \n",
      "0\t            -1/5\t            -2/5\t            \n",
      "0\t            0\t            1\t            \n",
      "valor de m=  6/5\n",
      "Matriz =\n",
      " \n",
      "1\t            0\t            0\t            \n",
      "0\t            1\t            0\t            \n",
      "0\t            0\t            1\t            \n",
      "Matriz Inversa=\n",
      " \n",
      "1/5\t            0\t            -6/5\t            \n",
      "0\t            -1/5\t            -2/5\t            \n",
      "0\t            0\t            1\t            \n",
      "valor de m=  0\n",
      "Matriz =\n",
      " \n",
      "1\t            0\t            0\t            \n",
      "0\t            1\t            0\t            \n",
      "0\t            0\t            1\t            \n",
      "Matriz Inversa=\n",
      " \n",
      "1/5\t            0\t            -6/5\t            \n",
      "0\t            -1/5\t            -2/5\t            \n",
      "0\t            0\t            1\t            \n"
     ]
    },
    {
     "data": {
      "text/latex": [
       "$\\displaystyle \\left[\\begin{matrix}\\frac{1}{5} & 0 & - \\frac{6}{5}\\\\0 & - \\frac{1}{5} & - \\frac{2}{5}\\\\0 & 0 & 1\\end{matrix}\\right]$"
      ],
      "text/plain": [
       "Matrix([\n",
       "[1/5,    0, -6/5],\n",
       "[  0, -1/5, -2/5],\n",
       "[  0,    0,    1]])"
      ]
     },
     "execution_count": 148,
     "metadata": {},
     "output_type": "execute_result"
    }
   ],
   "source": [
    "matrizd = sp.Matrix([\n",
    "    [5,0,6],\n",
    "    [0,-5,-2],\n",
    "    [0,0,1]\n",
    "])\n",
    "matriz_inversa(matrizd)"
   ]
  },
  {
   "cell_type": "markdown",
   "id": "c8398709",
   "metadata": {},
   "source": [
    "# Descomposición LU, Producto de Matrices"
   ]
  },
  {
   "cell_type": "code",
   "execution_count": 11,
   "id": "b8db4bfa",
   "metadata": {},
   "outputs": [],
   "source": [
    "def multiplicacion_matriz(matrizA, matrizB):\n",
    "      \n",
    "    if matrizA.cols == matrizB.rows: #de A mxn ,B nxc ,n=n\n",
    "        matrizaux = sp.zeros(matrizA.rows,matrizB.cols)\n",
    "        for i in range(matrizA.rows):\n",
    "            for j in range(matrizB.cols):\n",
    "                for k in range(matrizA.rows):\n",
    "                 matrizaux[i,j] += matrizA[i,k]*matrizB[k,j] \n",
    "        return matrizaux\n",
    "    else:\n",
    "        print(\"No se puede multiplicar\")"
   ]
  },
  {
   "cell_type": "code",
   "execution_count": 12,
   "id": "3069c5a1",
   "metadata": {},
   "outputs": [],
   "source": [
    "def metodo_LU_inversa(matrizA,B):\n",
    "    matrizinversa = matriz_inversa(matrizA)\n",
    "    return multiplicacion_matriz(matrizinversa,B)\n"
   ]
  },
  {
   "cell_type": "code",
   "execution_count": 150,
   "id": "e0ab70ed",
   "metadata": {},
   "outputs": [
    {
     "name": "stdout",
     "output_type": "stream",
     "text": [
      "X = \n",
      "\n",
      "pivote = 2.0\n",
      "valor de m=  5/2\n",
      "Matriz =\n",
      " \n",
      "2\t            1\t            \n",
      "0\t            1/2\t            \n",
      "Matriz Inversa=\n",
      " \n",
      "1\t            0\t            \n",
      "-5/2\t            1\t            \n",
      "pivote = 0.5\n",
      "valor de m=  2\n",
      "Matriz =\n",
      " \n",
      "2\t            1\t            \n",
      "0\t            1\t            \n",
      "Matriz Inversa=\n",
      " \n",
      "1\t            0\t            \n",
      "-5\t            2\t            \n",
      "valor de m=  1/2\n",
      "Matriz =\n",
      " \n",
      "1\t            1/2\t            \n",
      "0\t            1\t            \n",
      "Matriz Inversa=\n",
      " \n",
      "1/2\t            0\t            \n",
      "-5\t            2\t            \n",
      "valor de m=  1/2\n",
      "Matriz =\n",
      " \n",
      "1\t            0\t            \n",
      "0\t            1\t            \n",
      "Matriz Inversa=\n",
      " \n",
      "3\t            -1\t            \n",
      "-5\t            2\t            \n"
     ]
    },
    {
     "data": {
      "text/latex": [
       "$\\displaystyle \\left[\\begin{matrix}1\\\\-1\\end{matrix}\\right]$"
      ],
      "text/plain": [
       "Matrix([\n",
       "[ 1],\n",
       "[-1]])"
      ]
     },
     "execution_count": 150,
     "metadata": {},
     "output_type": "execute_result"
    }
   ],
   "source": [
    "matrixaux = sp.Matrix([\n",
    "    [2,1],\n",
    "    [5,3]\n",
    "])\n",
    "matrixb = sp.Matrix([\n",
    "    [1],\n",
    "    [2]\n",
    "])\n",
    "print(\"X = \\n\")\n",
    "metodo_LU_inversa(matrixaux,matrixb)"
   ]
  },
  {
   "cell_type": "code",
   "execution_count": null,
   "id": "99d3dd02",
   "metadata": {},
   "outputs": [],
   "source": []
  },
  {
   "cell_type": "markdown",
   "id": "9b217f3e",
   "metadata": {},
   "source": [
    "# Descomposición LU : DOOLITTLE"
   ]
  },
  {
   "cell_type": "code",
   "execution_count": 38,
   "id": "319f27bb",
   "metadata": {},
   "outputs": [],
   "source": [
    "def metodo_Doolittle(matriz):\n",
    "    n = matriz.rows\n",
    "    matrizU = sp.zeros(n,n)\n",
    "    matrizL = sp.zeros(n,n)\n",
    "    for i in range(n):\n",
    "        matrizL[i,i] = 1\n",
    "    for i in range(n):\n",
    "        for j in range(i,n):\n",
    "            matrizU[i,j] = matriz[i,j] - sum(matrizL[i,k]*matrizU[k,j] for k in range(i))\n",
    "        for j in range(i+1,n):\n",
    "            matrizL[j,i] = (1/matrizU[i,i])*(matriz[j,i]- sum(matrizL[j,k]*matrizU[k,i] for k in range(i)))\n",
    "    return matrizL,matrizU\n",
    "    "
   ]
  },
  {
   "cell_type": "code",
   "execution_count": 39,
   "id": "dabe212d",
   "metadata": {},
   "outputs": [
    {
     "data": {
      "text/plain": [
       "(Matrix([\n",
       " [   1,     0,      0, 0],\n",
       " [-1/4,     1,      0, 0],\n",
       " [   0, -4/15,      1, 0],\n",
       " [   0,     0, -15/56, 1]]),\n",
       " Matrix([\n",
       " [4,   -1,     0,      0],\n",
       " [0, 15/4,    -1,      0],\n",
       " [0,    0, 56/15,     -1],\n",
       " [0,    0,     0, 209/56]]))"
      ]
     },
     "execution_count": 39,
     "metadata": {},
     "output_type": "execute_result"
    }
   ],
   "source": [
    "matrizDoolittle = sp.Matrix([\n",
    "    [4, -1, 0, 0],\n",
    "    [-1, 4, -1, 0],\n",
    "    [0, -1, 4, -1],\n",
    "    [0, 0, -1, 4]\n",
    "])\n",
    "metodo_Doolittle(matrizDoolittle)"
   ]
  },
  {
   "cell_type": "markdown",
   "id": "63060369",
   "metadata": {},
   "source": [
    "# Descomposición LU : CROUT"
   ]
  },
  {
   "cell_type": "code",
   "execution_count": 40,
   "id": "f8d617aa",
   "metadata": {},
   "outputs": [],
   "source": [
    "def metodo_Crout(matriz):\n",
    "    n = matriz.rows\n",
    "    matrizL = sp.zeros(n,n)\n",
    "    matrizU = sp.zeros(n,n)\n",
    "    for i in range(n):\n",
    "        matrizU[i,i] = 1\n",
    "    for i in range(n):\n",
    "        for j in range(i,n):\n",
    "            matrizL[j,i] = matriz[j,i] - sum(matrizL[j,k]*matrizU[k,i] for k in range(i))\n",
    "        for j in range(i+1,n):\n",
    "            matrizU[i,j] = (matriz[i,j] - sum(matrizL[i,k]*matrizU[k,j] for k in range(i)))/matrizL[i,i]\n",
    "    return matrizL,matrizU"
   ]
  },
  {
   "cell_type": "code",
   "execution_count": 41,
   "id": "d6d1c5d9",
   "metadata": {},
   "outputs": [
    {
     "data": {
      "text/plain": [
       "(Matrix([\n",
       " [ 3,    0,    0,     0],\n",
       " [-1, -4/3,    0,     0],\n",
       " [ 2, 11/3, 33/4,     0],\n",
       " [ 7, 10/3,  5/2, 61/11]]),\n",
       " Matrix([\n",
       " [1, -1/3,   4/3, -1/3],\n",
       " [0,    1, -13/4, -1/2],\n",
       " [0,    0,     1, 2/11],\n",
       " [0,    0,     0,    1]]))"
      ]
     },
     "execution_count": 41,
     "metadata": {},
     "output_type": "execute_result"
    }
   ],
   "source": [
    "matrizAux = sp.Matrix([\n",
    "    [3,-1,4,-1],\n",
    "    [-1,-1,3,1],\n",
    "    [2,3,-1,-1],\n",
    "    [7,1,1,2]\n",
    "])\n",
    "metodo_Crout(matrizAux)"
   ]
  },
  {
   "cell_type": "markdown",
   "id": "3f559969",
   "metadata": {},
   "source": [
    "# Descomposición LU : CHOLESKY"
   ]
  },
  {
   "cell_type": "code",
   "execution_count": 42,
   "id": "4e82478c",
   "metadata": {},
   "outputs": [],
   "source": [
    "def matriz_transpuesta(matriz):\n",
    "    n = matriz.rows\n",
    "    matrizT = sp.zeros(n,n)\n",
    "    for i in range(n):\n",
    "        for j in range(n):\n",
    "            matrizT[i,j] = matriz[j,i]\n",
    "    return matrizT\n",
    "def boolea_matriz_simétrica(matriz):\n",
    "    n = matriz.rows\n",
    "    matriztranspuesta = matriz_transpuesta(matriz)\n",
    "    for i in range(n):\n",
    "        for j in range(n):\n",
    "            if matriz[i,j] == matriztranspuesta[i,j]:\n",
    "                continue\n",
    "            else:\n",
    "                return False\n",
    "    return True"
   ]
  },
  {
   "cell_type": "code",
   "execution_count": 43,
   "id": "ed445243",
   "metadata": {},
   "outputs": [],
   "source": [
    "def metodo_Cholesky(matriz):\n",
    "    if boolea_matriz_simétrica(matriz):\n",
    "        n= matriz.rows\n",
    "        matrizU = sp.zeros(n,n)\n",
    "        for i in range(n):\n",
    "            matrizU[i,i]=sp.sqrt(matriz[i,i]-(sum(matrizU[k,i]**2 for k in range(i))))\n",
    "            for j in range(i+1,n):\n",
    "                matrizU[i,j]=(matriz[i,j]-(sum(matrizU[k,i]*matrizU[k,j] for k in range(i))))/matrizU[i,i]\n",
    "        matrizUT = matriz_transpuesta(matrizU)\n",
    "            \n",
    "        return matrizU,matrizUT\n",
    "    else:\n",
    "        print(\"No es simetrica\")\n",
    "    "
   ]
  },
  {
   "cell_type": "code",
   "execution_count": 44,
   "id": "fcd2156b",
   "metadata": {},
   "outputs": [
    {
     "name": "stdout",
     "output_type": "stream",
     "text": [
      "Matrix([[2, 1, 1], [0, 3, 1], [0, 0, 2]])\n",
      "Matrix([[2, 0, 0], [1, 3, 0], [1, 1, 2]])\n"
     ]
    },
    {
     "data": {
      "text/latex": [
       "$\\displaystyle \\left[\\begin{matrix}4 & 2 & 2\\\\2 & 10 & 4\\\\2 & 4 & 6\\end{matrix}\\right]$"
      ],
      "text/plain": [
       "Matrix([\n",
       "[4,  2, 2],\n",
       "[2, 10, 4],\n",
       "[2,  4, 6]])"
      ]
     },
     "execution_count": 44,
     "metadata": {},
     "output_type": "execute_result"
    }
   ],
   "source": [
    "matrizSimetrica = sp.Matrix([\n",
    "    [4,2,2],\n",
    "    [2,10,4],\n",
    "    [2,4,6]\n",
    "])\n",
    "matrizU,matrizUT= metodo_Cholesky(matrizSimetrica)\n",
    "print(matrizU)\n",
    "print(matrizUT)\n",
    "multiplicacion_matriz(matrizUT,matrizU)"
   ]
  },
  {
   "cell_type": "code",
   "execution_count": 45,
   "id": "1b6757ba",
   "metadata": {},
   "outputs": [],
   "source": [
    "def sustitucion_delante(matriz,b):\n",
    "    n = matriz.rows\n",
    "    x = sp.zeros(n,1)\n",
    "    for i in range(n):\n",
    "        suma = b[i,0]-sum(matriz[i,j]*x[j] for j in range(i))\n",
    "        x[i] = suma/matriz[i,i]\n",
    "    return x\n",
    "def sustitucion_atras(matriz,b):\n",
    "    n = matriz.rows\n",
    "    x = sp.zeros(n,1)\n",
    "    for i in reversed(range(n)):\n",
    "        suma = b[i,0]-sum(matriz[i,j]*x[j] for j in range(n-1,i,-1))\n",
    "        x[i] = suma/matriz[i,i]\n",
    "    return x"
   ]
  },
  {
   "cell_type": "code",
   "execution_count": 46,
   "id": "2d73c5e8",
   "metadata": {},
   "outputs": [],
   "source": [
    "def descomposicionLU(matriz,b):\n",
    "    matrizL,matrizU = metodo_Doolittle(matriz)\n",
    "    print(matrizL)\n",
    "    print(matrizU)\n",
    "    y = sustitucion_delante(matrizL,b)\n",
    "    print(y)\n",
    "    x = sustitucion_atras(matrizU,y)\n",
    "    return x"
   ]
  },
  {
   "cell_type": "code",
   "execution_count": 47,
   "id": "4f07bc38",
   "metadata": {},
   "outputs": [
    {
     "name": "stdout",
     "output_type": "stream",
     "text": [
      "Matrix([[1, 0, 0], [2, 1, 0], [-1, 7, 1]])\n",
      "Matrix([[2, 3, 1], [0, 1, 5], [0, 0, -29]])\n",
      "Matrix([[1], [0], [4]])\n"
     ]
    },
    {
     "data": {
      "text/latex": [
       "$\\displaystyle \\left[\\begin{matrix}- \\frac{27}{58}\\\\\\frac{20}{29}\\\\- \\frac{4}{29}\\end{matrix}\\right]$"
      ],
      "text/plain": [
       "Matrix([\n",
       "[-27/58],\n",
       "[ 20/29],\n",
       "[ -4/29]])"
      ]
     },
     "execution_count": 47,
     "metadata": {},
     "output_type": "execute_result"
    }
   ],
   "source": [
    "matrizdescomLU = sp.Matrix([\n",
    "    [2,3,1],\n",
    "    [4,7,7],\n",
    "    [-2,4,5]\n",
    "])\n",
    "matrizB = sp.Matrix([\n",
    "    [1],\n",
    "    [2],\n",
    "    [3]\n",
    "])\n",
    "descomposicionLU(matrizdescomLU,matrizB)"
   ]
  },
  {
   "cell_type": "markdown",
   "id": "9ee0eacb",
   "metadata": {},
   "source": [
    "# GAUSS - JACOBI"
   ]
  },
  {
   "cell_type": "code",
   "execution_count": null,
   "id": "bfc919ec",
   "metadata": {},
   "outputs": [],
   "source": [
    "def metodo_gauss_jacobi(ecuaciones,numincognitas,iteraciones,tolerancia):\n",
    "    x = sp.symbols(f'x0:{numincognitas}')\n",
    "    x1 = [0]*numincognitas\n",
    "    x2 = [0.0]*numincognitas\n",
    "    x3 = [0.0]*numincognitas\n",
    "    encabezado=\"i \\t\"\n",
    "    iteracion=\"\"\n",
    "    for i in range(numincognitas):\n",
    "        encabezado+=(\"x\"+str(i)+\"              \t     \\t\")\n",
    "        despeje = sp.solve(ecuaciones[i],x[i])\n",
    "        x1[i] = despeje[0]\n",
    "        iteracion+= str(x2[i])+\"                    \\t\"\n",
    "    \n",
    "    encabezado+=\"Tol\\t\"\n",
    "    print(encabezado)\n",
    "    print(\"-\"*90)\n",
    "    print(f\"{0}\\t{iteracion}\\t\\t-----\")\n",
    "    iteracion=\"\"\n",
    "    i=1\n",
    "    while i < iteraciones+1:\n",
    "        for j in range(numincognitas):\n",
    "            x3[j] = x1[j].evalf(subs={x[k]: x2[k] for k in range(numincognitas)}) #subs \n",
    "            iteracion += str(x3[j])+\"\\t\"\n",
    "        error = sum((abs(x3[j]-x2[j])/abs(x3[j])) for j in range(numincognitas))/numincognitas\n",
    "        print(f\"{i}\\t{iteracion}\\t\\t{error}\")\n",
    "        if error < tolerancia:\n",
    "            return x3\n",
    "        x2 =x3\n",
    "        i +=1\n",
    "        iteracion=\"\""
   ]
  },
  {
   "cell_type": "code",
   "execution_count": 95,
   "id": "ca7e104e",
   "metadata": {},
   "outputs": [
    {
     "name": "stdout",
     "output_type": "stream",
     "text": [
      "i \tx0              \t     \tx1              \t     \tx2              \t     \tTol\t\n",
      "------------------------------------------------------------------------------------------\n",
      "0\t0.0                    \t0.0                    \t0.0                    \t\t\t-----\n",
      "1\t0.900000000000000\t-2.20000000000000\t2.20000000000000\t\t\t1.00000000000000\n",
      "2\t1.12000000000000\t-2.09200000000000\t3.05160000000000\t\t\t0\n"
     ]
    },
    {
     "data": {
      "text/plain": [
       "[1.12000000000000, -2.09200000000000, 3.05160000000000]"
      ]
     },
     "execution_count": 95,
     "metadata": {},
     "output_type": "execute_result"
    }
   ],
   "source": [
    "x0,x1,x2 = sp.symbols(f'x0,x1,x2')\n",
    "ecuaciones = [10*x0 + 2*x1 + x2 -9,\n",
    "               2*x0+ 20*x1 -2*x2 +44,\n",
    "               -2*x0+3*x1+10*x2-22]\n",
    "metodo_gauss_jacobi(ecuaciones,3,6,0.0001)"
   ]
  },
  {
   "cell_type": "code",
   "execution_count": null,
   "id": "34a423f0",
   "metadata": {},
   "outputs": [],
   "source": []
  },
  {
   "cell_type": "markdown",
   "id": "4f93af1a",
   "metadata": {},
   "source": [
    "# GAUSS - SEIDEL"
   ]
  },
  {
   "cell_type": "code",
   "execution_count": 106,
   "id": "11447ef9",
   "metadata": {},
   "outputs": [],
   "source": [
    "def metodo_gauss_seidel(ecuaciones,numincognitas,iteraciones,tolerancia):\n",
    "    x = sp.symbols(f'x0:{numincognitas}')\n",
    "    x1 = [0]*numincognitas\n",
    "    x2 = [0.0]*numincognitas\n",
    "    x3 = [0.0]*numincognitas\n",
    "    encabezado=\"i \\t\"\n",
    "    iteracion=\"\"\n",
    "    for i in range(numincognitas):\n",
    "        encabezado+=(\"x\"+str(i)+\"              \t     \\t\")\n",
    "        despeje = sp.solve(ecuaciones[i],x[i])\n",
    "        x1[i] = despeje[0]\n",
    "        iteracion+= str(x2[i])+\"                    \\t\"\n",
    "    \n",
    "    encabezado+=\"Tol\\t\"\n",
    "    print(encabezado)\n",
    "    print(\"-\"*90)\n",
    "    print(f\"{0}\\t{iteracion}\\t\\t-----\")\n",
    "    iteracion=\"\"\n",
    "    i=1\n",
    "    while i < iteraciones+1:\n",
    "        for j in range(numincognitas):\n",
    "            subsaux={}\n",
    "            for k in range(numincognitas):\n",
    "                if j!=k:\n",
    "                    if j<k:\n",
    "                        subsaux[x[k]]=x2[k]\n",
    "                    elif j>k:\n",
    "                        subsaux[x[k]]=x3[k]\n",
    "            x3[j] = x1[j].evalf(subs=subsaux) #subs \n",
    "            iteracion += str(x3[j])+\"\\t\"\n",
    "        error = sum((abs(x3[j]-x2[j])/abs(x3[j])) for j in range(numincognitas))/numincognitas\n",
    "        print(f\"{i}\\t{iteracion}\\t\\t{error}\")\n",
    "        if error < tolerancia:\n",
    "            return x3\n",
    "        x2 =x3\n",
    "        i +=1\n",
    "        iteracion=\"\""
   ]
  },
  {
   "cell_type": "code",
   "execution_count": 107,
   "id": "dbf0c74a",
   "metadata": {},
   "outputs": [
    {
     "name": "stdout",
     "output_type": "stream",
     "text": [
      "i \tx0              \t     \tx1              \t     \tx2              \t     \tTol\t\n",
      "------------------------------------------------------------------------------------------\n",
      "0\t0.0                    \t0.0                    \t0.0                    \t\t\t-----\n",
      "1\t0.900000000000000\t-2.29000000000000\t3.06700000000000\t\t\t1.00000000000000\n",
      "2\t1.05130000000000\t-1.99843000000000\t3.00978900000000\t\t\t0\n"
     ]
    },
    {
     "data": {
      "text/plain": [
       "[1.05130000000000, -1.99843000000000, 3.00978900000000]"
      ]
     },
     "execution_count": 107,
     "metadata": {},
     "output_type": "execute_result"
    }
   ],
   "source": [
    "x0,x1,x2 = sp.symbols(f'x0,x1,x2')\n",
    "ecuaciones = [10*x0 + 2*x1 + x2 -9,\n",
    "               2*x0+ 20*x1 -2*x2 +44,\n",
    "               -2*x0+3*x1+10*x2-22]\n",
    "metodo_gauss_seidel(ecuaciones,3,6,0.0001)"
   ]
  },
  {
   "cell_type": "code",
   "execution_count": null,
   "id": "9743791c",
   "metadata": {},
   "outputs": [],
   "source": []
  }
 ],
 "metadata": {
  "kernelspec": {
   "display_name": "davidpiton",
   "language": "python",
   "name": "python3"
  },
  "language_info": {
   "codemirror_mode": {
    "name": "ipython",
    "version": 3
   },
   "file_extension": ".py",
   "mimetype": "text/x-python",
   "name": "python",
   "nbconvert_exporter": "python",
   "pygments_lexer": "ipython3",
   "version": "3.13.3"
  }
 },
 "nbformat": 4,
 "nbformat_minor": 5
}
